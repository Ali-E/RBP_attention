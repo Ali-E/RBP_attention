{
 "cells": [
  {
   "cell_type": "code",
   "execution_count": 1,
   "id": "trying-grocery",
   "metadata": {},
   "outputs": [],
   "source": [
    "import pandas as pd\n",
    "import matplotlib.pyplot as plt\n",
    "import numpy as np"
   ]
  },
  {
   "cell_type": "code",
   "execution_count": 2,
   "id": "double-carolina",
   "metadata": {},
   "outputs": [],
   "source": [
    "# native_exon_inclusion_file = \"Data/se_splice_data/HepG2_natively_included_cassette_exons\"\n",
    "# native_exon_exclusion_file = \"Data/se_splice_data/HepG2_natively_excluded_cassette_exons\"\n",
    "\n",
    "native_exon_inclusion_file = \"Data/se_splice_data/K562_natively_included_cassette_exons\"\n",
    "native_exon_exclusion_file = \"Data/se_splice_data/K562_natively_excluded_cassette_exons\"\n",
    "native_exon_all_file = \"Data/se_splice_data/K562_native_cassette_exons_all\"\n",
    "native_exon_constitutive_file = \"Data/se_splice_data/K562_constitutive_exons\"\n",
    "\n",
    "CONST = 500"
   ]
  },
  {
   "cell_type": "code",
   "execution_count": 3,
   "id": "suburban-bullet",
   "metadata": {},
   "outputs": [
    {
     "name": "stdout",
     "output_type": "stream",
     "text": [
      "                                          annotation           low_exon  \\\n",
      "0  chr1|-|1653150-1654026|1654073-1654146|1653150...    1653034-1653150   \n",
      "1  chr1|-|1688047-1688217|1688321-1688619|1688047...    1687941-1688047   \n",
      "2  chr1|-|2121220-2124283|2124414-2125077|2121220...    2121151-2121220   \n",
      "3  chr1|+|10165802-10166254|10166641-10177516|101...  10165573-10165802   \n",
      "4  chr1|+|11805894-11806183|11806280-11807496|118...  11805859-11805894   \n",
      "\n",
      "        skipped_exon            hi_exon       incl         excl  \n",
      "0    1654026-1654073    1654146-1654270  2192,7868  17572,63166  \n",
      "1    1688217-1688321    1688619-1688707   693,4821   5748,33635  \n",
      "2    2124283-2124414    2125077-2125349   986,2600   8067,21547  \n",
      "3  10166254-10166641  10177516-10177658   388,2672   3166,18937  \n",
      "4  11806183-11806280  11807496-11807602  1152,3470   9400,25577  \n"
     ]
    }
   ],
   "source": [
    "df_ex_inc = pd.read_csv(native_exon_inclusion_file, sep='\\t')\n",
    "df_ex_exc = pd.read_csv(native_exon_exclusion_file, sep='\\t')\n",
    "df_ex_con = pd.read_csv(native_exon_constitutive_file, sep='\\t')\n",
    "df_ex_all = pd.read_csv(native_exon_all_file, sep='\\t')\n",
    "print(df_ex_exc.head())"
   ]
  },
  {
   "cell_type": "markdown",
   "id": "asian-colleague",
   "metadata": {},
   "source": [
    "## Compute PSI values for exons:"
   ]
  },
  {
   "cell_type": "code",
   "execution_count": 4,
   "id": "greenhouse-plenty",
   "metadata": {},
   "outputs": [],
   "source": [
    "def compute_psi(row, exp_num, read_length=100):\n",
    "    inc_exc_1 = row['incl'] # incl, excl labels seem to be inaccurate in the original files!\n",
    "    inc_exc_2 = row['excl']\n",
    "    inc_exc = [inc_exc_1, inc_exc_2]\n",
    "    \n",
    "    inc, exc = [int(num) for num in inc_exc[exp_num].split(',')]\n",
    "    \n",
    "    exon_start, exon_end = [int(num) for num in row['skipped_exon'].split('-')]\n",
    "    exon_length = exon_end-exon_start+1\n",
    "    \n",
    "    # IR_norm = inc/(exon_length + read_length - 1.)\n",
    "    IR_norm = inc/(read_length - 1.)\n",
    "    ER_norm = exc/(read_length - 1.)\n",
    "    \n",
    "    psi = IR_norm/(IR_norm+ER_norm)\n",
    "    return psi"
   ]
  },
  {
   "cell_type": "code",
   "execution_count": 5,
   "id": "intelligent-wayne",
   "metadata": {},
   "outputs": [],
   "source": [
    "def compute_length(row):\n",
    "    exon_start, exon_end = [int(num) for num in row['skipped_exon'].split('-')]\n",
    "    exon_length = exon_end-exon_start+1\n",
    "    return exon_length"
   ]
  },
  {
   "cell_type": "code",
   "execution_count": 6,
   "id": "pointed-decimal",
   "metadata": {},
   "outputs": [
    {
     "name": "stdout",
     "output_type": "stream",
     "text": [
      "0.769019537205901\n",
      "0.9769866729369965\n",
      "0.9284718275865678\n"
     ]
    },
    {
     "data": {
      "image/png": "[encoded data removed]",
      "text/plain": [
       "<Figure size 432x288 with 1 Axes>"
      ]
     },
     "metadata": {
      "needs_background": "light"
     },
     "output_type": "display_data"
    }
   ],
   "source": [
    "df_ex_inc['psi_1'] = df_ex_inc.apply(lambda row: compute_psi(row, 0), axis=1)\n",
    "df_ex_inc['psi_2'] = df_ex_inc.apply(lambda row: compute_psi(row, 1), axis=1)\n",
    "df_ex_inc['length'] = df_ex_inc.apply(lambda row: compute_length(row), axis=1)\n",
    "df_ex_inc['avg'] = (df_ex_inc['psi_1'] + df_ex_inc['psi_2'])/2.\n",
    "# print(df_ex_inc.head())\n",
    "\n",
    "plt.hist(df_ex_inc['avg'], bins=30)\n",
    "print(min(df_ex_inc['avg']))\n",
    "print(max(df_ex_inc['avg']))\n",
    "print(np.mean(df_ex_inc['psi_1']))\n",
    "plt.savefig('including_psi_hist.png')"
   ]
  },
  {
   "cell_type": "code",
   "execution_count": 7,
   "id": "domestic-steering",
   "metadata": {},
   "outputs": [
    {
     "name": "stdout",
     "output_type": "stream",
     "text": [
      "Empty DataFrame\n",
      "Columns: [annotation, low_exon, skipped_exon, hi_exon, incl, excl, psi_1, psi_2, length, avg]\n",
      "Index: []\n",
      "too long 16\n",
      "too short: 7\n",
      "4\n",
      "5081\n"
     ]
    },
    {
     "data": {
      "image/png": "[encoded data removed]",
      "text/plain": [
       "<Figure size 432x288 with 1 Axes>"
      ]
     },
     "metadata": {
      "needs_background": "light"
     },
     "output_type": "display_data"
    }
   ],
   "source": [
    "df_ex_inc_weird = df_ex_inc[df_ex_inc['avg'] < 0.5]\n",
    "print(df_ex_inc_weird)\n",
    "\n",
    "print('too long', len(df_ex_inc[df_ex_inc['length'] > 1000]))\n",
    "print('too short:', len(df_ex_inc[df_ex_inc['length'] < 20]))\n",
    "plt.hist(df_ex_inc['length'], bins=30)\n",
    "print(min(df_ex_inc['length']))\n",
    "print(max(df_ex_inc['length']))"
   ]
  },
  {
   "cell_type": "code",
   "execution_count": 8,
   "id": "united-pasta",
   "metadata": {},
   "outputs": [
    {
     "name": "stdout",
     "output_type": "stream",
     "text": [
      "0.09187691787054503\n",
      "0.5114636096143341\n"
     ]
    },
    {
     "data": {
      "image/png": "[encoded data removed]",
      "text/plain": [
       "<Figure size 432x288 with 1 Axes>"
      ]
     },
     "metadata": {
      "needs_background": "light"
     },
     "output_type": "display_data"
    }
   ],
   "source": [
    "df_ex_exc['psi_1'] = df_ex_exc.apply(lambda row: compute_psi(row, 0), axis=1)\n",
    "df_ex_exc['psi_2'] = df_ex_exc.apply(lambda row: compute_psi(row, 1), axis=1)\n",
    "df_ex_exc['avg'] = (df_ex_exc['psi_1'] + df_ex_exc['psi_2'])/2.\n",
    "# print(df_ex_exc.head())\n",
    "\n",
    "plt.hist(df_ex_exc['avg'], bins=30)\n",
    "print(min(df_ex_exc['avg']))\n",
    "print(max(df_ex_exc['avg']))\n",
    "plt.savefig('excluding_psi_hist.png')"
   ]
  },
  {
   "cell_type": "code",
   "execution_count": 9,
   "id": "homeless-samuel",
   "metadata": {},
   "outputs": [
    {
     "name": "stdout",
     "output_type": "stream",
     "text": [
      "0.09264094955489614\n",
      "0.9768912987348309\n",
      "0.7667172481628632\n",
      "284\n",
      "417\n"
     ]
    },
    {
     "data": {
      "image/png": "[encoded data removed]",
      "text/plain": [
       "<Figure size 432x288 with 1 Axes>"
      ]
     },
     "metadata": {
      "needs_background": "light"
     },
     "output_type": "display_data"
    }
   ],
   "source": [
    "df_ex_all['psi_1'] = df_ex_all.apply(lambda row: compute_psi(row, 0), axis=1)\n",
    "df_ex_all['psi_2'] = df_ex_all.apply(lambda row: compute_psi(row, 1), axis=1)\n",
    "df_ex_all['length'] = df_ex_all.apply(lambda row: compute_length(row), axis=1)\n",
    "df_ex_all['avg'] = (df_ex_all['psi_1'] + df_ex_all['psi_2'])/2.\n",
    "# print(df_ex_inc.head())\n",
    "\n",
    "plt.hist(df_ex_all['avg'], bins=30)\n",
    "print(min(df_ex_all['psi_1']))\n",
    "print(max(df_ex_all['psi_1']))\n",
    "print(np.mean(df_ex_all['psi_1']))\n",
    "# plt.savefig('all_psi_hist.png')\n",
    "\n",
    "df_ex_all_filtered = df_ex_all[df_ex_all['avg'] >= 0.5114637]\n",
    "df_ex_all_filtered = df_ex_all_filtered[df_ex_all_filtered['avg'] <= 0.7690195]\n",
    "print(len(df_ex_all_filtered))\n",
    "\n",
    "exc_inc_rbps_set = set(df_ex_exc['annotation']) | set(df_ex_inc['annotation'])\n",
    "df_ex_all_filtered = df_ex_all[~ df_ex_all['annotation'].isin(exc_inc_rbps_set)]\n",
    "print(len(df_ex_all_filtered))"
   ]
  },
  {
   "cell_type": "code",
   "execution_count": 10,
   "id": "shaped-embassy",
   "metadata": {},
   "outputs": [
    {
     "name": "stdout",
     "output_type": "stream",
     "text": [
      "total RBPs considered: 120\n"
     ]
    }
   ],
   "source": [
    "meta_data_file = \"Data/RBPs/bedfiles_metadata.csv\"\n",
    "meta_data = pd.read_csv(meta_data_file)\n",
    "# print(meta_data.head())\n",
    "meta_hg19 = meta_data[(meta_data[\"assembly\"]=='hg19') & (meta_data[\"cell_name\"]=='K562') & (meta_data[\"rep_num\"]=='1, 2')].reset_index(drop=True)\n",
    "# print(meta_hg19.head())\n",
    "print('total RBPs considered:', len(meta_hg19))"
   ]
  },
  {
   "cell_type": "code",
   "execution_count": 11,
   "id": "supposed-trailer",
   "metadata": {},
   "outputs": [
    {
     "name": "stdout",
     "output_type": "stream",
     "text": [
      "            stub    accession target rep_num cell_name assembly  site_count  \\\n",
      "81   ENCFF105PMR  ENCFF105PMR   SBDS    1, 2      K562     hg19           9   \n",
      "11   ENCFF832JDM  ENCFF832JDM   UTP3    1, 2      K562     hg19          19   \n",
      "1    ENCFF470JIH  ENCFF470JIH   PUS1    1, 2      K562     hg19          25   \n",
      "61   ENCFF803GSP  ENCFF803GSP  RPS11    1, 2      K562     hg19          28   \n",
      "115  ENCFF322GPD  ENCFF322GPD  SF3B1    1, 2      K562     hg19          29   \n",
      "\n",
      "       avg_len  \n",
      "81   37.444444  \n",
      "11   18.052632  \n",
      "1    28.840000  \n",
      "61   36.857143  \n",
      "115  46.689655  \n",
      "max_avg_len: 94.52269736842105\n",
      "min_avg_len: 16.12269938650307\n",
      "avg_len: 59.33211306609601\n"
     ]
    }
   ],
   "source": [
    "rbp_dict = {}\n",
    "len_list = []\n",
    "avg_len_list = []\n",
    "for idx, row in meta_hg19.iterrows():\n",
    "    stub = row[\"stub\"]\n",
    "    target = row[\"target\"]\n",
    "    rbp_file = \"Data/RBPs/bed_files/\"+ stub +\".bed.gz\"\n",
    "    df_rbp = pd.read_csv(rbp_file, header=None, sep='\\t')\n",
    "    df_rbp['len'] = df_rbp[2] - df_rbp[1] + 1\n",
    "    avg_len = np.mean(df_rbp['len'])\n",
    "    avg_len_list.append(avg_len)\n",
    "    rbp_dict[target] = df_rbp\n",
    "    len_list.append(len(df_rbp))\n",
    "meta_hg19['site_count'] = len_list\n",
    "meta_hg19['avg_len'] = avg_len_list\n",
    "meta_hg19 = meta_hg19.sort_values(by='site_count', ascending=True)\n",
    "print(meta_hg19.head())\n",
    "print('max_avg_len:', np.max(meta_hg19['avg_len']))\n",
    "print('min_avg_len:', np.min(meta_hg19['avg_len']))\n",
    "print('avg_len:', np.mean(meta_hg19['avg_len']))"
   ]
  },
  {
   "cell_type": "code",
   "execution_count": 12,
   "id": "announced-integer",
   "metadata": {},
   "outputs": [
    {
     "data": {
      "text/plain": [
       "(array([42., 17.,  6.,  8.,  6.,  6.,  4.,  4.,  6.,  2.,  3.,  1.,  1.,\n",
       "         1.,  2.,  0.,  3.,  1.,  1.,  0.,  1.,  0.,  0.,  1.,  0.,  0.,\n",
       "         0.,  1.,  1.,  0.,  0.,  0.,  0.,  0.,  0.,  1.,  0.,  0.,  0.,\n",
       "         1.]),\n",
       " array([9.00000e+00, 6.57200e+02, 1.30540e+03, 1.95360e+03, 2.60180e+03,\n",
       "        3.25000e+03, 3.89820e+03, 4.54640e+03, 5.19460e+03, 5.84280e+03,\n",
       "        6.49100e+03, 7.13920e+03, 7.78740e+03, 8.43560e+03, 9.08380e+03,\n",
       "        9.73200e+03, 1.03802e+04, 1.10284e+04, 1.16766e+04, 1.23248e+04,\n",
       "        1.29730e+04, 1.36212e+04, 1.42694e+04, 1.49176e+04, 1.55658e+04,\n",
       "        1.62140e+04, 1.68622e+04, 1.75104e+04, 1.81586e+04, 1.88068e+04,\n",
       "        1.94550e+04, 2.01032e+04, 2.07514e+04, 2.13996e+04, 2.20478e+04,\n",
       "        2.26960e+04, 2.33442e+04, 2.39924e+04, 2.46406e+04, 2.52888e+04,\n",
       "        2.59370e+04]),\n",
       " <BarContainer object of 40 artists>)"
      ]
     },
     "execution_count": 12,
     "metadata": {},
     "output_type": "execute_result"
    },
    {
     "data": {
      "image/png": "[encoded data removed]",
      "text/plain": [
       "<Figure size 432x288 with 1 Axes>"
      ]
     },
     "metadata": {
      "needs_background": "light"
     },
     "output_type": "display_data"
    }
   ],
   "source": [
    "plt.hist(meta_hg19['site_count'], bins=40)"
   ]
  },
  {
   "cell_type": "code",
   "execution_count": 13,
   "id": "iraqi-reproduction",
   "metadata": {},
   "outputs": [],
   "source": [
    "df_ex_inc['chr'] = df_ex_inc['annotation'].apply(lambda x: str(x).split(\"|\")[0])\n",
    "df_ex_inc['strand'] = df_ex_inc['annotation'].apply(lambda x: str(x).split(\"|\")[1])\n",
    "df_ex_inc['start'] = df_ex_inc['skipped_exon'].apply(lambda x: int(str(x).split(\"-\")[0]))\n",
    "df_ex_inc['end'] = df_ex_inc['skipped_exon'].apply(lambda x: int(str(x).split(\"-\")[1]))\n",
    "# print(df_ex_inc.head())\n",
    "df_ex_inc_pos = df_ex_inc[df_ex_inc['strand'] == '+']\n",
    "df_ex_inc_neg = df_ex_inc[df_ex_inc['strand'] == '-']\n",
    "\n",
    "inc_pos_tups = list(zip(df_ex_inc_pos['chr'], zip(df_ex_inc_pos['start'], df_ex_inc_pos['end'])))\n",
    "# pos_end_tups = list(zip(df_ex_inc_pos['chr'], df_ex_inc_pos['end']))\n",
    "\n",
    "inc_neg_tups = list(zip(df_ex_inc_neg['chr'], zip(df_ex_inc_neg['start'], df_ex_inc_neg['end'])))\n",
    "# neg_end_tups = list(zip(df_ex_inc_pos['chr'], df_ex_inc_neg['end']))\n",
    "# print(inc_neg_tups[:10])"
   ]
  },
  {
   "cell_type": "code",
   "execution_count": 14,
   "id": "complicated-tuition",
   "metadata": {},
   "outputs": [],
   "source": [
    "df_ex_exc['chr'] = df_ex_exc['annotation'].apply(lambda x: str(x).split(\"|\")[0])\n",
    "df_ex_exc['strand'] = df_ex_exc['annotation'].apply(lambda x: str(x).split(\"|\")[1])\n",
    "df_ex_exc['start'] = df_ex_exc['skipped_exon'].apply(lambda x: int(str(x).split(\"-\")[0]))\n",
    "df_ex_exc['end'] = df_ex_exc['skipped_exon'].apply(lambda x: int(str(x).split(\"-\")[1]))\n",
    "# print(df_ex_exc.head())\n",
    "df_ex_exc_pos = df_ex_exc[df_ex_exc['strand'] == '+']\n",
    "df_ex_exc_neg = df_ex_exc[df_ex_exc['strand'] == '-']\n",
    "\n",
    "exc_pos_tups = list(zip(df_ex_exc_pos['chr'], zip(df_ex_exc_pos['start'], df_ex_exc_pos['end'])))\n",
    "\n",
    "exc_neg_tups = list(zip(df_ex_exc_neg['chr'], zip(df_ex_exc_neg['start'], df_ex_exc_neg['end'])))\n",
    "# print(exc_neg_tups[:10])"
   ]
  },
  {
   "cell_type": "code",
   "execution_count": 15,
   "id": "young-logan",
   "metadata": {},
   "outputs": [],
   "source": [
    "df_ex_con['chr'] = df_ex_con['annotation'].apply(lambda x: str(x).split(\"|\")[0])\n",
    "df_ex_con['strand'] = df_ex_con['annotation'].apply(lambda x: str(x).split(\"|\")[1])\n",
    "df_ex_con['start'] = df_ex_con['skipped_exon'].apply(lambda x: int(str(x).split(\"-\")[0]))\n",
    "df_ex_con['end'] = df_ex_con['skipped_exon'].apply(lambda x: int(str(x).split(\"-\")[1]))\n",
    "# print(df_ex_exc.head())\n",
    "df_ex_con_pos = df_ex_con[df_ex_con['strand'] == '+']\n",
    "df_ex_con_neg = df_ex_con[df_ex_con['strand'] == '-']\n",
    "\n",
    "con_pos_tups = list(zip(df_ex_con_pos['chr'], zip(df_ex_con_pos['start'], df_ex_con_pos['end'])))\n",
    "\n",
    "con_neg_tups = list(zip(df_ex_con_neg['chr'], zip(df_ex_con_neg['start'], df_ex_con_neg['end'])))\n",
    "# print(exc_neg_tups[:10])"
   ]
  },
  {
   "cell_type": "code",
   "execution_count": 16,
   "id": "reported-guest",
   "metadata": {},
   "outputs": [
    {
     "name": "stdout",
     "output_type": "stream",
     "text": [
      "dict_keys(['chr1', 'chr10', 'chr11', 'chr12', 'chr13', 'chr14', 'chr15', 'chr16', 'chr17', 'chr18', 'chr19', 'chr2', 'chr20', 'chr21', 'chr22', 'chr3', 'chr4', 'chr5', 'chr6', 'chr7', 'chr8', 'chr9', 'chrX'])\n"
     ]
    }
   ],
   "source": [
    "def tup_to_dict(tup_list):\n",
    "    res_dict = {}\n",
    "    for tup in tup_list:\n",
    "        if tup[0] in res_dict:\n",
    "            res_dict[tup[0]].append(tup[1])\n",
    "        else:\n",
    "            res_dict[tup[0]] = []\n",
    "            res_dict[tup[0]].append(tup[1])\n",
    "    return res_dict\n",
    "\n",
    "inc_pos_dict = tup_to_dict(inc_pos_tups)\n",
    "# pos_end_dict = tup_to_dict(pos_end_tups)\n",
    "\n",
    "inc_neg_dict = tup_to_dict(inc_neg_tups)\n",
    "# neg_end_dict = tup_to_dict(neg_end_tups)\n",
    "print(inc_neg_dict.keys())\n",
    "\n",
    "\n",
    "exc_pos_dict = tup_to_dict(exc_pos_tups)\n",
    "exc_neg_dict = tup_to_dict(exc_neg_tups)\n",
    "\n",
    "con_pos_dict = tup_to_dict(con_pos_tups)\n",
    "con_neg_dict = tup_to_dict(con_neg_tups)"
   ]
  },
  {
   "cell_type": "code",
   "execution_count": 17,
   "id": "serious-times",
   "metadata": {},
   "outputs": [
    {
     "name": "stdout",
     "output_type": "stream",
     "text": [
      "number of overlapping exons:  0\n"
     ]
    }
   ],
   "source": [
    "count_overlapping_exons = 0\n",
    "for chrom in exc_pos_dict:\n",
    "    tups = inc_pos_dict[chrom]\n",
    "    for tup1_idx in range(len(tups)-1):\n",
    "        tup1 = tups[tup1_idx]\n",
    "        for tup2_idx in range(tup1_idx+1, len(tups)):\n",
    "            tup2 = tups[tup2_idx]\n",
    "            if tup1[0] < tup2[0] and tup1[1] > tup2[0]:\n",
    "                print(tup1, tup2)\n",
    "                count_overlapping_exons += 1 \n",
    "            elif tup2[0] < tup1[0] and tup2[1] > tup1[0]:\n",
    "                print(tup1, tup2)\n",
    "                count_overlapping_exons += 1 \n",
    "print('number of overlapping exons: ', count_overlapping_exons)"
   ]
  },
  {
   "cell_type": "code",
   "execution_count": 18,
   "id": "floating-therapy",
   "metadata": {},
   "outputs": [],
   "source": [
    "def get_buckets(df_rbp, exon_loci_dict, const=500):\n",
    "    bucket_right = [0 for i in range(const)]\n",
    "    bucket_left = [0 for i in range(const)]\n",
    "    for idx, row in df_rbp.iterrows():\n",
    "        chromosom = row[0]\n",
    "        start = row[1]\n",
    "        end = row[2]\n",
    "        if chromosom in exon_loci_dict:\n",
    "            for tup_str in exon_loci_dict[chromosom]:\n",
    "                tup = (int(tup_str[0]), int(tup_str[1]))\n",
    "                if tup[1] >= end and tup[0] >= start and tup[0] <= end + const:\n",
    "                    idx_start = max(0, tup[0] - end -1)\n",
    "                    idx_end = min(const-1, tup[0] - start -1)\n",
    "                    for i in range(idx_start, idx_end+1):\n",
    "                        bucket_left[i] += 1\n",
    "                elif tup[0] <= start and tup[1] <= end and tup[1] >= start - const:\n",
    "                    idx_start = max(0, start-tup[1] -1)\n",
    "                    idx_end = min(const-1, end-tup[1] -1)\n",
    "                    for i in range(idx_start, idx_end+1):\n",
    "                        bucket_right[i] += 1\n",
    "\n",
    "    return np.array(bucket_right), np.array(bucket_left)\n",
    "            "
   ]
  },
  {
   "cell_type": "markdown",
   "id": "desperate-institution",
   "metadata": {},
   "source": [
    "# Processing an RBP:"
   ]
  },
  {
   "cell_type": "code",
   "execution_count": 19,
   "id": "imperial-machinery",
   "metadata": {},
   "outputs": [
    {
     "name": "stdout",
     "output_type": "stream",
     "text": [
      "       0          1          2             3     4  5         6          7  8  \\\n",
      "0   chr1   45980491   45980544  AQR_K562_IDR  1000  -  4.643392   6.991204 -1   \n",
      "1  chr16   28967237   28967365  AQR_K562_IDR  1000  +  4.102966  28.879887 -1   \n",
      "2   chr1  155891600  155891630  AQR_K562_IDR  1000  -  3.715484   6.320524 -1   \n",
      "3  chr16   72132514   72132566  AQR_K562_IDR  1000  +  5.621119   6.753203 -1   \n",
      "4   chr1  247493223  247493244  AQR_K562_IDR  1000  -  4.085044   5.479262 -1   \n",
      "\n",
      "   9  len  \n",
      "0 -1   54  \n",
      "1 -1  129  \n",
      "2 -1   31  \n",
      "3 -1   53  \n",
      "4 -1   22  \n",
      "25937\n"
     ]
    }
   ],
   "source": [
    "df_rbp = rbp_dict['AQR']\n",
    "print(df_rbp.head())\n",
    "df_rbp_pos = df_rbp[df_rbp[5] == '+']\n",
    "df_rbp_neg = df_rbp[df_rbp[5] == '-']\n",
    "print(len(df_rbp))"
   ]
  },
  {
   "cell_type": "code",
   "execution_count": 20,
   "id": "revised-congo",
   "metadata": {},
   "outputs": [],
   "source": [
    "inc_pos_bucket_right, inc_pos_bucket_left = get_buckets(df_rbp_pos, inc_pos_dict)\n",
    "inc_neg_bucket_left, inc_neg_bucket_right = get_buckets(df_rbp_neg, inc_neg_dict)\n",
    "\n",
    "inc_bucket_right = inc_pos_bucket_right + inc_neg_bucket_right\n",
    "inc_bucket_left = inc_pos_bucket_left + inc_neg_bucket_left\n",
    "\n",
    "# inc_bucket_right = 100*inc_bucket_right/np.sum(inc_bucket_right)\n",
    "# inc_bucket_left = 100*inc_bucket_left/np.sum(inc_bucket_left)"
   ]
  },
  {
   "cell_type": "code",
   "execution_count": 21,
   "id": "sonic-guitar",
   "metadata": {},
   "outputs": [
    {
     "name": "stdout",
     "output_type": "stream",
     "text": [
      "500\n"
     ]
    },
    {
     "data": {
      "text/plain": [
       "<Figure size 432x288 with 0 Axes>"
      ]
     },
     "metadata": {},
     "output_type": "display_data"
    },
    {
     "data": {
      "image/png": "[encoded data removed]",
      "text/plain": [
       "<Figure size 1080x288 with 2 Axes>"
      ]
     },
     "metadata": {
      "needs_background": "light"
     },
     "output_type": "display_data"
    }
   ],
   "source": [
    "y_limit = max(max(inc_bucket_left), max(inc_bucket_right)) + 10\n",
    "\n",
    "plt.tight_layout()\n",
    "plt.figure(figsize=(15, 4))\n",
    "ax_1 = plt.subplot(1, 2, 1)\n",
    "print(len(inc_bucket_left))\n",
    "ax_1.scatter([i for i in range(-CONST,0,1)], np.flip(inc_bucket_left))\n",
    "ax_1.set_ylim([0, y_limit])\n",
    "\n",
    "ax_2 = plt.subplot(1, 2, 2)\n",
    "ax_2.scatter([i for i in range(1,CONST+1,1)], inc_bucket_right)\n",
    "ax_2.set_ylim([0, y_limit])\n",
    "plt.savefig('inc_buckets.jpg', dpi=400)"
   ]
  },
  {
   "cell_type": "code",
   "execution_count": 22,
   "id": "forward-specific",
   "metadata": {},
   "outputs": [],
   "source": [
    "exc_pos_bucket_right, exc_pos_bucket_left = get_buckets(df_rbp_pos, exc_pos_dict)\n",
    "exc_neg_bucket_left, exc_neg_bucket_right = get_buckets(df_rbp_neg, exc_neg_dict)\n",
    "\n",
    "exc_bucket_right = exc_pos_bucket_right + exc_neg_bucket_right\n",
    "exc_bucket_left = exc_pos_bucket_left + exc_neg_bucket_left\n",
    "\n",
    "# exc_bucket_right = 100*exc_bucket_right/np.sum(exc_bucket_right)\n",
    "# exc_bucket_left = 100*exc_bucket_left/np.sum(exc_bucket_left)"
   ]
  },
  {
   "cell_type": "code",
   "execution_count": 23,
   "id": "improved-lighter",
   "metadata": {},
   "outputs": [
    {
     "data": {
      "image/png": "[encoded data removed]",
      "text/plain": [
       "<Figure size 1080x288 with 2 Axes>"
      ]
     },
     "metadata": {
      "needs_background": "light"
     },
     "output_type": "display_data"
    }
   ],
   "source": [
    "y_limit = max(max(exc_bucket_left), max(exc_bucket_right)) + 2\n",
    "\n",
    "plt.figure(figsize=(15, 4))\n",
    "ax_1 = plt.subplot(1, 2, 1)\n",
    "ax_1.scatter([i for i in range(-CONST,0,1)], np.flip(exc_bucket_left))\n",
    "ax_1.set_ylim([0, y_limit])\n",
    "\n",
    "ax_2 = plt.subplot(1, 2, 2)\n",
    "ax_2.scatter([i for i in range(1,CONST+1,1)], exc_bucket_right)\n",
    "ax_2.set_ylim([0, y_limit])\n",
    "\n",
    "plt.savefig('exc_buckets.jpg', dpi=400)"
   ]
  },
  {
   "cell_type": "markdown",
   "id": "specified-testimony",
   "metadata": {},
   "source": [
    "# Processing all the RBPs:"
   ]
  },
  {
   "cell_type": "code",
   "execution_count": 24,
   "id": "earlier-hepatitis",
   "metadata": {},
   "outputs": [
    {
     "name": "stdout",
     "output_type": "stream",
     "text": [
      "total count: 409839\n",
      "max:  401\n",
      "min:  2\n",
      "mean:  62.02960918799821\n",
      "less than 10:  11655\n",
      "greater than 250:  109\n"
     ]
    },
    {
     "data": {
      "image/png": "[encoded data removed]",
      "text/plain": [
       "<Figure size 432x288 with 1 Axes>"
      ]
     },
     "metadata": {
      "needs_background": "light"
     },
     "output_type": "display_data"
    }
   ],
   "source": [
    "all_len_list = []\n",
    "for rbp_name in rbp_dict:\n",
    "    rbp = rbp_dict[rbp_name]\n",
    "    all_len_list += list(rbp['len'])\n",
    "plt.hist(all_len_list, bins=50)\n",
    "print('total count:', len(all_len_list))\n",
    "print('max: ', np.max(all_len_list))\n",
    "print('min: ', np.min(all_len_list))\n",
    "print('mean: ', np.mean(all_len_list))\n",
    "print('less than 10: ', np.sum(np.array(all_len_list) < 10))\n",
    "print('greater than 250: ', np.sum(np.array(all_len_list) > 250))"
   ]
  },
  {
   "cell_type": "code",
   "execution_count": 25,
   "id": "thorough-joshua",
   "metadata": {},
   "outputs": [],
   "source": [
    "def generate_data(rbps, exon_loci_df, const=5000, strand='+'):\n",
    "    rows = []\n",
    "    for rbp in rbps:\n",
    "        df_rbp_both = rbps[rbp]\n",
    "        df_rbp = df_rbp_both[df_rbp_both[5] == strand]\n",
    "\n",
    "        for idx, row in df_rbp.iterrows():\n",
    "            chromosom = row[0]\n",
    "            start = row[1]\n",
    "            end = row[2]\n",
    "            exon_df = exon_loci_df[exon_loci_df['chr']==chromosom]\n",
    "            \n",
    "            for exon_idx, exon_row in exon_df.iterrows():\n",
    "                tup = (int(exon_row['start']), int(exon_row['end']))\n",
    "                if (start >= tup[1] and start - tup[1] <= const) or (tup[0] >= end and tup[0] - end <= const) or (start >= tup[0] and start <= tup[1]) or (tup[1] >= end and end >= tup[0]): \n",
    "                    new_row = (exon_idx, chromosom, tup[0], tup[1], rbp, start, end, strand)\n",
    "                    rows.append(new_row)\n",
    "                elif (start >= tup[0] and end <= tup[1]):\n",
    "                    new_row = (exon_idx, chromosom, tup[0], tup[1], rbp, start, end, strand)\n",
    "                    rows.append(new_row)\n",
    "                    print('in exon: ', new_row)\n",
    "                elif (start <= tup[0] and end >= tup[1]):\n",
    "                    new_row = (exon_idx, chromosom, tup[0], tup[1], rbp, start, end, strand)\n",
    "                    rows.append(new_row)\n",
    "                    print('spans exon: ', new_row)\n",
    "    df = pd.DataFrame(rows, columns=['exon_idx', 'chr', 'exon_start', 'exon_end', 'rbp', 'rbp_start', 'rbp_end', 'strand'])\n",
    "    return df"
   ]
  },
  {
   "cell_type": "markdown",
   "id": "aerial-portrait",
   "metadata": {},
   "source": [
    "## Run this section only if you do not want to use precomputed tables:"
   ]
  },
  {
   "cell_type": "code",
   "execution_count": 367,
   "id": "separated-footwear",
   "metadata": {},
   "outputs": [
    {
     "name": "stdout",
     "output_type": "stream",
     "text": [
      "spans exon:  (276, 'chr21', 38529462, 38529516, 'PRPF8', 38529456, 38529530, '+')\n",
      "spans exon:  (288, 'chr3', 9478533, 9478572, 'U2AF2', 9478516, 9478576, '+')\n",
      "spans exon:  (180, 'chr16', 89975373, 89975491, 'CSTF2T', 89975354, 89975528, '+')\n",
      "spans exon:  (376, 'chr7', 26237450, 26237486, 'U2AF1', 26237429, 26237498, '-')\n",
      "spans exon:  (409, 'chr8', 86131551, 86131592, 'BUD13', 86131510, 86131607, '-')\n",
      "spans exon:  (128, 'chr12', 110936624, 110936664, 'BUD13', 110936596, 110936693, '-')\n",
      "spans exon:  (376, 'chr7', 26237450, 26237486, 'ZRANB2', 26237447, 26237493, '-')\n",
      "spans exon:  (399, 'chr7', 158496340, 158496393, 'PRPF8', 158496334, 158496400, '-')\n",
      "spans exon:  (45, 'chr1', 185275616, 185275757, 'GRWD1', 185275574, 185275762, '-')\n",
      "spans exon:  (191, 'chr17', 49109041, 49109083, 'U2AF2', 49109016, 49109102, '-')\n",
      "spans exon:  (376, 'chr7', 26237450, 26237486, 'U2AF2', 26237449, 26237496, '-')\n",
      "spans exon:  (138, 'chr13', 107209906, 107209964, 'SRSF1', 107209847, 107209967, '-')\n"
     ]
    }
   ],
   "source": [
    "excluding_pos_df = generate_data(rbp_dict, df_ex_exc_pos, const=5000, strand='+')\n",
    "excluding_neg_df = generate_data(rbp_dict, df_ex_exc_neg, const=5000, strand='-')"
   ]
  },
  {
   "cell_type": "code",
   "execution_count": 373,
   "id": "focal-tomato",
   "metadata": {},
   "outputs": [
    {
     "name": "stdout",
     "output_type": "stream",
     "text": [
      "   exon_idx    chr  exon_start  exon_end     rbp  rbp_start   rbp_end strand\n",
      "0       358   chr6    31804200  31804294     SSB   31803039  31803063      +\n",
      "1       358   chr6    31804200  31804294     SSB   31803063  31803066      +\n",
      "2       358   chr6    31804200  31804294     SSB   31803066  31803078      +\n",
      "3       358   chr6    31804200  31804294     SSB   31803078  31803100      +\n",
      "4       120  chr12    56554409  56554454  PABPC4   56552144  56552185      +\n",
      "   exon_idx    chr  exon_start   exon_end     rbp  rbp_start    rbp_end strand\n",
      "0       179  chr16    88783944   88784023     SSB   88788174   88788216      -\n",
      "1       205  chr18    47018105   47018203   UTP18   47015622   47015681      -\n",
      "2        68  chr10   105155502  105155789  PABPC4  105152127  105152150      -\n",
      "3       231   chr2    62115158   62115392  PABPC4   62115250   62115274      -\n",
      "4         2   chr1     2124283    2124414  PABPC4    2125461    2125497      -\n",
      "   exon_idx    chr  exon_start  exon_end     rbp  rbp_start   rbp_end strand\n",
      "0       358   chr6    31804200  31804294     SSB   31803039  31803063      +\n",
      "1       358   chr6    31804200  31804294     SSB   31803063  31803066      +\n",
      "2       358   chr6    31804200  31804294     SSB   31803066  31803078      +\n",
      "3       358   chr6    31804200  31804294     SSB   31803078  31803100      +\n",
      "4       120  chr12    56554409  56554454  PABPC4   56552144  56552185      +\n"
     ]
    }
   ],
   "source": [
    "# excluding_pos_df['strand'] = ['+' for i in range(len(excluding_pos_df))]\n",
    "print(excluding_pos_df.head())\n",
    "# excluding_neg_df['strand'] = ['-' for i in range(len(excluding_neg_df))]\n",
    "print(excluding_neg_df.head())\n",
    "excluding_df = pd.concat([excluding_pos_df, excluding_neg_df]).reset_index(drop=True)\n",
    "print(excluding_df.head())\n",
    "# excluding_df.to_csv('excluding_df_K562.csv')"
   ]
  },
  {
   "cell_type": "code",
   "execution_count": null,
   "id": "every-kitchen",
   "metadata": {},
   "outputs": [],
   "source": [
    "including_pos_df = generate_data(rbp_dict, df_ex_inc_pos, const=5000, strand='+')\n",
    "including_neg_df = generate_data(rbp_dict, df_ex_inc_neg, const=5000, strand='-')"
   ]
  },
  {
   "cell_type": "code",
   "execution_count": 374,
   "id": "unlikely-denver",
   "metadata": {},
   "outputs": [
    {
     "name": "stdout",
     "output_type": "stream",
     "text": [
      "   exon_idx    chr  exon_start   exon_end     rbp  rbp_start    rbp_end strand\n",
      "0       202  chr10    70516029   70516240   UTP18   70514925   70514997      +\n",
      "1       159   chr1   228336071  228336240   UTP18  228333770  228333830      +\n",
      "2       257  chr11    57505384   57505498  PABPC4   57510334   57510373      +\n",
      "3       696  chr19     7712239    7712397  PABPC4    7712614    7712650      +\n",
      "4       351  chr12    56553406   56553514  PABPC4   56552144   56552185      +\n",
      "   exon_idx    chr  exon_start  exon_end    rbp  rbp_start   rbp_end strand\n",
      "0       874  chr20    49225448  49225492    SSB   49225100  49225149      -\n",
      "1       240  chr11    10823207  10823321    SSB   10823125  10823155      -\n",
      "2       240  chr11    10823207  10823321    SSB   10823067  10823089      -\n",
      "3       240  chr11    10823207  10823321    SSB   10823089  10823125      -\n",
      "4      1346   chr9    33956076  33956144  UTP18   33952773  33952819      -\n",
      "   exon_idx    chr  exon_start   exon_end     rbp  rbp_start    rbp_end strand\n",
      "0       202  chr10    70516029   70516240   UTP18   70514925   70514997      +\n",
      "1       159   chr1   228336071  228336240   UTP18  228333770  228333830      +\n",
      "2       257  chr11    57505384   57505498  PABPC4   57510334   57510373      +\n",
      "3       696  chr19     7712239    7712397  PABPC4    7712614    7712650      +\n",
      "4       351  chr12    56553406   56553514  PABPC4   56552144   56552185      +\n"
     ]
    }
   ],
   "source": [
    "print(including_pos_df.head())\n",
    "print(including_neg_df.head())\n",
    "\n",
    "including_df = pd.concat([including_pos_df, including_neg_df]).reset_index(drop=True)\n",
    "print(including_df.head())\n",
    "# including_df.to_csv('including_df_K562.csv')"
   ]
  },
  {
   "cell_type": "code",
   "execution_count": 114,
   "id": "finished-vietnamese",
   "metadata": {},
   "outputs": [
    {
     "name": "stdout",
     "output_type": "stream",
     "text": [
      "spans exon:  (1870, 'chr12', 56552467, 56552495, 'PABPC4', 56552466, 56552496, '+')\n",
      "spans exon:  (5006, 'chr22', 38352779, 38352849, 'APOBEC3C', 38352775, 38352851, '+')\n",
      "spans exon:  (1870, 'chr12', 56552467, 56552495, 'APOBEC3C', 56552466, 56552496, '+')\n",
      "spans exon:  (1998, 'chr12', 95876990, 95877056, 'GPKOW', 95876979, 95877064, '+')\n",
      "spans exon:  (4366, 'chr2', 114670748, 114670804, 'GPKOW', 114670732, 114670841, '+')\n",
      "spans exon:  (4739, 'chr20', 39709804, 39709880, 'GPKOW', 39709799, 39709882, '+')\n",
      "spans exon:  (7635, 'chrX', 48664037, 48664078, 'GPKOW', 48664031, 48664138, '+')\n",
      "spans exon:  (2570, 'chr15', 44806795, 44806858, 'GPKOW', 44806758, 44806869, '+')\n",
      "spans exon:  (6827, 'chr7', 104716489, 104716528, 'GPKOW', 104716466, 104716548, '+')\n",
      "spans exon:  (2371, 'chr14', 56118607, 56118645, 'SF3B4', 56118553, 56118671, '+')\n",
      "spans exon:  (5597, 'chr4', 54245391, 54245431, 'SF3B4', 54245370, 54245472, '+')\n",
      "spans exon:  (3748, 'chr19', 8528380, 8528388, 'SF3B4', 8528331, 8528397, '+')\n",
      "spans exon:  (4401, 'chr2', 136527338, 136527393, 'SF3B4', 136527330, 136527415, '+')\n",
      "spans exon:  (4108, 'chr2', 29006772, 29006844, 'SF3B4', 29006722, 29006897, '+')\n",
      "spans exon:  (5334, 'chr3', 135979320, 135979377, 'SF3B4', 135979314, 135979408, '+')\n",
      "spans exon:  (801, 'chr1', 203831323, 203831350, 'SF3B4', 203831285, 203831378, '+')\n",
      "spans exon:  (3198, 'chr17', 30293165, 30293215, 'SF3B4', 30293143, 30293217, '+')\n",
      "spans exon:  (6693, 'chr7', 44838845, 44838876, 'SF3B4', 44838793, 44838882, '+')\n",
      "spans exon:  (2478, 'chr14', 103928741, 103928798, 'SF3B4', 103928690, 103928825, '+')\n",
      "spans exon:  (267, 'chr1', 43305822, 43305849, 'SF3B4', 43305762, 43305864, '+')\n",
      "spans exon:  (1836, 'chr12', 53836478, 53836517, 'SF3B4', 53836422, 53836553, '+')\n",
      "spans exon:  (5677, 'chr4', 99950017, 99950069, 'SF3B4', 99950005, 99950097, '+')\n",
      "spans exon:  (5401, 'chr3', 169991073, 169991128, 'SF3B4', 169991019, 169991161, '+')\n",
      "spans exon:  (2177, 'chr13', 25899126, 25899206, 'SF3B4', 25899101, 25899234, '+')\n",
      "spans exon:  (6827, 'chr7', 104716489, 104716528, 'SF3B4', 104716444, 104716561, '+')\n",
      "spans exon:  (530, 'chr1', 145650482, 145650540, 'SF3B4', 145650476, 145650541, '+')\n",
      "spans exon:  (3223, 'chr17', 34161569, 34161602, 'U2AF1', 34161556, 34161607, '+')\n",
      "spans exon:  (3748, 'chr19', 8528380, 8528388, 'U2AF1', 8528332, 8528403, '+')\n",
      "spans exon:  (2917, 'chr16', 31199645, 31199678, 'U2AF1', 31199627, 31199709, '+')\n",
      "spans exon:  (1214, 'chr10', 112038937, 112039052, 'YBX3', 112038936, 112039054, '+')\n",
      "spans exon:  (6945, 'chr7', 141341610, 141341708, 'YBX3', 141341609, 141341709, '+')\n",
      "spans exon:  (4482, 'chr2', 177193601, 177193640, 'LIN28B', 177193600, 177193641, '+')\n",
      "spans exon:  (2417, 'chr14', 78177180, 78177239, 'LIN28B', 78177179, 78177241, '+')\n",
      "spans exon:  (5128, 'chr3', 33905497, 33905621, 'ZNF800', 33905492, 33905622, '+')\n",
      "spans exon:  (5372, 'chr3', 155632207, 155632359, 'ZNF800', 155632205, 155632360, '+')\n",
      "spans exon:  (3551, 'chr17', 80698638, 80698730, 'ZNF800', 80698636, 80698732, '+')\n",
      "spans exon:  (1998, 'chr12', 95876990, 95877056, 'TRA2A', 95876989, 95877057, '+')\n",
      "spans exon:  (4717, 'chr20', 34142814, 34142846, 'SND1', 34142813, 34142847, '+')\n",
      "spans exon:  (5735, 'chr4', 140624608, 140624690, 'SND1', 140624606, 140624691, '+')\n",
      "spans exon:  (6855, 'chr7', 116770544, 116770660, 'SND1', 116770543, 116770664, '+')\n",
      "spans exon:  (516, 'chr1', 120269626, 120269725, 'ZNF622', 120269624, 120269730, '+')\n",
      "spans exon:  (1024, 'chr10', 27798803, 27798859, 'ZNF622', 27798799, 27798874, '+')\n",
      "spans exon:  (2153, 'chr12', 132199366, 132199498, 'ZNF622', 132199365, 132199500, '+')\n",
      "spans exon:  (7817, 'chrX', 133559230, 133559360, 'ZNF622', 133559228, 133559366, '+')\n",
      "spans exon:  (7187, 'chr8', 92083365, 92083517, 'ZNF622', 92083363, 92083521, '+')\n",
      "spans exon:  (5353, 'chr3', 142729656, 142729701, 'ZNF622', 142729655, 142729707, '+')\n",
      "spans exon:  (3362, 'chr17', 45669850, 45669911, 'ZNF622', 45669846, 45669918, '+')\n",
      "spans exon:  (4539, 'chr2', 201677930, 201678004, 'ZNF622', 201677928, 201678005, '+')\n",
      "spans exon:  (2834, 'chr16', 15116560, 15116611, 'EFTUD2', 15116546, 15116634, '+')\n",
      "spans exon:  (267, 'chr1', 43305822, 43305849, 'EFTUD2', 43305806, 43305861, '+')\n",
      "spans exon:  (846, 'chr1', 220275704, 220275754, 'EFTUD2', 220275644, 220275780, '+')\n",
      "spans exon:  (6693, 'chr7', 44838845, 44838876, 'EFTUD2', 44838827, 44838894, '+')\n",
      "spans exon:  (2707, 'chr15', 78834246, 78834272, 'EFTUD2', 78834240, 78834343, '+')\n",
      "spans exon:  (4286, 'chr2', 86335622, 86335659, 'EFTUD2', 86335611, 86335678, '+')\n",
      "spans exon:  (2379, 'chr14', 58724642, 58724716, 'EFTUD2', 58724608, 58724727, '+')\n",
      "spans exon:  (5574, 'chr4', 39466904, 39466962, 'EFTUD2', 39466839, 39466987, '+')\n",
      "spans exon:  (178, 'chr1', 28887857, 28887910, 'EFTUD2', 28887820, 28887930, '+')\n",
      "spans exon:  (3263, 'chr17', 38297459, 38297487, 'EFTUD2', 38297435, 38297510, '+')\n",
      "spans exon:  (4321, 'chr2', 98263529, 98263603, 'EFTUD2', 98263502, 98263653, '+')\n",
      "spans exon:  (4008, 'chr19', 59060228, 59060277, 'EFTUD2', 59060216, 59060284, '+')\n",
      "spans exon:  (5597, 'chr4', 54245391, 54245431, 'EFTUD2', 54245378, 54245443, '+')\n",
      "spans exon:  (2177, 'chr13', 25899126, 25899206, 'DDX24', 25899123, 25899207, '+')\n",
      "spans exon:  (4288, 'chr2', 86350823, 86350885, 'DDX24', 86350822, 86350887, '+')\n",
      "spans exon:  (817, 'chr1', 207958963, 207959027, 'DDX24', 207958961, 207959030, '+')\n",
      "spans exon:  (5219, 'chr3', 50145502, 50145580, 'DDX24', 50145501, 50145581, '+')\n",
      "spans exon:  (3397, 'chr17', 48821066, 48821171, 'DDX24', 48821065, 48821172, '+')\n",
      "spans exon:  (3749, 'chr19', 8539050, 8539128, 'DDX24', 8539049, 8539138, '+')\n",
      "spans exon:  (1998, 'chr12', 95876990, 95877056, 'SRSF7', 95876988, 95877059, '+')\n",
      "spans exon:  (2367, 'chr14', 56103166, 56103254, 'SRSF7', 56103164, 56103259, '+')\n",
      "spans exon:  (2787, 'chr16', 2256358, 2256410, 'AQR', 2256351, 2256414, '+')\n",
      "spans exon:  (2707, 'chr15', 78834246, 78834272, 'AQR', 78834238, 78834316, '+')\n",
      "spans exon:  (2087, 'chr12', 118827731, 118827751, 'AQR', 118827709, 118827801, '+')\n",
      "spans exon:  (6549, 'chr6', 150094273, 150094305, 'AQR', 150094244, 150094353, '+')\n",
      "spans exon:  (4482, 'chr2', 177193601, 177193640, 'AQR', 177193584, 177193669, '+')\n",
      "spans exon:  (801, 'chr1', 203831323, 203831350, 'AQR', 203831288, 203831351, '+')\n",
      "spans exon:  (276, 'chr1', 45098014, 45098057, 'AQR', 45097966, 45098062, '+')\n",
      "spans exon:  (3823, 'chr19', 16199854, 16199930, 'PUM1', 16199850, 16199932, '+')\n",
      "spans exon:  (3890, 'chr19', 39948314, 39948380, 'PUM1', 39948312, 39948383, '+')\n",
      "spans exon:  (4717, 'chr20', 34142814, 34142846, 'BUD13', 34142790, 34142847, '+')\n",
      "spans exon:  (1586, 'chr11', 73961998, 73962063, 'BUD13', 73961983, 73962086, '+')\n",
      "spans exon:  (1630, 'chr11', 108013163, 108013277, 'BUD13', 108013160, 108013281, '+')\n",
      "spans exon:  (1836, 'chr12', 53836478, 53836517, 'BUD13', 53836437, 53836563, '+')\n",
      "spans exon:  (1843, 'chr12', 54735989, 54736071, 'BUD13', 54735972, 54736091, '+')\n",
      "spans exon:  (2872, 'chr16', 24560265, 24560302, 'BUD13', 24560253, 24560315, '+')\n",
      "spans exon:  (4283, 'chr2', 85846342, 85846412, 'BUD13', 85846335, 85846434, '+')\n",
      "spans exon:  (6718, 'chr7', 73106925, 73106976, 'BUD13', 73106916, 73106990, '+')\n",
      "spans exon:  (452, 'chr1', 109238323, 109238392, 'BUD13', 109238298, 109238397, '+')\n",
      "spans exon:  (6693, 'chr7', 44838845, 44838876, 'BUD13', 44838811, 44838900, '+')\n",
      "spans exon:  (2478, 'chr14', 103928741, 103928798, 'BUD13', 103928733, 103928807, '+')\n",
      "spans exon:  (6711, 'chr7', 72409874, 72409948, 'BUD13', 72409859, 72409949, '+')\n",
      "spans exon:  (6700, 'chr7', 56119664, 56119678, 'FMR1', 56119625, 56119679, '+')\n",
      "spans exon:  (1998, 'chr12', 95876990, 95877056, 'MTPAP', 95876988, 95877057, '+')\n",
      "spans exon:  (1863, 'chr12', 56510558, 56510583, 'RBM15', 56510557, 56510585, '+')\n",
      "spans exon:  (276, 'chr1', 45098014, 45098057, 'PRPF8', 45097979, 45098073, '+')\n",
      "spans exon:  (178, 'chr1', 28887857, 28887910, 'PRPF8', 28887822, 28887964, '+')\n",
      "spans exon:  (5597, 'chr4', 54245391, 54245431, 'PRPF8', 54245381, 54245435, '+')\n",
      "spans exon:  (7367, 'chr9', 88590028, 88590072, 'PRPF8', 88590021, 88590167, '+')\n",
      "spans exon:  (3413, 'chr17', 55194220, 55194288, 'PRPF8', 55194206, 55194339, '+')\n",
      "spans exon:  (4008, 'chr19', 59060228, 59060277, 'PRPF8', 59060218, 59060278, '+')\n",
      "spans exon:  (6604, 'chr7', 895994, 896038, 'GRWD1', 895987, 896039, '+')\n",
      "spans exon:  (2781, 'chr16', 1748811, 1748844, 'GRWD1', 1748809, 1748876, '+')\n",
      "spans exon:  (248, 'chr1', 40205836, 40205935, 'GRWD1', 40205832, 40205944, '+')\n",
      "spans exon:  (7635, 'chrX', 48664037, 48664078, 'GRWD1', 48664036, 48664141, '+')\n",
      "spans exon:  (249, 'chr1', 40209495, 40209596, 'GRWD1', 40209493, 40209598, '+')\n",
      "spans exon:  (276, 'chr1', 45098014, 45098057, 'UCHL5', 45098001, 45098058, '+')\n",
      "spans exon:  (2374, 'chr14', 56139646, 56139730, 'UCHL5', 56139645, 56139731, '+')\n",
      "spans exon:  (5522, 'chr4', 1936870, 1936989, 'UCHL5', 1936868, 1936999, '+')\n",
      "spans exon:  (3871, 'chr19', 35761985, 35762044, 'UCHL5', 35761982, 35762045, '+')\n",
      "spans exon:  (2153, 'chr12', 132199366, 132199498, 'UCHL5', 132199364, 132199504, '+')\n",
      "spans exon:  (6042, 'chr5', 133710073, 133710154, 'UCHL5', 133710070, 133710162, '+')\n",
      "spans exon:  (576, 'chr1', 154209041, 154209087, 'U2AF2', 154209034, 154209092, '+')\n",
      "spans exon:  (3198, 'chr17', 30293165, 30293215, 'U2AF2', 30293158, 30293217, '+')\n",
      "spans exon:  (5878, 'chr5', 54623543, 54623606, 'U2AF2', 54623530, 54623610, '+')\n",
      "spans exon:  (2917, 'chr16', 31199645, 31199678, 'U2AF2', 31199627, 31199708, '+')\n",
      "spans exon:  (2709, 'chr15', 79183330, 79183356, 'U2AF2', 79183315, 79183368, '+')\n",
      "spans exon:  (3748, 'chr19', 8528380, 8528388, 'U2AF2', 8528332, 8528410, '+')\n",
      "spans exon:  (5217, 'chr3', 50127814, 50127884, 'DDX3X', 50127808, 50127885, '+')\n",
      "spans exon:  (3984, 'chr19', 54373007, 54373092, 'DDX3X', 54372945, 54373095, '+')\n",
      "spans exon:  (4014, 'chr2', 271865, 271939, 'DDX3X', 271864, 271940, '+')\n",
      "spans exon:  (1870, 'chr12', 56552467, 56552495, 'DDX3X', 56552466, 56552496, '+')\n",
      "spans exon:  (1998, 'chr12', 95876990, 95877056, 'CPSF6', 95876988, 95877059, '+')\n",
      "spans exon:  (6875, 'chr7', 127229136, 127229217, 'FTO', 127229134, 127229218, '+')\n",
      "spans exon:  (6787, 'chr7', 99688214, 99688277, 'SMNDC1', 99688168, 99688278, '+')\n",
      "spans exon:  (3672, 'chr19', 799412, 799443, 'SMNDC1', 799397, 799445, '+')\n",
      "spans exon:  (2756, 'chr15', 93429398, 93429484, 'SRSF1', 93429392, 93429503, '+')\n",
      "spans exon:  (3748, 'chr19', 8528380, 8528388, 'SRSF1', 8528372, 8528390, '+')\n",
      "spans exon:  (1499, 'chr11', 62651928, 62651997, 'SRSF1', 62651927, 62652006, '+')\n",
      "spans exon:  (6329, 'chr6', 33384525, 33384553, 'PABPC4', 33384498, 33384554, '-')\n",
      "spans exon:  (6259, 'chr6', 28876584, 28876617, 'GPKOW', 28876541, 28876637, '-')\n",
      "spans exon:  (641, 'chr1', 160195380, 160195453, 'GPKOW', 160195369, 160195469, '-')\n",
      "spans exon:  (1982, 'chr12', 80172329, 80172380, 'GPKOW', 80172327, 80172407, '-')\n",
      "spans exon:  (4477, 'chr2', 175246431, 175246505, 'GPKOW', 175246412, 175246519, '-')\n",
      "spans exon:  (6223, 'chr6', 7303782, 7303870, 'GPKOW', 7303753, 7303877, '-')\n",
      "spans exon:  (6766, 'chr7', 92205084, 92205135, 'GPKOW', 92205077, 92205142, '-')\n",
      "spans exon:  (5392, 'chr3', 160254583, 160254628, 'GPKOW', 160254550, 160254631, '-')\n",
      "spans exon:  (4543, 'chr2', 201724402, 201724469, 'GPKOW', 201724399, 201724476, '-')\n",
      "spans exon:  (4563, 'chr2', 209118609, 209118683, 'GPKOW', 209118567, 209118707, '-')\n",
      "spans exon:  (4619, 'chr2', 234761210, 234761266, 'GPKOW', 234761178, 234761286, '-')\n",
      "spans exon:  (681, 'chr1', 165723464, 165723511, 'SF3B4', 165723457, 165723559, '-')\n",
      "spans exon:  (3939, 'chr19', 47287773, 47287816, 'SF3B4', 47287685, 47287842, '-')\n",
      "spans exon:  (5475, 'chr3', 186518905, 186518984, 'SF3B4', 186518887, 186519031, '-')\n",
      "spans exon:  (1982, 'chr12', 80172329, 80172380, 'SF3B4', 80172308, 80172416, '-')\n",
      "spans exon:  (417, 'chr1', 78433310, 78433350, 'SF3B4', 78433284, 78433353, '-')\n",
      "spans exon:  (6681, 'chr7', 42957376, 42957434, 'SF3B4', 42957371, 42957482, '-')\n",
      "spans exon:  (198, 'chr1', 33100368, 33100393, 'SF3B4', 33100336, 33100437, '-')\n",
      "spans exon:  (2356, 'chr14', 53124841, 53124868, 'SF3B4', 53124835, 53124918, '-')\n",
      "spans exon:  (1973, 'chr12', 75898977, 75899034, 'SF3B4', 75898951, 75899088, '-')\n",
      "spans exon:  (6247, 'chr6', 17662248, 17662301, 'SF3B4', 17662246, 17662362, '-')\n",
      "spans exon:  (5111, 'chr3', 32571775, 32571820, 'U2AF1', 32571758, 32571827, '-')\n",
      "spans exon:  (1422, 'chr11', 57097566, 57097612, 'ZNF800', 57097565, 57097613, '-')\n",
      "spans exon:  (172, 'chr1', 28527766, 28527881, 'ZNF800', 28527701, 28527883, '-')\n",
      "spans exon:  (4043, 'chr2', 10930844, 10930959, 'ZNF800', 10930843, 10930960, '-')\n",
      "spans exon:  (3657, 'chr18', 55282872, 55282962, 'ZNF800', 55282871, 55282963, '-')\n",
      "spans exon:  (681, 'chr1', 165723464, 165723511, 'ZNF800', 165723463, 165723512, '-')\n",
      "spans exon:  (3486, 'chr17', 73239527, 73239651, 'TRA2A', 73239523, 73239653, '-')\n",
      "spans exon:  (6759, 'chr7', 91746490, 91746526, 'SND1', 91746481, 91746527, '-')\n",
      "spans exon:  (5728, 'chr4', 130003460, 130003528, 'ZNF622', 130003449, 130003531, '-')\n",
      "spans exon:  (4023, 'chr2', 9022640, 9022695, 'ZNF622', 9022635, 9022697, '-')\n",
      "spans exon:  (7170, 'chr8', 74650518, 74650584, 'ZNF622', 74650516, 74650585, '-')\n",
      "spans exon:  (3514, 'chr17', 76677052, 76677124, 'ZNF622', 76677051, 76677125, '-')\n",
      "spans exon:  (6498, 'chr6', 114277176, 114277315, 'ZNF622', 114277172, 114277316, '-')\n",
      "spans exon:  (198, 'chr1', 33100368, 33100393, 'ZNF622', 33100340, 33100394, '-')\n",
      "spans exon:  (2864, 'chr16', 23498066, 23498111, 'ZNF622', 23498050, 23498112, '-')\n",
      "spans exon:  (2782, 'chr16', 1910403, 1910476, 'EFTUD2', 1910370, 1910492, '-')\n",
      "spans exon:  (1100, 'chr10', 74776603, 74776653, 'EFTUD2', 74776553, 74776676, '-')\n",
      "spans exon:  (809, 'chr1', 206773616, 206773662, 'EFTUD2', 206773608, 206773682, '-')\n",
      "spans exon:  (2823, 'chr16', 11991850, 11991892, 'EFTUD2', 11991798, 11991914, '-')\n",
      "spans exon:  (6959, 'chr7', 148512597, 148512638, 'EFTUD2', 148512554, 148512647, '-')\n",
      "spans exon:  (4155, 'chr2', 44184523, 44184590, 'EFTUD2', 44184521, 44184654, '-')\n",
      "spans exon:  (6259, 'chr6', 28876584, 28876617, 'EFTUD2', 28876548, 28876621, '-')\n",
      "spans exon:  (5630, 'chr4', 69184407, 69184447, 'EFTUD2', 69184297, 69184495, '-')\n",
      "spans exon:  (6625, 'chr7', 6088437, 6088475, 'EFTUD2', 6088353, 6088484, '-')\n",
      "spans exon:  (5363, 'chr3', 148778429, 148778474, 'EFTUD2', 148778402, 148778507, '-')\n",
      "spans exon:  (5392, 'chr3', 160254583, 160254628, 'EFTUD2', 160254536, 160254644, '-')\n",
      "spans exon:  (5347, 'chr3', 139093330, 139093430, 'DDX24', 139093317, 139093431, '-')\n",
      "spans exon:  (2864, 'chr16', 23498066, 23498111, 'DDX24', 23498064, 23498112, '-')\n",
      "spans exon:  (3527, 'chr17', 79573716, 79573840, 'DDX24', 79573714, 79573843, '-')\n",
      "spans exon:  (3635, 'chr18', 34387809, 34387897, 'DDX24', 34387807, 34387901, '-')\n",
      "spans exon:  (3557, 'chr18', 226800, 226901, 'DDX24', 226799, 226902, '-')\n",
      "spans exon:  (198, 'chr1', 33100368, 33100393, 'AQR', 33100320, 33100447, '-')\n",
      "spans exon:  (1924, 'chr12', 58221334, 58221373, 'AQR', 58221305, 58221402, '-')\n",
      "spans exon:  (2630, 'chr15', 60656627, 60656722, 'PUM1', 60656622, 60656727, '-')\n",
      "spans exon:  (4114, 'chr2', 32264347, 32264395, 'BUD13', 32264341, 32264397, '-')\n",
      "spans exon:  (828, 'chr1', 212955713, 212955768, 'BUD13', 212955689, 212955777, '-')\n",
      "spans exon:  (681, 'chr1', 165723464, 165723511, 'BUD13', 165723443, 165723519, '-')\n",
      "spans exon:  (5306, 'chr3', 128363761, 128363826, 'BUD13', 128363756, 128363837, '-')\n",
      "spans exon:  (5111, 'chr3', 32571775, 32571820, 'BUD13', 32571770, 32571828, '-')\n",
      "spans exon:  (7163, 'chr8', 71512253, 71512317, 'BUD13', 71512246, 71512319, '-')\n",
      "spans exon:  (6259, 'chr6', 28876584, 28876617, 'BUD13', 28876583, 28876621, '-')\n",
      "spans exon:  (1041, 'chr10', 35349801, 35349896, 'BUD13', 35349800, 35349899, '-')\n",
      "spans exon:  (1834, 'chr12', 53708877, 53708924, 'BUD13', 53708869, 53708941, '-')\n",
      "spans exon:  (3461, 'chr17', 65341860, 65341973, 'BUD13', 65341825, 65341976, '-')\n",
      "spans exon:  (5491, 'chr3', 195006524, 195006586, 'BUD13', 195006499, 195006593, '-')\n",
      "spans exon:  (7318, 'chr9', 32985968, 32986028, 'BUD13', 32985967, 32986033, '-')\n",
      "spans exon:  (1753, 'chr12', 10853852, 10853952, 'METAP2', 10853850, 10853956, '-')\n",
      "spans exon:  (5763, 'chr4', 159631779, 159631822, 'ZC3H11A', 159631777, 159631824, '-')\n",
      "spans exon:  (3320, 'chr17', 40725328, 40725382, 'GRWD1', 40725327, 40725384, '-')\n",
      "spans exon:  (1408, 'chr11', 47505940, 47506075, 'GRWD1', 47505939, 47506077, '-')\n",
      "spans exon:  (6768, 'chr7', 92247385, 92247521, 'GRWD1', 92247380, 92247523, '-')\n",
      "spans exon:  (141, 'chr1', 25554608, 25554726, 'UCHL5', 25554607, 25554727, '-')\n",
      "spans exon:  (5176, 'chr3', 46966945, 46967025, 'UCHL5', 46966942, 46967026, '-')\n",
      "spans exon:  (5634, 'chr4', 71698023, 71698167, 'UCHL5', 71698021, 71698168, '-')\n",
      "spans exon:  (5133, 'chr3', 37105232, 37105282, 'UCHL5', 37105230, 37105284, '-')\n",
      "spans exon:  (2328, 'chr14', 35249391, 35249516, 'UCHL5', 35249385, 35249517, '-')\n",
      "spans exon:  (2318, 'chr14', 24687338, 24687421, 'UCHL5', 24687330, 24687423, '-')\n",
      "spans exon:  (1268, 'chr11', 2972488, 2972545, 'UCHL5', 2972487, 2972546, '-')\n",
      "spans exon:  (3301, 'chr17', 40129278, 40129341, 'UCHL5', 40129271, 40129342, '-')\n",
      "spans exon:  (2763, 'chr15', 101814796, 101814886, 'UCHL5', 101814792, 101814887, '-')\n",
      "spans exon:  (5277, 'chr3', 112256992, 112257027, 'UCHL5', 112256990, 112257028, '-')\n",
      "spans exon:  (6671, 'chr7', 32528236, 32528264, 'UCHL5', 32528229, 32528266, '-')\n",
      "spans exon:  (312, 'chr1', 50957392, 50957473, 'UCHL5', 50957389, 50957474, '-')\n",
      "spans exon:  (5630, 'chr4', 69184407, 69184447, 'U2AF2', 69184403, 69184463, '-')\n",
      "spans exon:  (5111, 'chr3', 32571775, 32571820, 'U2AF2', 32571763, 32571830, '-')\n",
      "spans exon:  (2356, 'chr14', 53124841, 53124868, 'U2AF2', 53124835, 53124878, '-')\n",
      "spans exon:  (6671, 'chr7', 32528236, 32528264, 'DDX3X', 32528234, 32528266, '-')\n",
      "spans exon:  (6223, 'chr6', 7303782, 7303870, 'CPSF6', 7303777, 7303874, '-')\n",
      "spans exon:  (5277, 'chr3', 112256992, 112257027, 'CPSF6', 112256990, 112257028, '-')\n",
      "spans exon:  (1913, 'chr12', 57911488, 57911536, 'SMNDC1', 57911486, 57911586, '-')\n",
      "spans exon:  (1268, 'chr11', 2972488, 2972545, 'SRSF1', 2972475, 2972551, '-')\n",
      "spans exon:  (6420, 'chr6', 52132662, 52132766, 'SRSF1', 52132660, 52132767, '-')\n",
      "spans exon:  (5233, 'chr3', 52562028, 52562089, 'SRSF1', 52562017, 52562090, '-')\n",
      "spans exon:  (2772, 'chr16', 258076, 258187, 'SRSF1', 258073, 258193, '-')\n"
     ]
    }
   ],
   "source": [
    "constitutive_pos_df = generate_data(rbp_dict, df_ex_con_pos, const=5000, strand='+')\n",
    "constitutive_neg_df = generate_data(rbp_dict, df_ex_con_neg, const=5000, strand='-')"
   ]
  },
  {
   "cell_type": "code",
   "execution_count": 375,
   "id": "received-fight",
   "metadata": {},
   "outputs": [
    {
     "name": "stdout",
     "output_type": "stream",
     "text": [
      "   exon_idx    chr  exon_start   exon_end  rbp  rbp_start    rbp_end strand\n",
      "0      1588  chr11    75112683   75112777  SSB   75111443   75111518      +\n",
      "1      1588  chr11    75112683   75112777  SSB   75111433   75111443      +\n",
      "2      4290   chr2    86359440   86359547  SSB   86363078   86363098      +\n",
      "3      4291   chr2    86361414   86361500  SSB   86363078   86363098      +\n",
      "4      7528   chr9   136215776  136215897  SSB  136217699  136217710      +\n",
      "   exon_idx    chr  exon_start   exon_end  rbp  rbp_start    rbp_end strand\n",
      "0      1339  chr11    17098714   17098793  SSB   17097403   17097410      -\n",
      "1      4641  chr20     2448252    2448404  SSB    2443641    2443664      -\n",
      "2      7832   chrX   135957416  135957542  SSB  135961425  135961434      -\n",
      "3      6277   chr6    31498829   31498974  SSB   31499611   31499700      -\n",
      "4      6278   chr6    31504276   31504460  SSB   31499611   31499700      -\n",
      "   exon_idx    chr  exon_start   exon_end  rbp  rbp_start    rbp_end strand\n",
      "0      1588  chr11    75112683   75112777  SSB   75111443   75111518      +\n",
      "1      1588  chr11    75112683   75112777  SSB   75111433   75111443      +\n",
      "2      4290   chr2    86359440   86359547  SSB   86363078   86363098      +\n",
      "3      4291   chr2    86361414   86361500  SSB   86363078   86363098      +\n",
      "4      7528   chr9   136215776  136215897  SSB  136217699  136217710      +\n"
     ]
    }
   ],
   "source": [
    "print(constitutive_pos_df.head())\n",
    "print(constitutive_neg_df.head())\n",
    "\n",
    "constitutive_df = pd.concat([constitutive_pos_df, constitutive_neg_df]).reset_index(drop=True)\n",
    "print(constitutive_df.head())\n",
    "constitutive_df.to_csv('constitutive_df_K562.csv')"
   ]
  },
  {
   "cell_type": "markdown",
   "id": "worse-infrared",
   "metadata": {},
   "source": [
    "## Load the precomputed tables:"
   ]
  },
  {
   "cell_type": "code",
   "execution_count": 26,
   "id": "arranged-express",
   "metadata": {},
   "outputs": [
    {
     "name": "stdout",
     "output_type": "stream",
     "text": [
      "   Unnamed: 0  exon_idx    chr  exon_start  exon_end     rbp  rbp_start  \\\n",
      "0           0       358   chr6    31804200  31804294     SSB   31803039   \n",
      "1           1       358   chr6    31804200  31804294     SSB   31803063   \n",
      "2           2       358   chr6    31804200  31804294     SSB   31803066   \n",
      "3           3       358   chr6    31804200  31804294     SSB   31803078   \n",
      "4           4       120  chr12    56554409  56554454  PABPC4   56552144   \n",
      "\n",
      "    rbp_end strand  \n",
      "0  31803063      +  \n",
      "1  31803066      +  \n",
      "2  31803078      +  \n",
      "3  31803100      +  \n",
      "4  56552185      +  \n"
     ]
    }
   ],
   "source": [
    "constitutive_df = pd.read_csv(\"constitutive_df_K562.csv\")\n",
    "including_df = pd.read_csv(\"including_df_K562.csv\")\n",
    "excluding_df = pd.read_csv(\"excluding_df_K562.csv\")\n",
    "print(excluding_df.head())"
   ]
  },
  {
   "cell_type": "code",
   "execution_count": 27,
   "id": "permanent-darkness",
   "metadata": {},
   "outputs": [],
   "source": [
    "def filter_data(exon_rbp_df_raw, const_raw=300, bin_size=30, filtered_chrs=[]):\n",
    "    const = (const_raw//bin_size)*bin_size\n",
    "    accepted_idx = []\n",
    "    exon_rbp_df = exon_rbp_df_raw[ ~exon_rbp_df_raw['chr'].isin(filtered_chrs)]\n",
    "    for idx, row in exon_rbp_df.iterrows():\n",
    "        start = row['rbp_start']\n",
    "        end = row['rbp_end']\n",
    "        tup = (int(row['exon_start']), int(row['exon_end']))\n",
    "        if tup[0] >= start and tup[0] <= end + const:\n",
    "            accepted_idx.append(idx)\n",
    "        elif tup[1] <= end and tup[1] >= start - const:\n",
    "            accepted_idx.append(idx)\n",
    "        elif tup[0] <= start and end <= tup[1]:\n",
    "            accepted_idx.append(idx)\n",
    "        elif tup[0] >= start and end >= tup[1]:\n",
    "            accepted_idx.append(idx)\n",
    "    print(len(accepted_idx))\n",
    "    final_df = exon_rbp_df.iloc[accepted_idx, :]\n",
    "    return final_df"
   ]
  },
  {
   "cell_type": "code",
   "execution_count": 28,
   "id": "premier-research",
   "metadata": {},
   "outputs": [
    {
     "name": "stdout",
     "output_type": "stream",
     "text": [
      "38210\n",
      "filtered constitutive:  38210 out of  213783\n",
      "3764\n",
      "filtered including:  3764 out of  3764\n",
      "930\n",
      "filtered excluding:  930 out of  930\n",
      "{'PRPF8', 'RBFOX2', 'DDX55', 'GTF2F1', 'HNRNPM', 'ILF3', 'PTBP1', 'FUS', 'DDX52', 'FMR1', 'ZNF622', 'SAFB2', 'TRA2A', 'DROSHA', 'IGF2BP1', 'DDX42', 'HNRNPL', 'HNRNPC', 'RBM15', 'BUD13', 'AATF', 'EIF3G', 'DDX24', 'HLTF', 'PHF6', 'YBX3', 'EXOSC5', 'TIA1', 'NIPBL', 'HNRNPUL1', 'GEMIN5', 'ZC3H8', 'EFTUD2', 'MATR3', 'ZNF800', 'EWSR1', 'SND1', 'FXR2', 'QKI', 'AQR', 'TARDBP', 'NONO', 'XRN2', 'DHX30', 'PABPC4', 'SMNDC1', 'PUM1', 'PCBP1', 'AKAP8L', 'FAM120A', 'ZRANB2', 'FTO', 'SRSF1', 'ZC3H11A', 'U2AF1', 'UCHL5', 'EIF4G2', 'GRWD1', 'DDX6', 'GPKOW', 'KHDRBS1', 'DDX3X', 'U2AF2', 'NOLC1', 'SAFB', 'RBM22', 'XRCC6', 'LIN28B', 'CSTF2T', 'CPSF6', 'RPS3', 'PUM2', 'SF3B4', 'KHSRP', 'AGGF1', 'HNRNPK', 'DGCR8'}\n",
      "77\n"
     ]
    }
   ],
   "source": [
    "filtered_constitutive_df = filter_data(constitutive_df)\n",
    "print('filtered constitutive: ', len(filtered_constitutive_df), 'out of ', len(constitutive_df))\n",
    "filtered_including_df = filter_data(including_df)\n",
    "print('filtered including: ', len(filtered_including_df), 'out of ', len(filtered_including_df))\n",
    "filtered_excluding_df = filter_data(excluding_df)\n",
    "print('filtered excluding: ', len(filtered_excluding_df), 'out of ', len(filtered_excluding_df))\n",
    "\n",
    "common_rbps = set(filtered_constitutive_df['rbp']) & set(filtered_including_df['rbp']) & set(filtered_excluding_df['rbp'])\n",
    "print(common_rbps)\n",
    "print(len(common_rbps))"
   ]
  },
  {
   "cell_type": "code",
   "execution_count": 29,
   "id": "incomplete-seattle",
   "metadata": {},
   "outputs": [],
   "source": [
    "# filtered_pos = pd.concat([filtered_including_df, filtered_constitutive_df]).copy()\n",
    "filtered_pos = filtered_including_df.copy()\n",
    "filtered_neg = filtered_excluding_df.copy()\n",
    "filtered_pos['label'] = 1\n",
    "filtered_neg['label'] = 0\n",
    "all_data = pd.concat([filtered_pos, filtered_neg]).reset_index(drop=True)\n",
    "\n",
    "test_chrs = ['chr1']\n",
    "validation_chrs = ['chr3', 'chr2']\n",
    "validation_test_chrs = validation_chrs + test_chrs\n",
    "\n",
    "training_df = all_data[ ~all_data['chr'].isin(validation_test_chrs)]\n",
    "validation_df = all_data[ all_data['chr'].isin(validation_chrs)]\n",
    "test_df = all_data[ all_data['chr'].isin(test_chrs)]"
   ]
  },
  {
   "cell_type": "code",
   "execution_count": 30,
   "id": "practical-glory",
   "metadata": {},
   "outputs": [
    {
     "name": "stdout",
     "output_type": "stream",
     "text": [
      "56\n",
      "   Unnamed: 0  exon_idx    chr  exon_start   exon_end     rbp  rbp_start  \\\n",
      "0           3       696  chr19     7712239    7712397  PABPC4    7712614   \n",
      "1           8      1446   chrX   153628804  153628967  PABPC4  153628803   \n",
      "2          26       885  chr20    62152636   62152716  PABPC4   62152662   \n",
      "3          27       885  chr20    62152636   62152716  PABPC4   62152636   \n",
      "4          38       351  chr12    56553406   56553514  PABPC4   56553370   \n",
      "\n",
      "     rbp_end strand  label  \n",
      "0    7712650      +      1  \n",
      "1  153628831      +      1  \n",
      "2   62152698      +      1  \n",
      "3   62152643      +      1  \n",
      "4   56553376      +      1  \n",
      "3206\n",
      "561\n",
      "560\n"
     ]
    }
   ],
   "source": [
    "remaining_rbps = set(training_df['rbp']) & set(validation_df['rbp']) & set(test_df['rbp'])\n",
    "print(len(remaining_rbps))\n",
    "\n",
    "training_data = training_df[ training_df['rbp'].isin(remaining_rbps)]\n",
    "validation_data = validation_df[ validation_df['rbp'].isin(remaining_rbps)]\n",
    "test_data = test_df[ test_df['rbp'].isin(remaining_rbps)]\n",
    "print(training_data.head())\n",
    "\n",
    "print(len(training_data))\n",
    "print(len(validation_data))\n",
    "print(len(test_data))\n",
    "\n",
    "rbps_dict = {}\n",
    "rbps_list = sorted(list(remaining_rbps))\n",
    "for i in range(len(rbps_list)):\n",
    "    rbps_dict[rbps_list[i]] = i"
   ]
  },
  {
   "cell_type": "code",
   "execution_count": 31,
   "id": "consistent-growing",
   "metadata": {},
   "outputs": [
    {
     "name": "stdout",
     "output_type": "stream",
     "text": [
      "[0 1 2 3 4 5 6 7]\n"
     ]
    },
    {
     "data": {
      "text/plain": [
       "array([5, 6])"
      ]
     },
     "execution_count": 31,
     "metadata": {},
     "output_type": "execute_result"
    }
   ],
   "source": [
    "a = np.array(range(8))\n",
    "print(a)\n",
    "a[-3:-1]"
   ]
  },
  {
   "cell_type": "code",
   "execution_count": 176,
   "id": "becoming-regular",
   "metadata": {},
   "outputs": [],
   "source": [
    "import copy\n",
    "\n",
    "\n",
    "def generate_vectors(exon_rbp_df, rbps_dict, const=300, bin_size=20, inner_bin_size=10, w_inside=5):\n",
    "    X = []\n",
    "    y = []\n",
    "    srt_df = exon_rbp_df.sort_values(by='exon_idx')\n",
    "    gr_df = srt_df.groupby(by='exon_idx')\n",
    "    \n",
    "    sec_len = const//bin_size\n",
    "    vec_len = (const//bin_size)*2 + w_inside\n",
    "    \n",
    "    for exon_idx, neigh_rbf_df in gr_df:\n",
    "        left_vec_rep = np.zeros((len(rbps_dict), sec_len))\n",
    "        right_vec_rep = np.zeros((len(rbps_dict), sec_len))\n",
    "        mid_vec_rep = np.zeros((len(rbps_dict), w_inside))\n",
    "        for idx, row in neigh_rbf_df.iterrows():\n",
    "            # print('-----------------')\n",
    "            # print('row:', row)\n",
    "            cur_rbp = rbps_dict[row['rbp']]\n",
    "            # print('rbp number:', cur_rbp)\n",
    "            start = row['rbp_start']\n",
    "            end = row['rbp_end']\n",
    "            tup = (int(row['exon_start']), int(row['exon_end']))\n",
    "            \n",
    "            if tup[0] > start and tup[0] <= end + const:\n",
    "                left_start_bin = max(-left_vec_rep.shape[1], (start-tup[0])//bin_size) + left_vec_rep.shape[1]\n",
    "                left_end_bin = min((end-tup[0])//bin_size +1, 0) + left_vec_rep.shape[1]\n",
    "                if left_end_bin > left_start_bin:\n",
    "                    tmp_vec = np.ones(left_end_bin - left_start_bin)\n",
    "                    # print('left start', left_start_bin)\n",
    "                    # print('left end', left_end_bin)\n",
    "\n",
    "                    left_vec_rep[cur_rbp, left_start_bin:left_end_bin] = tmp_vec\n",
    "\n",
    "                    if end >= tup[0]:\n",
    "                        inner_left_size = w_inside//2\n",
    "\n",
    "                        for idx in range(inner_left_size+1):\n",
    "                            if end - (tup[0]+ idx*inner_bin_size) >= 0:\n",
    "                                mid_vec_rep[cur_rbp, idx] = 1\n",
    "\n",
    "                        for idx in range(inner_left_size):\n",
    "                            if (tup[1]- (idx+1)*inner_bin_size) - end < 0:\n",
    "                                mid_vec_rep[cur_rbp, -(idx+1)] = 1\n",
    "                    \n",
    "            if tup[1] < end and tup[1] >= start - const:\n",
    "                right_end_bin = min(right_vec_rep.shape[1], (end-tup[1])//bin_size +1)\n",
    "                right_start_bin = max((start-tup[1])//bin_size, 0)\n",
    "                tmp_vec = np.ones(right_end_bin - right_start_bin)\n",
    "                # print('right start', right_start_bin)\n",
    "                # print('right end', right_end_bin)\n",
    "                \n",
    "                right_vec_rep[cur_rbp, right_start_bin:right_end_bin] = tmp_vec\n",
    "                \n",
    "                if start <= tup[1]:\n",
    "                    inner_left_size = w_inside//2\n",
    "                    \n",
    "                    for idx in range(inner_left_size):\n",
    "                        if (tup[0]+ (idx+1)*inner_bin_size) - start > 0:\n",
    "                            mid_vec_rep[cur_rbp, idx] = 1\n",
    "                    \n",
    "                    for idx in range(inner_left_size+1):\n",
    "                        if (tup[1]- idx*inner_bin_size) - start >= 0:\n",
    "                            mid_vec_rep[cur_rbp, -(idx+1)] = 1\n",
    "                            \n",
    "            if tup[1] >= end and tup[0] <= start:\n",
    "                orig_vec = copy.deepcopy(mid_vec_rep[cur_rbp, :])\n",
    "                inner_left_size = w_inside//2\n",
    "                \n",
    "                for idx in range(w_inside):\n",
    "                    mid_vec_rep[cur_rbp, idx] = 1\n",
    "                    \n",
    "                for idx in range(inner_left_size):\n",
    "                    if (tup[1]- idx*inner_bin_size) - end > 0:\n",
    "                        if orig_vec[-(idx+1)] == 0:\n",
    "                            mid_vec_rep[cur_rbp, -(idx+1)] = 0\n",
    "                            \n",
    "                for idx in range(inner_left_size):\n",
    "                    if (tup[0]+ (idx+1)*inner_bin_size) - start < 0:\n",
    "                        if orig_vec[idx] == 0:\n",
    "                            mid_vec_rep[cur_rbp, idx] = 0\n",
    "\n",
    "        \n",
    "        new_data_point = np.concatenate([left_vec_rep, mid_vec_rep, right_vec_rep], axis=1)\n",
    "        if row['strand'] == '-':\n",
    "            new_data_point = np.flip(new_data_point, axis=1)\n",
    "        X.append(new_data_point)\n",
    "        y.append(int(row['label']))\n",
    "                \n",
    "        # break\n",
    "        \n",
    "    return np.array(X), np.array(y)"
   ]
  },
  {
   "cell_type": "code",
   "execution_count": 177,
   "id": "biological-expense",
   "metadata": {},
   "outputs": [],
   "source": [
    "X_train, y_train = generate_vectors(training_data, rbps_dict, const=300, bin_size=30, inner_bin_size=10, w_inside=5)\n",
    "# print(y_train)\n",
    "# print(X_train)\n",
    "\n",
    "# for i in range(len(X_train[0])):\n",
    "#     print(i, list(X_train[0][i]))\n",
    "\n",
    "X_val, y_val = generate_vectors(validation_data, rbps_dict, const=300, bin_size=30, inner_bin_size=10, w_inside=5)\n",
    "X_test, y_test = generate_vectors(test_data, rbps_dict, const=300, bin_size=30, inner_bin_size=10, w_inside=5)"
   ]
  },
  {
   "cell_type": "code",
   "execution_count": 178,
   "id": "smoking-editor",
   "metadata": {},
   "outputs": [
    {
     "name": "stdout",
     "output_type": "stream",
     "text": [
      "before:  (695, 56, 25)\n",
      "after:  (695, 1400)\n",
      "test: (113, 1400)\n",
      "(813, 1400)\n",
      "(813,)\n",
      "pos tr/val:  672 from:  813\n",
      "pos test:  87 from:  113\n",
      "(813, 1401)\n",
      "(813, 1400)\n",
      "(813,)\n"
     ]
    }
   ],
   "source": [
    "### Making the data 1-dimensional:\n",
    "\n",
    "# for i in range(len(X_train[0])):\n",
    "#     print(i, list(X_train[0][i]))\n",
    "\n",
    "print('before: ', X_train.shape)\n",
    "X_train_1d = np.reshape(X_train, (X_train.shape[0],-1)) \n",
    "print('after: ', X_train_1d.shape)\n",
    "# print(list(X_train_1d[0]))\n",
    "\n",
    "X_val_1d = np.reshape(X_val, (X_val.shape[0],-1)) \n",
    "X_test_1d = np.reshape(X_test, (X_test.shape[0],-1)) \n",
    "print('test:', X_test_1d.shape)\n",
    "\n",
    "X_train_val_1d = np.concatenate([X_train_1d, X_val_1d])\n",
    "print(X_train_val_1d.shape)\n",
    "y_train_val = np.concatenate([y_train, y_val])\n",
    "print(y_train_val.shape)\n",
    "\n",
    "print('pos tr/val: ', np.sum(y_train_val), 'from: ', len(y_train_val))\n",
    "print('pos test: ', np.sum(y_test), 'from: ', len(y_test))\n",
    "\n",
    "X_y_train_val = np.concatenate([X_train_val_1d, y_train_val.reshape(-1,1)], axis=1)\n",
    "print(X_y_train_val.shape)\n",
    "\n",
    "import random\n",
    "random.shuffle(X_y_train_val)\n",
    "X_train_val_1d = X_y_train_val[:,:-1]\n",
    "y_train_val = X_y_train_val[:,-1]\n",
    "print(X_train_val_1d.shape)\n",
    "print(y_train_val.shape)"
   ]
  },
  {
   "cell_type": "code",
   "execution_count": 179,
   "id": "roman-horror",
   "metadata": {},
   "outputs": [
    {
     "name": "stdout",
     "output_type": "stream",
     "text": [
      "Best parameter (CV score=0.884):\n",
      "{'svm__C': 0.1, 'svm__kernel': 'linear'}\n",
      "0.7345132743362832\n",
      "[1. 1. 0. 0. 0. 0. 0. 1. 1. 1. 0. 1. 0. 1. 1. 1. 1. 1. 0. 1. 0. 0. 1. 1.\n",
      " 1. 0. 1. 1. 1. 1. 1. 1. 0. 0. 0. 1. 1. 1. 1. 0. 1. 0. 1. 1. 1. 1. 1. 1.\n",
      " 1. 1. 1. 1. 1. 0. 1. 1. 1. 1. 1. 0. 1. 1. 0. 1. 1. 1. 1. 1. 1. 1. 1. 0.\n",
      " 1. 1. 1. 1. 1. 1. 1. 1. 1. 1. 1. 0. 1. 1. 1. 1. 1. 1. 1. 1. 1. 1. 1. 1.\n",
      " 1. 1. 1. 1. 0. 0. 1. 1. 1. 0. 1. 1. 1. 1. 1. 1. 1.]\n",
      "[1 0 1 0 0 0 1 1 1 1 0 1 1 0 1 0 1 1 0 1 0 0 1 1 1 1 0 0 1 0 0 1 1 0 0 0 0\n",
      " 0 1 0 0 1 0 1 0 1 0 0 1 1 0 1 1 1 1 1 1 1 1 1 1 1 1 1 1 1 1 1 1 1 1 1 1 1\n",
      " 1 1 1 1 1 1 1 1 1 1 1 1 1 1 1 1 1 1 1 1 1 1 1 1 1 1 1 1 1 1 1 1 1 1 1 1 1\n",
      " 1 1]\n"
     ]
    }
   ],
   "source": [
    "from sklearn import svm\n",
    "from sklearn.svm import LinearSVC\n",
    "from sklearn.pipeline import make_pipeline\n",
    "from sklearn.preprocessing import StandardScaler\n",
    "from sklearn.model_selection import GridSearchCV\n",
    "from sklearn.pipeline import Pipeline\n",
    "\n",
    "# parameters = {'kernel':('linear', 'rbf'), 'C':[1, 10]}\n",
    "param_grid = {\n",
    "    'svm__kernel': ['linear'],\n",
    "    'svm__C': [0.0001, 0.001, 0.01, 0.1, 1, 10, 100],\n",
    "}\n",
    "\n",
    "svm_module = svm.SVC(tol=0.01, class_weight='balanced')\n",
    "standardScaler = StandardScaler()\n",
    "pipe = Pipeline(steps=[('standard', standardScaler), ('svm', svm_module)])\n",
    "\n",
    "search = GridSearchCV(pipe, param_grid, n_jobs=14)\n",
    "search.fit(X_train_val_1d, y_train_val)\n",
    "print(\"Best parameter (CV score=%0.3f):\" % search.best_score_)\n",
    "print(search.best_params_)\n",
    "\n",
    "print(search.score(X_test_1d, y_test))\n",
    "print(search.predict(X_test_1d))\n",
    "print(y_test)"
   ]
  },
  {
   "cell_type": "code",
   "execution_count": 180,
   "id": "alone-tonight",
   "metadata": {},
   "outputs": [
    {
     "name": "stdout",
     "output_type": "stream",
     "text": [
      "Best parameter (CV score=0.898):\n",
      "{'logistic__C': 100000.0, 'pca__n_components': 256}\n",
      "0.7256637168141593\n",
      "[1. 1. 1. 0. 1. 0. 0. 1. 1. 1. 0. 1. 1. 1. 1. 1. 1. 1. 1. 1. 0. 1. 1. 1.\n",
      " 1. 1. 1. 1. 0. 1. 1. 0. 1. 0. 1. 1. 1. 1. 1. 1. 0. 0. 0. 1. 1. 1. 0. 0.\n",
      " 1. 0. 1. 1. 1. 0. 1. 1. 1. 1. 1. 1. 1. 1. 1. 1. 1. 0. 1. 1. 1. 1. 1. 0.\n",
      " 1. 1. 1. 1. 1. 0. 1. 1. 1. 1. 1. 1. 1. 1. 1. 1. 1. 1. 1. 1. 1. 1. 1. 1.\n",
      " 1. 0. 1. 0. 0. 0. 1. 1. 1. 0. 1. 1. 1. 1. 1. 1. 1.]\n"
     ]
    }
   ],
   "source": [
    "from sklearn.decomposition import PCA\n",
    "from sklearn.linear_model import LogisticRegression\n",
    "\n",
    "\n",
    "param_grid = {\n",
    "    'pca__n_components': [5, 15, 30, 45, 64, 75, 128, 256],\n",
    "    'logistic__C': np.logspace(-5, 5, 10),\n",
    "}\n",
    "\n",
    "pca = PCA()\n",
    "logistic = LogisticRegression(max_iter=10000, tol=0.1, class_weight='balanced')\n",
    "pipe = Pipeline(steps=[('pca', pca), ('logistic', logistic)])\n",
    "\n",
    "\n",
    "search = GridSearchCV(pipe, param_grid, n_jobs=14)\n",
    "search.fit(X_train_val_1d, y_train_val)\n",
    "print(\"Best parameter (CV score=%0.3f):\" % search.best_score_)\n",
    "print(search.best_params_)\n",
    "\n",
    "print(search.score(X_test_1d, y_test))\n",
    "\n",
    "print(search.predict(X_test_1d))"
   ]
  },
  {
   "cell_type": "code",
   "execution_count": 181,
   "id": "accessory-kazakhstan",
   "metadata": {},
   "outputs": [
    {
     "name": "stdout",
     "output_type": "stream",
     "text": [
      "Best parameter (CV score=0.889):\n",
      "{'pca__n_components': 512, 'svm__C': 10, 'svm__kernel': 'linear'}\n",
      "0.7168141592920354\n",
      "[1. 1. 0. 0. 1. 0. 0. 1. 1. 1. 0. 1. 0. 1. 1. 1. 1. 1. 0. 1. 0. 1. 1. 1.\n",
      " 1. 0. 1. 1. 0. 1. 1. 1. 1. 0. 1. 1. 1. 0. 1. 1. 0. 0. 1. 1. 1. 1. 1. 1.\n",
      " 1. 1. 1. 1. 1. 0. 1. 1. 1. 1. 1. 1. 1. 0. 0. 1. 1. 1. 1. 1. 1. 1. 1. 0.\n",
      " 1. 1. 1. 1. 1. 0. 1. 1. 1. 1. 1. 0. 1. 1. 1. 1. 1. 1. 1. 1. 1. 1. 1. 1.\n",
      " 1. 1. 1. 0. 1. 1. 1. 1. 1. 0. 1. 1. 1. 1. 1. 1. 1.]\n"
     ]
    }
   ],
   "source": [
    "from sklearn.decomposition import PCA\n",
    "from sklearn.linear_model import LogisticRegression\n",
    "\n",
    "np.random.seed(1234)\n",
    "\n",
    "param_grid = {\n",
    "    'pca__n_components': [8, 16, 32, 64, 128, 256, 512],\n",
    "    'svm__kernel': ['linear'],\n",
    "    'svm__C': [0.0001, 0.001, 0.01, 0.1, 1, 10, 100],\n",
    "    # 'svm__gamma': [0.0001, 0.001, 0.01, 0.1, 1, 10, 100],\n",
    "}\n",
    "\n",
    "standardScaler = StandardScaler()\n",
    "pca = PCA()\n",
    "svm_module = svm.SVC(tol=0.01, class_weight='balanced')\n",
    "pipe = Pipeline(steps=[('pca', pca), ('svm', svm_module)])\n",
    "\n",
    "\n",
    "search = GridSearchCV(pipe, param_grid, n_jobs=14)\n",
    "search.fit(X_train_val_1d, y_train_val)\n",
    "print(\"Best parameter (CV score=%0.3f):\" % search.best_score_)\n",
    "print(search.best_params_)\n",
    "\n",
    "print(search.score(X_test_1d, y_test))\n",
    "\n",
    "print(search.predict(X_test_1d))"
   ]
  },
  {
   "cell_type": "code",
   "execution_count": 182,
   "id": "latter-steering",
   "metadata": {},
   "outputs": [
    {
     "name": "stdout",
     "output_type": "stream",
     "text": [
      "0.7168141592920354\n"
     ]
    }
   ],
   "source": [
    "accuracy = np.mean( (search.predict(X_test_1d) > .5) == (y_test > .5))\n",
    "print(accuracy)"
   ]
  },
  {
   "cell_type": "code",
   "execution_count": 417,
   "id": "black-recording",
   "metadata": {},
   "outputs": [
    {
     "name": "stdout",
     "output_type": "stream",
     "text": [
      "(813, 56, 26)\n"
     ]
    }
   ],
   "source": [
    "y_train_re = y_train.reshape(-1,1)\n",
    "y_train_mul = np.repeat(y_train_re[:, :, np.newaxis], len(rbps_dict), axis=1)\n",
    "X_y_train = np.concatenate([X_train, y_train_mul], axis=2)\n",
    "\n",
    "y_val_re = y_val.reshape(-1,1)\n",
    "y_val_mul = np.repeat(y_val_re[:, :, np.newaxis], len(rbps_dict), axis=1)\n",
    "X_y_val = np.concatenate([X_val, y_val_mul], axis=2)\n",
    "\n",
    "y_test_re = y_test.reshape(-1,1)\n",
    "y_test_mul = np.repeat(y_test_re[:, :, np.newaxis], len(rbps_dict), axis=1)\n",
    "X_y_test = np.concatenate([X_test, y_test_mul], axis=2)\n",
    "\n",
    "X_y_tr_val = np.concatenate([X_y_train, X_y_val])\n",
    "random.shuffle(X_y_tr_val)\n",
    "print(X_y_tr_val.shape)\n"
   ]
  },
  {
   "cell_type": "code",
   "execution_count": 418,
   "id": "czech-management",
   "metadata": {},
   "outputs": [
    {
     "name": "stderr",
     "output_type": "stream",
     "text": [
      "/gpfs/commons/home/aebrahimpour/.conda/envs/cth/lib/python3.8/site-packages/sklearn/model_selection/_split.py:666: UserWarning: The least populated class in y has only 2 members, which is less than n_splits=5.\n",
      "  warnings.warn((\"The least populated class in y has only %d\"\n",
      "/gpfs/commons/home/aebrahimpour/.conda/envs/cth/lib/python3.8/site-packages/sklearn/model_selection/_split.py:666: UserWarning: The least populated class in y has only 1 members, which is less than n_splits=5.\n",
      "  warnings.warn((\"The least populated class in y has only %d\"\n",
      "/gpfs/commons/home/aebrahimpour/.conda/envs/cth/lib/python3.8/site-packages/sklearn/model_selection/_search.py:918: UserWarning: One or more of the test scores are non-finite: [nan nan nan nan nan nan nan nan nan nan nan nan nan nan]\n",
      "  warnings.warn(\n",
      "/gpfs/commons/home/aebrahimpour/.conda/envs/cth/lib/python3.8/site-packages/sklearn/model_selection/_split.py:666: UserWarning: The least populated class in y has only 2 members, which is less than n_splits=5.\n",
      "  warnings.warn((\"The least populated class in y has only %d\"\n",
      "/gpfs/commons/home/aebrahimpour/.conda/envs/cth/lib/python3.8/site-packages/sklearn/model_selection/_split.py:666: UserWarning: The least populated class in y has only 1 members, which is less than n_splits=5.\n",
      "  warnings.warn((\"The least populated class in y has only %d\"\n",
      "/gpfs/commons/home/aebrahimpour/.conda/envs/cth/lib/python3.8/site-packages/sklearn/model_selection/_search.py:918: UserWarning: One or more of the test scores are non-finite: [nan nan nan nan nan nan nan nan nan nan nan nan nan nan]\n",
      "  warnings.warn(\n",
      "/gpfs/commons/home/aebrahimpour/.conda/envs/cth/lib/python3.8/site-packages/sklearn/model_selection/_split.py:666: UserWarning: The least populated class in y has only 3 members, which is less than n_splits=5.\n",
      "  warnings.warn((\"The least populated class in y has only %d\"\n",
      "/gpfs/commons/home/aebrahimpour/.conda/envs/cth/lib/python3.8/site-packages/sklearn/model_selection/_split.py:666: UserWarning: The least populated class in y has only 4 members, which is less than n_splits=5.\n",
      "  warnings.warn((\"The least populated class in y has only %d\"\n",
      "/gpfs/commons/home/aebrahimpour/.conda/envs/cth/lib/python3.8/site-packages/sklearn/model_selection/_split.py:666: UserWarning: The least populated class in y has only 2 members, which is less than n_splits=5.\n",
      "  warnings.warn((\"The least populated class in y has only %d\"\n",
      "/gpfs/commons/home/aebrahimpour/.conda/envs/cth/lib/python3.8/site-packages/sklearn/model_selection/_split.py:666: UserWarning: The least populated class in y has only 1 members, which is less than n_splits=5.\n",
      "  warnings.warn((\"The least populated class in y has only %d\"\n",
      "/gpfs/commons/home/aebrahimpour/.conda/envs/cth/lib/python3.8/site-packages/sklearn/model_selection/_search.py:918: UserWarning: One or more of the test scores are non-finite: [nan nan nan nan nan nan nan nan nan nan nan nan nan nan]\n",
      "  warnings.warn(\n",
      "/gpfs/commons/home/aebrahimpour/.conda/envs/cth/lib/python3.8/site-packages/sklearn/model_selection/_split.py:666: UserWarning: The least populated class in y has only 3 members, which is less than n_splits=5.\n",
      "  warnings.warn((\"The least populated class in y has only %d\"\n",
      "/gpfs/commons/home/aebrahimpour/.conda/envs/cth/lib/python3.8/site-packages/sklearn/model_selection/_split.py:666: UserWarning: The least populated class in y has only 4 members, which is less than n_splits=5.\n",
      "  warnings.warn((\"The least populated class in y has only %d\"\n",
      "/gpfs/commons/home/aebrahimpour/.conda/envs/cth/lib/python3.8/site-packages/sklearn/model_selection/_split.py:666: UserWarning: The least populated class in y has only 1 members, which is less than n_splits=5.\n",
      "  warnings.warn((\"The least populated class in y has only %d\"\n",
      "/gpfs/commons/home/aebrahimpour/.conda/envs/cth/lib/python3.8/site-packages/sklearn/model_selection/_search.py:918: UserWarning: One or more of the test scores are non-finite: [nan nan nan nan nan nan nan nan nan nan nan nan nan nan]\n",
      "  warnings.warn(\n"
     ]
    }
   ],
   "source": [
    "results_list = []\n",
    "for rbp in rbps_dict:\n",
    "    rbp_num = rbps_dict[rbp]\n",
    "    # print('rbp: ', rbp)\n",
    "    # print('rbp num: ', rbp_num)\n",
    "    X_y_tr_val_filtered = np.array([X_y_tr_val[i, rbp_num, :] for i in range(len(X_y_tr_val)) if np.sum(X_y_tr_val[i, rbp_num, :]) > 0])\n",
    "    X_y_test_filtered = np.array([X_y_test[i, rbp_num, :] for i in range(len(X_y_test)) if np.sum(X_y_test[i, rbp_num, :]) > 0])\n",
    "    if len(X_y_tr_val_filtered) == 0 or len(X_y_test_filtered) == 0:\n",
    "        # print(len(X_y_tr_val_filtered), len(X_y_test_filtered))\n",
    "        continue\n",
    "        \n",
    "    # print(X_y_tr_val_filtered.shape)\n",
    "    \n",
    "    X_tr_val = X_y_tr_val_filtered[:,:-1]\n",
    "    y_tr_val = X_y_tr_val_filtered[:,-1]\n",
    "    \n",
    "    X_tst = X_y_test_filtered[:,:-1]\n",
    "    y_tst = X_y_test_filtered[:,-1]\n",
    "    \n",
    "    if np.sum(y_tr_val) == 0 or np.sum(y_tr_val) == len(y_tr_val):\n",
    "        # print('only one label!')\n",
    "        continue\n",
    "    \n",
    "    # parameters = {'kernel':('linear', 'rbf'), 'C':[1, 10]}\n",
    "    param_grid = {\n",
    "        'svm__kernel': ['linear', 'rbf'],\n",
    "        'svm__C': [0.0001, 0.001, 0.01, 0.1, 1, 10, 100],\n",
    "    }\n",
    "\n",
    "    svm_module = svm.SVC(tol=0.01, class_weight='balanced')\n",
    "    standardScaler = StandardScaler()\n",
    "    pipe = Pipeline(steps=[('standard', standardScaler), ('svm', svm_module)])\n",
    "\n",
    "    search = GridSearchCV(pipe, param_grid, n_jobs=14)\n",
    "    search.fit(X_tr_val, y_tr_val)\n",
    "    # print(\"Best parameter (CV score=%0.3f):\" % search.best_score_)\n",
    "    # print(search.best_params_)\n",
    "\n",
    "    # print('test score: ', search.score(X_tst, y_tst))\n",
    "    # print(search.predict(X_tst))\n",
    "    # print(y_tst)\n",
    "    \n",
    "    new_row = [rbp, rbp_num, len(X_y_tr_val_filtered), len(X_y_test_filtered), int(np.sum(y_tr_val)), int(np.sum(y_tst)), int(np.sum(search.predict(X_tr_val))), int(np.sum(search.predict(X_tst))), np.round(search.score(X_tr_val, y_tr_val), 2), np.round(search.score(X_tst, y_tst), 2)]\n",
    "    results_list.append(new_row)\n",
    "    \n",
    "df_results = pd.DataFrame(results_list, columns=['rbp', 'rbp_num', 'len_tr', 'len_test', 'pos_tr', 'pos_test', 'pos_tr_predict', 'pos_test_predict', 'score_train', 'score_test'])\n"
   ]
  },
  {
   "cell_type": "code",
   "execution_count": 419,
   "id": "noticed-chocolate",
   "metadata": {},
   "outputs": [],
   "source": [
    "df_results = df_results.sort_values('rbp_num')\n",
    "df_results = df_results.set_index('rbp_num')\n",
    "df_results.to_csv('single_results_svm_incexc_only.csv', sep='\\t')"
   ]
  },
  {
   "cell_type": "code",
   "execution_count": 324,
   "id": "assured-whole",
   "metadata": {},
   "outputs": [
    {
     "name": "stdout",
     "output_type": "stream",
     "text": [
      "[[[1 2 3]\n",
      "  [3 2 1]]\n",
      "\n",
      " [[4 5 6]\n",
      "  [6 5 4]]\n",
      "\n",
      " [[7 8 9]\n",
      "  [9 8 7]]]\n",
      "[[1]\n",
      " [0]\n",
      " [1]]\n",
      "[[[1]\n",
      "  [1]]\n",
      "\n",
      " [[0]\n",
      "  [0]]\n",
      "\n",
      " [[1]\n",
      "  [1]]]\n"
     ]
    },
    {
     "data": {
      "text/plain": [
       "array([[[1, 2, 3, 1],\n",
       "        [3, 2, 1, 1]],\n",
       "\n",
       "       [[4, 5, 6, 0],\n",
       "        [6, 5, 4, 0]],\n",
       "\n",
       "       [[7, 8, 9, 1],\n",
       "        [9, 8, 7, 1]]])"
      ]
     },
     "execution_count": 324,
     "metadata": {},
     "output_type": "execute_result"
    }
   ],
   "source": [
    "a = np.array([[[1,2,3], [3,2,1]], [[4,5,6],[6,5,4]], [[7,8,9],[9,8,7]]])\n",
    "print(a)\n",
    "b = np.array([1, 0, 1])\n",
    "c = b.reshape(-1,1)\n",
    "print(c)\n",
    "d = np.repeat(c[:, :, np.newaxis], 2, axis=1)\n",
    "print(d)\n",
    "\n",
    "np.concatenate([a,d], axis=2)\n",
    "\n",
    "# random.shuffle(a)\n",
    "# print(a)\n"
   ]
  },
  {
   "cell_type": "code",
   "execution_count": 299,
   "id": "loaded-reaction",
   "metadata": {},
   "outputs": [],
   "source": [
    "def get_related_rbps(rbps, exon_loci_df, const=500, dict_ocurr={}, strand='+'):\n",
    "    for rbp in rbps:\n",
    "        df_rbp_both = rbps[rbp]\n",
    "        df_rbp = df_rbp_both[df_rbp_both[5] == strand]\n",
    "        # print(df_rbp.head())\n",
    "        for idx, row in df_rbp.iterrows():\n",
    "            chromosom = row[0]\n",
    "            start = row[1]\n",
    "            end = row[2]\n",
    "            exon_df = exon_loci_df[exon_loci_df['chr']==chromosom]\n",
    "            # print(exon_df.head())\n",
    "            \n",
    "            for exon_idx, exon_row in exon_df.iterrows():\n",
    "                tup = (int(exon_row['start']), int(exon_row['end']))\n",
    "                if tup[1] >= end and tup[0] >= start and tup[0] <= end + const:\n",
    "                    if exon_idx in dict_ocurr:\n",
    "                        dict_ocurr[exon_idx].append(rbp)\n",
    "                    else:\n",
    "                        dict_ocurr[exon_idx] = [rbp]\n",
    "                    # print(tup, start, end)\n",
    "                    # idx_start = max(0, tup[0] - end -1)\n",
    "                    # idx_end = min(const-1, tup[0] - start -1)\n",
    "                    # for i in range(idx_start, idx_end+1):\n",
    "                    #     bucket_left[i] += 1\n",
    "                elif tup[0] <= start and tup[1] <= end and tup[1] >= start - const:\n",
    "                    if exon_idx in dict_ocurr:\n",
    "                        dict_ocurr[exon_idx].append(rbp)\n",
    "                    else:\n",
    "                        dict_ocurr[exon_idx] = [rbp]\n",
    "                    # print(tup, start, end)\n",
    "                    # idx_start = max(0, start-tup[1] -1)\n",
    "                    # idx_end = min(const-1, end-tup[1] -1)\n",
    "                    # for i in range(idx_start, idx_end+1):\n",
    "                    #     bucket_right[i] += 1\n"
   ]
  },
  {
   "cell_type": "code",
   "execution_count": 373,
   "id": "greater-president",
   "metadata": {},
   "outputs": [],
   "source": [
    "whole_dict_exc = {}\n",
    "# rbps = {'SF3B1': rbp_dict['SF3B1'], 'RPS11': rbp_dict['RPS11']}\n",
    "get_related_rbps(rbp_dict, df_ex_exc_pos, const=500, dict_ocurr=whole_dict_exc, strand='+')\n",
    "get_related_rbps(rbp_dict, df_ex_exc_neg, const=500, dict_ocurr=whole_dict_exc, strand='-')\n",
    "# print(whole_dict_exc)"
   ]
  },
  {
   "cell_type": "code",
   "execution_count": 374,
   "id": "rural-departure",
   "metadata": {},
   "outputs": [],
   "source": [
    "whole_dict_inc = {}\n",
    "# rbps = {'SF3B1': rbp_dict['SF3B1'], 'RPS11': rbp_dict['RPS11']}\n",
    "get_related_rbps(rbp_dict, df_ex_inc_pos, const=500, dict_ocurr=whole_dict_inc, strand='+')\n",
    "get_related_rbps(rbp_dict, df_ex_inc_neg, const=500, dict_ocurr=whole_dict_inc, strand='-')\n",
    "# print(whole_dict_inc)"
   ]
  },
  {
   "cell_type": "code",
   "execution_count": 378,
   "id": "convertible-honey",
   "metadata": {},
   "outputs": [
    {
     "name": "stdout",
     "output_type": "stream",
     "text": [
      "170 out of 357\n",
      "max:  59\n",
      "min:  1\n",
      "mean:  6.4411764705882355\n",
      "less than 10:  137\n"
     ]
    },
    {
     "data": {
      "image/png": "[encoded data removed]",
      "text/plain": [
       "<Figure size 432x288 with 1 Axes>"
      ]
     },
     "metadata": {
      "needs_background": "light"
     },
     "output_type": "display_data"
    }
   ],
   "source": [
    "data_count = []\n",
    "for exon in whole_dict_exc:\n",
    "    data_count.append(len(whole_dict_exc[exon]))\n",
    "plt.hist(data_count, bins=50)\n",
    "print(len(data_count), 'out of', len(df_ex_exc))\n",
    "print('max: ', np.max(data_count))\n",
    "print('min: ', np.min(data_count))\n",
    "print('mean: ', np.mean(data_count))\n",
    "print('less than 10: ', np.sum(np.array(data_count) < 10))"
   ]
  },
  {
   "cell_type": "code",
   "execution_count": 379,
   "id": "representative-argument",
   "metadata": {},
   "outputs": [
    {
     "name": "stdout",
     "output_type": "stream",
     "text": [
      "496 out of 1137\n",
      "max:  56\n",
      "min:  1\n",
      "mean:  4.788306451612903\n",
      "less than 10:  441\n"
     ]
    },
    {
     "data": {
      "image/png": "[encoded data removed]",
      "text/plain": [
       "<Figure size 432x288 with 1 Axes>"
      ]
     },
     "metadata": {
      "needs_background": "light"
     },
     "output_type": "display_data"
    }
   ],
   "source": [
    "data_count = []\n",
    "for exon in whole_dict_inc:\n",
    "    data_count.append(len(whole_dict_inc[exon]))\n",
    "plt.hist(data_count, bins=50)\n",
    "print(len(data_count), 'out of', len(df_ex_inc))\n",
    "print('max: ', np.max(data_count))\n",
    "print('min: ', np.min(data_count))\n",
    "print('mean: ', np.mean(data_count))\n",
    "print('less than 10: ', np.sum(np.array(data_count) < 10))"
   ]
  },
  {
   "cell_type": "code",
   "execution_count": 401,
   "id": "sunset-creation",
   "metadata": {},
   "outputs": [],
   "source": [
    "def get_related_rbps_any(rbps, exon_loci_df, const=500, dict_ocurr={}, strand='+', dict_spans_exon={}, dict_in_exon={}):\n",
    "    for rbp in rbps:\n",
    "        df_rbp_both = rbps[rbp]\n",
    "        df_rbp = df_rbp_both[df_rbp_both[5] == strand]\n",
    "        for idx, row in df_rbp.iterrows():\n",
    "            chromosom = row[0]\n",
    "            start = row[1]\n",
    "            end = row[2]\n",
    "            exon_df = exon_loci_df[exon_loci_df['chr']==chromosom]\n",
    "            \n",
    "            for exon_idx, exon_row in exon_df.iterrows():\n",
    "                tup = (int(exon_row['start']), int(exon_row['end']))\n",
    "                if tup[0] <= end + const or tup[1] >= start - const:\n",
    "                    if exon_idx in dict_ocurr:\n",
    "                        dict_ocurr[exon_idx].append(rbp)\n",
    "                    else:\n",
    "                        dict_ocurr[exon_idx] = [rbp]\n",
    "                    \n",
    "                    if start >= tup[0] and end <= tup[1]:\n",
    "                        if exon_idx in dict_in_exon:\n",
    "                            dict_in_exon[exon_idx].append(rbp)\n",
    "                        else:\n",
    "                            dict_in_exon[exon_idx] = [rbp]\n",
    "                            \n",
    "                    if start <= tup[0] and end >= tup[1]:\n",
    "                        if exon_idx in dict_spans_exon:\n",
    "                            dict_spans_exon[exon_idx].append(rbp)\n",
    "                        else:\n",
    "                            dict_spans_exon[exon_idx] = [rbp]\n"
   ]
  },
  {
   "cell_type": "code",
   "execution_count": 382,
   "id": "guided-boston",
   "metadata": {},
   "outputs": [],
   "source": [
    "whole_dict_exc_any = {}\n",
    "get_related_rbps_any(rbp_dict, df_ex_exc_pos, const=1000, dict_ocurr=whole_dict_exc_any, strand='+')\n",
    "get_related_rbps_any(rbp_dict, df_ex_exc_neg, const=1000, dict_ocurr=whole_dict_exc_any, strand='-')"
   ]
  },
  {
   "cell_type": "code",
   "execution_count": 383,
   "id": "third-continuity",
   "metadata": {},
   "outputs": [],
   "source": [
    "whole_dict_inc_any = {}\n",
    "get_related_rbps_any(rbp_dict, df_ex_inc_pos, const=1000, dict_ocurr=whole_dict_inc_any, strand='+')\n",
    "get_related_rbps_any(rbp_dict, df_ex_inc_neg, const=1000, dict_ocurr=whole_dict_inc_any, strand='-')"
   ]
  },
  {
   "cell_type": "code",
   "execution_count": 385,
   "id": "affected-leader",
   "metadata": {},
   "outputs": [
    {
     "name": "stdout",
     "output_type": "stream",
     "text": [
      "357 out of 357\n",
      "max:  25013\n",
      "min:  2367\n",
      "mean:  10512.873949579833\n",
      "less than 10:  0\n"
     ]
    },
    {
     "data": {
      "image/png": "[encoded data removed]",
      "text/plain": [
       "<Figure size 432x288 with 1 Axes>"
      ]
     },
     "metadata": {
      "needs_background": "light"
     },
     "output_type": "display_data"
    }
   ],
   "source": [
    "data_count = []\n",
    "for exon in whole_dict_exc_any:\n",
    "    data_count.append(len(whole_dict_exc_any[exon]))\n",
    "plt.hist(data_count, bins=50)\n",
    "print(len(data_count), 'out of', len(df_ex_exc))\n",
    "print('max: ', np.max(data_count))\n",
    "print('min: ', np.min(data_count))\n",
    "print('mean: ', np.mean(data_count))\n",
    "print('less than 10: ', np.sum(np.array(data_count) < 10))"
   ]
  },
  {
   "cell_type": "code",
   "execution_count": 386,
   "id": "sexual-gauge",
   "metadata": {},
   "outputs": [
    {
     "name": "stdout",
     "output_type": "stream",
     "text": [
      "1137 out of 1137\n",
      "max:  25013\n",
      "min:  2367\n",
      "mean:  10582.368513632366\n",
      "less than 10:  0\n"
     ]
    },
    {
     "data": {
      "image/png": "[encoded data removed]",
      "text/plain": [
       "<Figure size 432x288 with 1 Axes>"
      ]
     },
     "metadata": {
      "needs_background": "light"
     },
     "output_type": "display_data"
    }
   ],
   "source": [
    "data_count = []\n",
    "for exon in whole_dict_inc_any:\n",
    "    data_count.append(len(whole_dict_inc_any[exon]))\n",
    "plt.hist(data_count, bins=50)\n",
    "print(len(data_count), 'out of', len(df_ex_inc))\n",
    "print('max: ', np.max(data_count))\n",
    "print('min: ', np.min(data_count))\n",
    "print('mean: ', np.mean(data_count))\n",
    "print('less than 10: ', np.sum(np.array(data_count) < 10))"
   ]
  },
  {
   "cell_type": "code",
   "execution_count": 402,
   "id": "neutral-moisture",
   "metadata": {},
   "outputs": [],
   "source": [
    "whole_dict_exc_any = {}\n",
    "whole_dict_spans_exon = {}\n",
    "whole_dict_in_exon = {}\n",
    "get_related_rbps_any(rbp_dict, df_ex_exc_pos, const=500, dict_ocurr=whole_dict_exc_any, strand='+', dict_spans_exon=whole_dict_spans_exon, dict_in_exon=whole_dict_in_exon)\n",
    "get_related_rbps_any(rbp_dict, df_ex_exc_neg, const=500, dict_ocurr=whole_dict_exc_any, strand='-', dict_spans_exon=whole_dict_spans_exon, dict_in_exon=whole_dict_in_exon)"
   ]
  },
  {
   "cell_type": "code",
   "execution_count": 403,
   "id": "dried-departure",
   "metadata": {},
   "outputs": [],
   "source": [
    "whole_dict_inc_any = {}\n",
    "whole_dict_spans_exon = {}\n",
    "whole_dict_in_exon = {}\n",
    "get_related_rbps_any(rbp_dict, df_ex_inc_pos, const=500, dict_ocurr=whole_dict_inc_any, strand='+', dict_spans_exon=whole_dict_spans_exon, dict_in_exon=whole_dict_in_exon)\n",
    "get_related_rbps_any(rbp_dict, df_ex_inc_neg, const=500, dict_ocurr=whole_dict_inc_any, strand='-', dict_spans_exon=whole_dict_spans_exon, dict_in_exon=whole_dict_in_exon)"
   ]
  },
  {
   "cell_type": "code",
   "execution_count": 390,
   "id": "violent-defendant",
   "metadata": {},
   "outputs": [
    {
     "name": "stdout",
     "output_type": "stream",
     "text": [
      "357 out of 357\n",
      "max:  25013\n",
      "min:  2367\n",
      "mean:  10512.873949579833\n",
      "less than 10:  0\n"
     ]
    },
    {
     "data": {
      "image/png": "[encoded data removed]",
      "text/plain": [
       "<Figure size 432x288 with 1 Axes>"
      ]
     },
     "metadata": {
      "needs_background": "light"
     },
     "output_type": "display_data"
    }
   ],
   "source": [
    "data_count_500 = []\n",
    "for exon in whole_dict_exc_any:\n",
    "    data_count_500.append(len(whole_dict_exc_any[exon]))\n",
    "plt.hist(data_count_500, bins=50)\n",
    "print(len(data_count_500), 'out of', len(df_ex_exc))\n",
    "print('max: ', np.max(data_count_500))\n",
    "print('min: ', np.min(data_count_500))\n",
    "print('mean: ', np.mean(data_count_500))\n",
    "print('less than 10: ', np.sum(np.array(data_count_500) < 10))"
   ]
  },
  {
   "cell_type": "code",
   "execution_count": 391,
   "id": "seventh-principle",
   "metadata": {},
   "outputs": [
    {
     "name": "stdout",
     "output_type": "stream",
     "text": [
      "1137 out of 1137\n",
      "max:  25013\n",
      "min:  2367\n",
      "mean:  10582.368513632366\n",
      "less than 10:  0\n"
     ]
    },
    {
     "data": {
      "image/png": "[encoded data removed]",
      "text/plain": [
       "<Figure size 432x288 with 1 Axes>"
      ]
     },
     "metadata": {
      "needs_background": "light"
     },
     "output_type": "display_data"
    }
   ],
   "source": [
    "data_count_500 = []\n",
    "for exon in whole_dict_inc_any:\n",
    "    data_count_500.append(len(whole_dict_inc_any[exon]))\n",
    "plt.hist(data_count_500, bins=50)\n",
    "print(len(data_count_500), 'out of', len(df_ex_inc))\n",
    "print('max: ', np.max(data_count_500))\n",
    "print('min: ', np.min(data_count_500))\n",
    "print('mean: ', np.mean(data_count_500))\n",
    "print('less than 10: ', np.sum(np.array(data_count_500) < 10))"
   ]
  },
  {
   "cell_type": "code",
   "execution_count": 406,
   "id": "cooked-cambridge",
   "metadata": {},
   "outputs": [
    {
     "name": "stdout",
     "output_type": "stream",
     "text": [
      "30 out of 357\n",
      "max:  7\n",
      "min:  1\n"
     ]
    },
    {
     "data": {
      "image/png": "[encoded data removed]",
      "text/plain": [
       "<Figure size 432x288 with 1 Axes>"
      ]
     },
     "metadata": {
      "needs_background": "light"
     },
     "output_type": "display_data"
    }
   ],
   "source": [
    "data_count_500 = []\n",
    "for exon in whole_dict_spans_exon:\n",
    "    data_count_500.append(len(whole_dict_spans_exon[exon]))\n",
    "plt.hist(data_count_500, bins=50)\n",
    "print(len(data_count_500), 'out of', len(df_ex_exc))\n",
    "print('max: ', np.max(data_count_500))\n",
    "print('min: ', np.min(data_count_500))"
   ]
  },
  {
   "cell_type": "code",
   "execution_count": 407,
   "id": "million-aluminum",
   "metadata": {},
   "outputs": [
    {
     "name": "stdout",
     "output_type": "stream",
     "text": [
      "229 out of 357\n",
      "max:  41\n",
      "min:  1\n"
     ]
    },
    {
     "data": {
      "image/png": "[encoded data removed]",
      "text/plain": [
       "<Figure size 432x288 with 1 Axes>"
      ]
     },
     "metadata": {
      "needs_background": "light"
     },
     "output_type": "display_data"
    }
   ],
   "source": [
    "data_count_500 = []\n",
    "for exon in whole_dict_in_exon:\n",
    "    data_count_500.append(len(whole_dict_in_exon[exon]))\n",
    "plt.hist(data_count_500, bins=50)\n",
    "print(len(data_count_500), 'out of', len(df_ex_exc))\n",
    "print('max: ', np.max(data_count_500))\n",
    "print('min: ', np.min(data_count_500))"
   ]
  },
  {
   "cell_type": "code",
   "execution_count": 142,
   "id": "minor-ladder",
   "metadata": {},
   "outputs": [
    {
     "name": "stdout",
     "output_type": "stream",
     "text": [
      "[[ 0.1  0.2  0.3  0.4  0.5  0.6]\n",
      " [ 0.1  0.2  0.3  0.4  0.5  0.6]\n",
      " [ 0.1  0.2  0.3  0.4  0.5  0.6]\n",
      " [-0.1 -0.2 -0.3 -0.4 -0.5 -0.6]\n",
      " [-0.1 -0.2 -0.3 -0.4 -0.5 -0.6]]\n",
      "[[-4.47213595e-01 -8.94427191e-01  2.91957741e-16  5.15819767e-32\n",
      "   6.54510008e-48]\n",
      " [-4.47213595e-01  2.23606798e-01  8.66025404e-01 -4.16333634e-17\n",
      "  -4.16333634e-17]\n",
      " [-4.47213595e-01  2.23606798e-01 -2.88675135e-01 -8.16496581e-01\n",
      "  -1.01438317e-16]\n",
      " [ 4.47213595e-01 -2.23606798e-01  2.88675135e-01 -4.08248290e-01\n",
      "  -7.07106781e-01]\n",
      " [ 4.47213595e-01 -2.23606798e-01  2.88675135e-01 -4.08248290e-01\n",
      "   7.07106781e-01]]\n",
      "[2.13307290e+00 1.65498289e-16 2.59384586e-32 8.61979766e-50\n",
      " 3.66303427e-66]\n",
      "[[-0.10482848 -0.20965697 -0.31448545 -0.41931393 -0.52414242 -0.6289709 ]\n",
      " [ 0.97941235 -0.03919949  0.01965722 -0.07839897 -0.17645516  0.03931444]\n",
      " [ 0.16651077  0.1915993  -0.31709223  0.38319861  0.53477592 -0.63418446]\n",
      " [ 0.04459275 -0.20169153  0.01269316 -0.74700192  0.6312801   0.02538633]\n",
      " [-0.0063025   0.85113021 -0.37498264 -0.30573489 -0.08922172  0.18300636]\n",
      " [ 0.00289354 -0.39076203 -0.8120295   0.14036582  0.04096255  0.40807384]]\n",
      "-------------\n",
      "[[ 0.91  0.91  0.91 -0.91 -0.91]\n",
      " [ 0.91  0.91  0.91 -0.91 -0.91]\n",
      " [ 0.91  0.91  0.91 -0.91 -0.91]\n",
      " [-0.91 -0.91 -0.91  0.91  0.91]\n",
      " [-0.91 -0.91 -0.91  0.91  0.91]]\n",
      "(array([ 4.55000000e+00+0.00000000e+00j, -6.09649389e-32+1.30698019e-24j,\n",
      "       -6.09649389e-32-1.30698019e-24j,  8.43375835e-81+0.00000000e+00j,\n",
      "        1.47548977e-64+0.00000000e+00j]), array([[ 4.47213595e-01+0.00000000e+00j,  5.34606105e-16-3.21103972e-08j,\n",
      "         5.34606105e-16+3.21103972e-08j,  4.66543383e-48+0.00000000e+00j,\n",
      "         2.70968333e-47+0.00000000e+00j],\n",
      "       [ 4.47213595e-01+0.00000000e+00j,  8.66025404e-01+0.00000000e+00j,\n",
      "         8.66025404e-01-0.00000000e+00j, -2.14690125e-18+0.00000000e+00j,\n",
      "        -1.33060728e-18+0.00000000e+00j],\n",
      "       [ 4.47213595e-01+0.00000000e+00j, -2.88675135e-01+1.07034657e-08j,\n",
      "        -2.88675135e-01-1.07034657e-08j,  1.77494226e-16+0.00000000e+00j,\n",
      "        -8.16496581e-01+0.00000000e+00j],\n",
      "       [-4.47213595e-01+0.00000000e+00j,  2.88675135e-01-1.07034657e-08j,\n",
      "         2.88675135e-01+1.07034657e-08j, -7.07106781e-01+0.00000000e+00j,\n",
      "        -4.08248290e-01+0.00000000e+00j],\n",
      "       [-4.47213595e-01+0.00000000e+00j,  2.88675135e-01-1.07034657e-08j,\n",
      "         2.88675135e-01+1.07034657e-08j,  7.07106781e-01+0.00000000e+00j,\n",
      "        -4.08248290e-01+0.00000000e+00j]]))\n",
      "0.9100000000000001\n"
     ]
    }
   ],
   "source": [
    "a = np.array([0.1 * i for i in range(1,7)])\n",
    "mat = np.array([a, a, a, -a, -a])\n",
    "print(mat)\n",
    "\n",
    "svd = np.linalg.svd(mat)\n",
    "print(svd[0])\n",
    "print(svd[1])\n",
    "print(svd[2])\n",
    "print('-------------')\n",
    "mat_2 = np.matmul(mat,mat.T)\n",
    "print(mat_2)\n",
    "\n",
    "print(np.linalg.eig(np.matmul(mat,mat.T)))\n",
    "\n",
    "print(np.matmul(a,a))\n",
    "\n",
    "# v = -a\n",
    "# u = np.array([-4.47213595e-01, -8.94427191e-01,  2.91957741e-16, 5.15819767e-32,  6.54510008e-48])\n",
    "# print(np.matmul(u,v.T))"
   ]
  },
  {
   "cell_type": "code",
   "execution_count": 144,
   "id": "honest-prague",
   "metadata": {},
   "outputs": [
    {
     "name": "stdout",
     "output_type": "stream",
     "text": [
      "0.9100000000000001\n",
      "4.41\n",
      "2.1\n"
     ]
    }
   ],
   "source": [
    "b = np.sum(a**2)\n",
    "print(b)\n",
    "b = np.sum(a)**2\n",
    "print(b)\n",
    "print(sum(a))"
   ]
  },
  {
   "cell_type": "code",
   "execution_count": 138,
   "id": "average-aggregate",
   "metadata": {},
   "outputs": [
    {
     "name": "stdout",
     "output_type": "stream",
     "text": [
      "[0.1 0.2 0.3 0.4 0.5 0.6]\n"
     ]
    }
   ],
   "source": [
    "print(a)"
   ]
  },
  {
   "cell_type": "code",
   "execution_count": 139,
   "id": "national-stanley",
   "metadata": {},
   "outputs": [
    {
     "name": "stdout",
     "output_type": "stream",
     "text": [
      "[[0, 1, 0, 0, 0], [1, 2, 3, 4, 5], [0, 3, 0, 0, 0], [0, 4, 0, 0, 0], [0, 5, 0, 0, 0]]\n"
     ]
    }
   ],
   "source": [
    "mat = [[0,1,0,0,0],[1,2,3,4,5],[0,3,0,0,0],[0,4,0,0,0],[0,5,0,0,0]]\n",
    "print(mat)"
   ]
  },
  {
   "cell_type": "code",
   "execution_count": 140,
   "id": "mounted-volume",
   "metadata": {},
   "outputs": [
    {
     "data": {
      "text/plain": [
       "(array([ 8.21110255e+00,  1.11022302e-16, -6.21110255e+00,  0.00000000e+00,\n",
       "         0.00000000e+00]),\n",
       " array([[ 9.18932112e-02, -9.90147543e-01, -1.05657375e-01,\n",
       "          9.90789523e-16, -5.15691706e-16],\n",
       "        [ 7.54544581e-01,  1.22503097e-17,  6.56248791e-01,\n",
       "         -5.00349819e-33,  3.40734960e-32],\n",
       "        [ 2.75679634e-01,  5.94088526e-02, -3.16972125e-01,\n",
       "         -5.65685425e-01, -7.07106781e-01],\n",
       "        [ 3.67572845e-01,  7.92118034e-02, -4.22629500e-01,\n",
       "          7.75322563e-01, -2.80846796e-01],\n",
       "        [ 4.59466056e-01,  9.90147543e-02, -5.28286875e-01,\n",
       "         -2.80846796e-01,  6.48941505e-01]]))"
      ]
     },
     "execution_count": 140,
     "metadata": {},
     "output_type": "execute_result"
    }
   ],
   "source": [
    "np.linalg.eig(mat)"
   ]
  },
  {
   "cell_type": "markdown",
   "id": "transparent-andrews",
   "metadata": {},
   "source": [
    "# Working with BigWig files:"
   ]
  },
  {
   "cell_type": "code",
   "execution_count": 84,
   "id": "distributed-klein",
   "metadata": {},
   "outputs": [],
   "source": [
    "bw_file = \"Data/RBPs/bigwig_files/ENCFF990TDV.bigWig\"\n",
    "import pyBigWig"
   ]
  },
  {
   "cell_type": "code",
   "execution_count": 98,
   "id": "natural-multimedia",
   "metadata": {},
   "outputs": [
    {
     "name": "stdout",
     "output_type": "stream",
     "text": [
      "True\n"
     ]
    },
    {
     "data": {
      "text/plain": [
       "1"
      ]
     },
     "execution_count": 98,
     "metadata": {},
     "output_type": "execute_result"
    }
   ],
   "source": [
    "bw = pyBigWig.open(bw_file)\n",
    "print(bw.isBigWig())\n",
    "pyBigWig.numpy"
   ]
  },
  {
   "cell_type": "code",
   "execution_count": 99,
   "id": "broad-portland",
   "metadata": {},
   "outputs": [
    {
     "data": {
      "text/plain": [
       "{'chr1': 248956422,\n",
       " 'chr2': 242193529,\n",
       " 'chr3': 198295559,\n",
       " 'chr4': 190214555,\n",
       " 'chr5': 181538259,\n",
       " 'chr6': 170805979,\n",
       " 'chr7': 159345973,\n",
       " 'chr8': 145138636,\n",
       " 'chr9': 138394717,\n",
       " 'chr10': 133797422,\n",
       " 'chr11': 135086622,\n",
       " 'chr12': 133275309,\n",
       " 'chr13': 114364328,\n",
       " 'chr14': 107043718,\n",
       " 'chr15': 101991189,\n",
       " 'chr16': 90338345,\n",
       " 'chr17': 83257441,\n",
       " 'chr18': 80373285,\n",
       " 'chr19': 58617616,\n",
       " 'chr20': 64444167,\n",
       " 'chr21': 46709983,\n",
       " 'chr22': 50818468,\n",
       " 'chrX': 156040895,\n",
       " 'chrY': 57227415,\n",
       " 'chrM': 16569,\n",
       " 'chr1_KI270706v1_random': 175055,\n",
       " 'chr1_KI270707v1_random': 32032,\n",
       " 'chr1_KI270711v1_random': 42210,\n",
       " 'chr1_KI270712v1_random': 176043,\n",
       " 'chr1_KI270713v1_random': 40745,\n",
       " 'chr1_KI270714v1_random': 41717,\n",
       " 'chr3_GL000221v1_random': 155397,\n",
       " 'chr4_GL000008v2_random': 209709,\n",
       " 'chr9_KI270718v1_random': 38054,\n",
       " 'chr9_KI270719v1_random': 176845,\n",
       " 'chr9_KI270720v1_random': 39050,\n",
       " 'chr14_GL000009v2_random': 201709,\n",
       " 'chr14_GL000225v1_random': 211173,\n",
       " 'chr14_KI270722v1_random': 194050,\n",
       " 'chr14_GL000194v1_random': 191469,\n",
       " 'chr14_KI270725v1_random': 172810,\n",
       " 'chr15_KI270727v1_random': 448248,\n",
       " 'chr16_KI270728v1_random': 1872759,\n",
       " 'chr17_GL000205v2_random': 185591,\n",
       " 'chr17_KI270729v1_random': 280839,\n",
       " 'chr22_KI270734v1_random': 165050,\n",
       " 'chr22_KI270735v1_random': 42811,\n",
       " 'chr22_KI270736v1_random': 181920,\n",
       " 'chrUn_KI270442v1': 392061,\n",
       " 'chrUn_KI270466v1': 1233,\n",
       " 'chrUn_KI270467v1': 3920,\n",
       " 'chrUn_KI270435v1': 92983,\n",
       " 'chrUn_KI270438v1': 112505,\n",
       " 'chrUn_GL000195v1': 182896,\n",
       " 'chrUn_GL000219v1': 179198,\n",
       " 'chrUn_GL000224v1': 179693,\n",
       " 'chrUn_KI270743v1': 210658,\n",
       " 'chrUn_KI270744v1': 168472,\n",
       " 'chrUn_KI270745v1': 41891,\n",
       " 'chrUn_KI270746v1': 66486,\n",
       " 'chrUn_KI270750v1': 148850,\n",
       " 'chrUn_KI270754v1': 40191,\n",
       " 'chrUn_KI270756v1': 79590,\n",
       " 'chrUn_GL000214v1': 137718,\n",
       " 'chrUn_KI270742v1': 186739,\n",
       " 'chrUn_GL000216v2': 176608,\n",
       " 'chrUn_GL000218v1': 161147,\n",
       " 'chrEBV': 171823}"
      ]
     },
     "execution_count": 99,
     "metadata": {},
     "output_type": "execute_result"
    }
   ],
   "source": [
    "bw.chroms()"
   ]
  },
  {
   "cell_type": "code",
   "execution_count": 100,
   "id": "reverse-recording",
   "metadata": {},
   "outputs": [
    {
     "data": {
      "text/plain": [
       "{'version': 4,\n",
       " 'nLevels': 10,\n",
       " 'nBasesCovered': 20072489,\n",
       " 'minVal': -4215,\n",
       " 'maxVal': 0,\n",
       " 'sumData': -15449522,\n",
       " 'sumSquared': 1366218518}"
      ]
     },
     "execution_count": 100,
     "metadata": {},
     "output_type": "execute_result"
    }
   ],
   "source": [
    "bw.header()"
   ]
  },
  {
   "cell_type": "code",
   "execution_count": 101,
   "id": "southeast-ocean",
   "metadata": {},
   "outputs": [
    {
     "data": {
      "text/plain": [
       "[nan, nan, nan, nan, nan, nan, nan, nan, nan, nan, nan, nan, nan, nan, nan]"
      ]
     },
     "execution_count": 101,
     "metadata": {},
     "output_type": "execute_result"
    }
   ],
   "source": [
    "bw.values('chr1', 549377, 549392)"
   ]
  },
  {
   "cell_type": "code",
   "execution_count": 79,
   "id": "altered-literature",
   "metadata": {},
   "outputs": [
    {
     "ename": "RuntimeError",
     "evalue": "Invalid interval bounds!",
     "output_type": "error",
     "traceback": [
      "\u001b[0;31m---------------------------------------------------------------------------\u001b[0m",
      "\u001b[0;31mRuntimeError\u001b[0m                              Traceback (most recent call last)",
      "\u001b[0;32m<ipython-input-79-ba056ad15023>\u001b[0m in \u001b[0;36m<module>\u001b[0;34m\u001b[0m\n\u001b[0;32m----> 1\u001b[0;31m \u001b[0mnp\u001b[0m\u001b[0;34m.\u001b[0m\u001b[0mmean\u001b[0m\u001b[0;34m(\u001b[0m\u001b[0mbw\u001b[0m\u001b[0;34m.\u001b[0m\u001b[0mvalues\u001b[0m\u001b[0;34m(\u001b[0m\u001b[0;34m'chr1'\u001b[0m\u001b[0;34m,\u001b[0m \u001b[0;36m49294\u001b[0m\u001b[0;34m,\u001b[0m \u001b[0;36m41629\u001b[0m\u001b[0;34m)\u001b[0m\u001b[0;34m)\u001b[0m\u001b[0;34m\u001b[0m\u001b[0;34m\u001b[0m\u001b[0m\n\u001b[0m",
      "\u001b[0;31mRuntimeError\u001b[0m: Invalid interval bounds!"
     ]
    }
   ],
   "source": [
    "np.mean(bw.values('chr1', 49294, 41629))"
   ]
  },
  {
   "cell_type": "code",
   "execution_count": 80,
   "id": "occasional-japanese",
   "metadata": {},
   "outputs": [
    {
     "data": {
      "text/plain": [
       "[nan, nan, nan]"
      ]
     },
     "execution_count": 80,
     "metadata": {},
     "output_type": "execute_result"
    }
   ],
   "source": [
    "bw.values(\"chr1\", 0, 3)"
   ]
  },
  {
   "cell_type": "code",
   "execution_count": 110,
   "id": "promotional-reserve",
   "metadata": {},
   "outputs": [
    {
     "name": "stdout",
     "output_type": "stream",
     "text": [
      "((258995, 258999, -0.8165836334228516), (258999, 259015, -1.0887781381607056), (259015, 259018, -1.9053617715835571), (259018, 259021, -2.177556276321411), (259021, 259025, -2.4497509002685547))\n",
      "[None, None, None, -0.5443890690803528, -0.5443890690803528, -0.8165836334228516, -0.8165836334228516, -0.8165836334228516, -1.0887781381607056, -1.0887781381607056, -1.0887781381607056, -1.0887781381607056, -1.0887781381607056, -1.0887781381607056, -1.0887781381607056, -1.0887781381607056, -1.0887781381607056, -1.0887781381607056, -1.0887781381607056, -1.0887781381607056, -1.0887781381607056, -1.0887781381607056, -1.9053617715835571, -1.9053617715835571, -2.177556276321411, -2.177556276321411, -2.177556276321411, -2.4497509002685547, -2.4497509002685547, -2.4497509002685547]\n",
      "[-0.8165836334228516, -0.8165836334228516, -0.8165836334228516, -0.8165836334228516, -1.0887781381607056, -1.0887781381607056, -1.0887781381607056, -1.0887781381607056, -1.0887781381607056, -1.0887781381607056, -1.0887781381607056, -1.0887781381607056, -1.0887781381607056, -1.0887781381607056, -1.0887781381607056, -1.0887781381607056, -1.0887781381607056, -1.0887781381607056, -1.0887781381607056, -1.0887781381607056, -1.9053617715835571, -1.9053617715835571, -1.9053617715835571, -2.177556276321411, -2.177556276321411, -2.177556276321411, -2.4497509002685547, -2.4497509002685547, -2.4497509002685547, -2.4497509002685547]\n"
     ]
    },
    {
     "data": {
      "text/plain": [
       "[-0.8165836334228516,\n",
       " -0.8165836334228516,\n",
       " -0.8165836334228516,\n",
       " -0.8165836334228516,\n",
       " -1.0887781381607056,\n",
       " -1.0887781381607056,\n",
       " -1.0887781381607056,\n",
       " -1.0887781381607056,\n",
       " -1.0887781381607056,\n",
       " -1.0887781381607056,\n",
       " -1.0887781381607056,\n",
       " -1.0887781381607056,\n",
       " -1.0887781381607056,\n",
       " -1.0887781381607056,\n",
       " -1.0887781381607056,\n",
       " -1.0887781381607056,\n",
       " -1.0887781381607056,\n",
       " -1.0887781381607056,\n",
       " -1.0887781381607056,\n",
       " -1.0887781381607056,\n",
       " -1.9053617715835571,\n",
       " -1.9053617715835571,\n",
       " -1.9053617715835571,\n",
       " -2.177556276321411,\n",
       " -2.177556276321411,\n",
       " -2.177556276321411,\n",
       " -2.4497509002685547,\n",
       " -2.4497509002685547,\n",
       " -2.4497509002685547,\n",
       " -2.4497509002685547]"
      ]
     },
     "execution_count": 110,
     "metadata": {},
     "output_type": "execute_result"
    }
   ],
   "source": [
    "# bw.intervals(\"1\", 0, 3)\n",
    "print(bw.intervals(\"chr1\", 258995, 259025))\n",
    "print(bw.stats(\"chr1\", 258990, 259025, nBins=30))\n",
    "print(bw.stats(\"chr1\", 258995, 259025, nBins=30, exact=True))\n",
    "bw.values(\"chr1\", 258995, 259025)"
   ]
  },
  {
   "cell_type": "code",
   "execution_count": 142,
   "id": "southern-pleasure",
   "metadata": {},
   "outputs": [
    {
     "name": "stdout",
     "output_type": "stream",
     "text": [
      "[-0.8165836334228516, -0.8165836334228516, -0.8165836334228516, -0.8165836334228516, -1.0887781381607056, -1.0887781381607056, -1.0887781381607056, -1.0887781381607056, -1.0887781381607056, -1.0887781381607056, -1.0887781381607056, -1.0887781381607056, -1.0887781381607056, -1.0887781381607056, -1.0887781381607056, -1.0887781381607056, -1.0887781381607056, -1.0887781381607056, -1.0887781381607056, -1.0887781381607056, -1.9053617715835571, -1.9053617715835571, -1.9053617715835571, -2.177556276321411, -2.177556276321411, -2.177556276321411, -2.4497509002685547, -2.4497509002685547, -2.4497509002685547, -2.4497509002685547]\n",
      "----------\n",
      "[None, None, None, -0.8165836185216904, -1.0887781381607056, -2.018776168425878]\n",
      "----------\n",
      "[-0.8710225343704223, -1.0887781381607056, -1.0887781381607056, -1.0887781381607056, -2.0142395734786986, -2.395311975479126]\n",
      "----------\n",
      "[-0.87102253 -1.08877814 -1.08877814 -1.08877814 -2.01423957 -2.39531198]\n"
     ]
    }
   ],
   "source": [
    "a = bw.stats(\"chr1\", 258995, 259025, nBins=30)\n",
    "print(a)\n",
    "print('----------')\n",
    "a = bw.stats(\"chr1\", 258955, 259025, nBins=6)\n",
    "print(a)\n",
    "print('----------')\n",
    "a = bw.stats(\"chr1\", 258995, 259025, nBins=6)\n",
    "print(a)\n",
    "print('----------')\n",
    "\n",
    "a = np.array(a)\n",
    "a[a == None] = 0.0\n",
    "print(a)"
   ]
  },
  {
   "cell_type": "code",
   "execution_count": 114,
   "id": "compact-hamilton",
   "metadata": {},
   "outputs": [
    {
     "ename": "TypeError",
     "evalue": "unsupported operand type(s) for +: 'NoneType' and 'int'",
     "output_type": "error",
     "traceback": [
      "\u001b[0;31m---------------------------------------------------------------------------\u001b[0m",
      "\u001b[0;31mTypeError\u001b[0m                                 Traceback (most recent call last)",
      "\u001b[0;32m<ipython-input-114-ed431b8f7283>\u001b[0m in \u001b[0;36m<module>\u001b[0;34m\u001b[0m\n\u001b[0;32m----> 1\u001b[0;31m \u001b[0mprint\u001b[0m\u001b[0;34m(\u001b[0m\u001b[0mnp\u001b[0m\u001b[0;34m.\u001b[0m\u001b[0marray\u001b[0m\u001b[0;34m(\u001b[0m\u001b[0ma\u001b[0m\u001b[0;34m)\u001b[0m \u001b[0;34m+\u001b[0m \u001b[0mnp\u001b[0m\u001b[0;34m.\u001b[0m\u001b[0marray\u001b[0m\u001b[0;34m(\u001b[0m\u001b[0;34m[\u001b[0m\u001b[0mi\u001b[0m \u001b[0;32mfor\u001b[0m \u001b[0mi\u001b[0m \u001b[0;32min\u001b[0m \u001b[0mrange\u001b[0m\u001b[0;34m(\u001b[0m\u001b[0;36m35\u001b[0m\u001b[0;34m)\u001b[0m\u001b[0;34m]\u001b[0m\u001b[0;34m)\u001b[0m\u001b[0;34m)\u001b[0m\u001b[0;34m\u001b[0m\u001b[0;34m\u001b[0m\u001b[0m\n\u001b[0m",
      "\u001b[0;31mTypeError\u001b[0m: unsupported operand type(s) for +: 'NoneType' and 'int'"
     ]
    }
   ],
   "source": [
    "print(np.array(a) + np.array([i for i in range(35)]))"
   ]
  },
  {
   "cell_type": "code",
   "execution_count": 128,
   "id": "incorrect-parade",
   "metadata": {},
   "outputs": [],
   "source": [
    "a = bw.intervals(\"chr1\", 258975, 258995)\n",
    "if a is None:print('No')"
   ]
  },
  {
   "cell_type": "code",
   "execution_count": null,
   "id": "rocky-gibson",
   "metadata": {},
   "outputs": [],
   "source": []
  }
 ],
 "metadata": {
  "kernelspec": {
   "display_name": "Python 3",
   "language": "python",
   "name": "python3"
  },
  "language_info": {
   "codemirror_mode": {
    "name": "ipython",
    "version": 3
   },
   "file_extension": ".py",
   "mimetype": "text/x-python",
   "name": "python",
   "nbconvert_exporter": "python",
   "pygments_lexer": "ipython3",
   "version": "3.8.8"
  }
 },
 "nbformat": 4,
 "nbformat_minor": 5
}
