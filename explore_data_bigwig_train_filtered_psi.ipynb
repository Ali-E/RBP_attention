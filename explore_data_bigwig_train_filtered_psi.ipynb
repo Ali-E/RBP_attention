{
 "cells": [
  {
   "cell_type": "code",
   "execution_count": 1,
   "id": "vulnerable-negative",
   "metadata": {},
   "outputs": [],
   "source": [
    "import pandas as pd\n",
    "import matplotlib.pyplot as plt\n",
    "import numpy as np\n",
    "import pyBigWig"
   ]
  },
  {
   "cell_type": "code",
   "execution_count": 2,
   "id": "taken-upgrade",
   "metadata": {},
   "outputs": [],
   "source": [
    "# native_exon_inclusion_file = \"Data/se_splice_data/HepG2_natively_included_cassette_exons\"\n",
    "# native_exon_exclusion_file = \"Data/se_splice_data/HepG2_natively_excluded_cassette_exons\"\n",
    "\n",
    "native_exon_inclusion_file = \"Data/se_splice_data/K562_natively_included_cassette_exons\"\n",
    "native_exon_exclusion_file = \"Data/se_splice_data/K562_natively_excluded_cassette_exons\"\n",
    "native_exon_all_file = \"Data/se_splice_data/K562_native_cassette_exons_all\"\n",
    "native_exon_constitutive_file = \"Data/se_splice_data/K562_constitutive_exons\"\n",
    "\n",
    "CONST = 500"
   ]
  },
  {
   "cell_type": "code",
   "execution_count": 3,
   "id": "natural-desert",
   "metadata": {},
   "outputs": [
    {
     "name": "stdout",
     "output_type": "stream",
     "text": [
      "                                          annotation           low_exon  \\\n",
      "0  chr1|-|1653150-1654026|1654073-1654146|1653150...    1653034-1653150   \n",
      "1  chr1|-|1688047-1688217|1688321-1688619|1688047...    1687941-1688047   \n",
      "2  chr1|-|2121220-2124283|2124414-2125077|2121220...    2121151-2121220   \n",
      "3  chr1|+|10165802-10166254|10166641-10177516|101...  10165573-10165802   \n",
      "4  chr1|+|11805894-11806183|11806280-11807496|118...  11805859-11805894   \n",
      "\n",
      "        skipped_exon            hi_exon       incl         excl  \n",
      "0    1654026-1654073    1654146-1654270  2192,7868  17572,63166  \n",
      "1    1688217-1688321    1688619-1688707   693,4821   5748,33635  \n",
      "2    2124283-2124414    2125077-2125349   986,2600   8067,21547  \n",
      "3  10166254-10166641  10177516-10177658   388,2672   3166,18937  \n",
      "4  11806183-11806280  11807496-11807602  1152,3470   9400,25577  \n"
     ]
    }
   ],
   "source": [
    "df_ex_inc = pd.read_csv(native_exon_inclusion_file, sep='\\t')\n",
    "df_ex_exc = pd.read_csv(native_exon_exclusion_file, sep='\\t')\n",
    "df_ex_con = pd.read_csv(native_exon_constitutive_file, sep='\\t')\n",
    "df_ex_all = pd.read_csv(native_exon_all_file, sep='\\t')\n",
    "print(df_ex_exc.head())"
   ]
  },
  {
   "cell_type": "markdown",
   "id": "ruled-material",
   "metadata": {},
   "source": [
    "## Compute PSI values for exons:"
   ]
  },
  {
   "cell_type": "code",
   "execution_count": 14,
   "id": "bored-cookie",
   "metadata": {},
   "outputs": [],
   "source": [
    "def compute_psi(row, exp_num, read_length=100):\n",
    "    inc_exc_1 = row['incl'] # incl, excl labels seem to be inaccurate in the original files!\n",
    "    inc_exc_2 = row['excl']\n",
    "    inc_exc = [inc_exc_1, inc_exc_2]\n",
    "    \n",
    "    inc, exc = [int(num) for num in inc_exc[exp_num].split(',')]\n",
    "    \n",
    "    exon_start, exon_end = [int(num) for num in row['skipped_exon'].split('-')]\n",
    "    exon_length = exon_end-exon_start+1\n",
    "    \n",
    "    IR_norm = inc/(exon_length + read_length - 1.)\n",
    "    # IR_norm = inc/(read_length - 1.)\n",
    "    ER_norm = exc/(read_length - 1.)\n",
    "    \n",
    "    psi = IR_norm/(IR_norm+ER_norm)\n",
    "    return psi"
   ]
  },
  {
   "cell_type": "code",
   "execution_count": 15,
   "id": "bored-permission",
   "metadata": {},
   "outputs": [],
   "source": [
    "def compute_length(row):\n",
    "    exon_start, exon_end = [int(num) for num in row['skipped_exon'].split('-')]\n",
    "    exon_length = exon_end-exon_start+1\n",
    "    return exon_length"
   ]
  },
  {
   "cell_type": "code",
   "execution_count": 24,
   "id": "juvenile-weight",
   "metadata": {},
   "outputs": [
    {
     "name": "stdout",
     "output_type": "stream",
     "text": [
      "0.17315838261727665\n",
      "0.9683427052444711\n",
      "0.8526461683482899\n"
     ]
    },
    {
     "data": {
      "image/png": "[encoded data removed]",
      "text/plain": [
       "<Figure size 432x288 with 1 Axes>"
      ]
     },
     "metadata": {
      "needs_background": "light"
     },
     "output_type": "display_data"
    }
   ],
   "source": [
    "df_ex_inc['psi_1'] = df_ex_inc.apply(lambda row: compute_psi(row, 0), axis=1)\n",
    "df_ex_inc['psi_2'] = df_ex_inc.apply(lambda row: compute_psi(row, 1), axis=1)\n",
    "df_ex_inc['length'] = df_ex_inc.apply(lambda row: compute_length(row), axis=1)\n",
    "df_ex_inc['avg'] = (df_ex_inc['psi_1'] + df_ex_inc['psi_2'])/2.\n",
    "# df_ex_inc['avg'] = df_ex_inc.apply(lambda row: max(row['psi_1'], row['psi_2']), axis=1)\n",
    "# print(df_ex_inc.head())\n",
    "\n",
    "plt.hist(df_ex_inc['avg'], bins=30)\n",
    "print(min(df_ex_inc['avg']))\n",
    "print(max(df_ex_inc['avg']))\n",
    "print(np.mean(df_ex_inc['psi_1']))\n",
    "plt.savefig('including_psi_hist.png')"
   ]
  },
  {
   "cell_type": "code",
   "execution_count": 17,
   "id": "behavioral-armstrong",
   "metadata": {},
   "outputs": [
    {
     "name": "stdout",
     "output_type": "stream",
     "text": [
      "                                             annotation             low_exon  \\\n",
      "132   chr1|+|193028906-193038163|193038764-193044949...  193028551-193028906   \n",
      "223   chr10|+|105761330-105761929|105763285-10576531...  105761201-105761330   \n",
      "321   chr12|+|32123290-32133811|32138891-32140172|32...    32123122-32123290   \n",
      "461   chr14|+|75249028-75264282|75266400-75269258|75...    75248036-75249028   \n",
      "478   chr15|+|40911209-40912837|40917838-40920267|40...    40911156-40911209   \n",
      "557   chr16|-|30005129-30005226|30006164-30006423|30...    30004960-30005129   \n",
      "813   chr2|+|152318980-152319397|152322634-152324513...  152318925-152318980   \n",
      "859   chr20|-|33324562-33328166|33331145-33334610|33...    33324493-33324562   \n",
      "879   chr20|+|55025735-55026874|55028185-55033395|55...    55025654-55025735   \n",
      "947   chr3|+|37363377-37365078|37369316-37369906|373...    37363221-37363377   \n",
      "1128  chr5|+|147805264-147806775|147807510-147812986...  147805084-147805264   \n",
      "1257  chr7|+|102016769-102036423|102036984-102038066...  102016658-102016769   \n",
      "1333  chr8|-|124262560-124265561|124268411-124279512...  124260695-124262560   \n",
      "1395  chr9|+|134349111-134349840|134351922-134353130...  134348894-134349111   \n",
      "1435  chrX|+|122994143-123019480|123020389-123022468...  122993876-122994143   \n",
      "1437  chrX|+|129156952-129158964|129159354-129162609...  129156871-129156952   \n",
      "\n",
      "             skipped_exon              hi_exon       incl        excl  \\\n",
      "132   193038163-193038764  193044949-193045170   3902,641  30601,4611   \n",
      "223   105761929-105763285  105765318-105765449   6231,414  44009,3155   \n",
      "321     32133811-32138891    32140172-32140256   4322,165  36930,1665   \n",
      "461     75264282-75266400    75269258-75269379   2867,197  21802,1416   \n",
      "478     40912837-40917838    40920267-40920406   4564,244  32592,1810   \n",
      "557     30005226-30006164    30006423-30006538   3764,416  29113,3473   \n",
      "813   152319397-152322634  152324513-152324660   4391,385  29623,2997   \n",
      "859     33328166-33331145    33334610-33334732   2549,251  20288,2077   \n",
      "879     55026874-55028185    55033395-55034396   3111,500  25485,4016   \n",
      "947     37365078-37369316    37369906-37370028   8201,267  66345,2104   \n",
      "1128  147806775-147807510  147812986-147813087   2712,335  20686,2597   \n",
      "1257  102036423-102036984  102038066-102038145  4946,1155  40972,9934   \n",
      "1333  124265561-124268411  124279512-124279626   3179,520  23804,3738   \n",
      "1395  134349840-134351922  134353130-134353336   2261,453  17776,3977   \n",
      "1435  123019480-123020389  123022468-123022568   2205,225  16324,1801   \n",
      "1437  129158964-129159354  129162609-129162836   2304,542  15948,4753   \n",
      "\n",
      "         psi_1     psi_2  length       avg  \n",
      "132   0.462279  0.483806     602  0.473042  \n",
      "223   0.505774  0.486772    1357  0.496273  \n",
      "321   0.333608  0.297707    5081  0.315657  \n",
      "461   0.393786  0.407315    2119  0.400551  \n",
      "478   0.266337  0.258969    5002  0.262653  \n",
      "557   0.463222  0.444291     939  0.453756  \n",
      "813   0.252818  0.226748    3238  0.239783  \n",
      "859   0.246153  0.239006    2980  0.242580  \n",
      "879   0.303890  0.308076    1312  0.305983  \n",
      "947   0.412101  0.418479    4239  0.415290  \n",
      "1128  0.489751  0.485701     736  0.487726  \n",
      "1257  0.390751  0.381849     562  0.386300  \n",
      "1333  0.170237  0.176080    2851  0.173158  \n",
      "1395  0.184642  0.168604    2083  0.176623  \n",
      "1435  0.490198  0.470708     910  0.480453  \n",
      "1437  0.462036  0.404024     391  0.433030  \n",
      "too long 16\n",
      "too short: 7\n",
      "4\n",
      "5081\n"
     ]
    },
    {
     "data": {
      "image/png": "[encoded data removed]",
      "text/plain": [
       "<Figure size 432x288 with 1 Axes>"
      ]
     },
     "metadata": {
      "needs_background": "light"
     },
     "output_type": "display_data"
    }
   ],
   "source": [
    "df_ex_inc_weird = df_ex_inc[df_ex_inc['avg'] < 0.5]\n",
    "print(df_ex_inc_weird)\n",
    "\n",
    "print('too long', len(df_ex_inc[df_ex_inc['length'] > 1000]))\n",
    "print('too short:', len(df_ex_inc[df_ex_inc['length'] < 20]))\n",
    "plt.hist(df_ex_inc['length'], bins=30)\n",
    "print(min(df_ex_inc['length']))\n",
    "print(max(df_ex_inc['length']))"
   ]
  },
  {
   "cell_type": "code",
   "execution_count": 18,
   "id": "herbal-crystal",
   "metadata": {},
   "outputs": [
    {
     "name": "stdout",
     "output_type": "stream",
     "text": [
      "0.012426286124370304\n",
      "0.4250533607385661\n"
     ]
    },
    {
     "data": {
      "image/png": "[encoded data removed]",
      "text/plain": [
       "<Figure size 432x288 with 1 Axes>"
      ]
     },
     "metadata": {
      "needs_background": "light"
     },
     "output_type": "display_data"
    }
   ],
   "source": [
    "df_ex_exc['psi_1'] = df_ex_exc.apply(lambda row: compute_psi(row, 0), axis=1)\n",
    "df_ex_exc['psi_2'] = df_ex_exc.apply(lambda row: compute_psi(row, 1), axis=1)\n",
    "df_ex_exc['avg'] = (df_ex_exc['psi_1'] + df_ex_exc['psi_2'])/2.\n",
    "# print(df_ex_exc.head())\n",
    "\n",
    "plt.hist(df_ex_exc['avg'], bins=30)\n",
    "print(min(df_ex_exc['avg']))\n",
    "print(max(df_ex_exc['avg']))\n",
    "plt.savefig('excluding_psi_hist.png')"
   ]
  },
  {
   "cell_type": "code",
   "execution_count": 11,
   "id": "unauthorized-aluminum",
   "metadata": {},
   "outputs": [
    {
     "name": "stdout",
     "output_type": "stream",
     "text": [
      "0.09264094955489614\n",
      "0.9768912987348309\n",
      "0.7667172481628632\n",
      "284\n",
      "417\n"
     ]
    },
    {
     "data": {
      "image/png": "[encoded data removed]",
      "text/plain": [
       "<Figure size 432x288 with 1 Axes>"
      ]
     },
     "metadata": {
      "needs_background": "light"
     },
     "output_type": "display_data"
    }
   ],
   "source": [
    "df_ex_all['psi_1'] = df_ex_all.apply(lambda row: compute_psi(row, 0), axis=1)\n",
    "df_ex_all['psi_2'] = df_ex_all.apply(lambda row: compute_psi(row, 1), axis=1)\n",
    "df_ex_all['length'] = df_ex_all.apply(lambda row: compute_length(row), axis=1)\n",
    "df_ex_all['avg'] = (df_ex_all['psi_1'] + df_ex_all['psi_2'])/2.\n",
    "# print(df_ex_inc.head())\n",
    "\n",
    "plt.hist(df_ex_all['avg'], bins=30)\n",
    "print(min(df_ex_all['psi_1']))\n",
    "print(max(df_ex_all['psi_1']))\n",
    "print(np.mean(df_ex_all['psi_1']))\n",
    "# plt.savefig('all_psi_hist.png')\n",
    "\n",
    "df_ex_all_filtered = df_ex_all[df_ex_all['avg'] >= 0.5114637]\n",
    "df_ex_all_filtered = df_ex_all_filtered[df_ex_all_filtered['avg'] <= 0.7690195]\n",
    "print(len(df_ex_all_filtered))\n",
    "\n",
    "exc_inc_rbps_set = set(df_ex_exc['annotation']) | set(df_ex_inc['annotation'])\n",
    "df_ex_all_filtered = df_ex_all[~ df_ex_all['annotation'].isin(exc_inc_rbps_set)]\n",
    "print(len(df_ex_all_filtered))"
   ]
  },
  {
   "cell_type": "code",
   "execution_count": 30,
   "id": "biblical-robertson",
   "metadata": {},
   "outputs": [
    {
     "name": "stdout",
     "output_type": "stream",
     "text": [
      "          stub    accession target  rep_num cell_name assembly strand\n",
      "0  ENCFF411IAE  ENCFF411IAE    SSB        2      K562     hg19  minus\n",
      "1  ENCFF131CHH  ENCFF131CHH    SSB        2      K562     hg19   plus\n",
      "2  ENCFF805UMW  ENCFF805UMW    SSB        1      K562     hg19   plus\n",
      "3  ENCFF623ASO  ENCFF623ASO    SSB        2      K562   GRCh38  minus\n",
      "4  ENCFF732TUI  ENCFF732TUI    SSB        1      K562   GRCh38  minus\n",
      "total RBPs considered: 239\n"
     ]
    }
   ],
   "source": [
    "meta_data_file = \"Data/RBPs/bigwig_files_metadata_sample.csv\"\n",
    "meta_data = pd.read_csv(meta_data_file)\n",
    "print(meta_data.head())\n",
    "meta_hg19 = meta_data[(meta_data[\"assembly\"]=='hg19') & (meta_data[\"cell_name\"]=='K562') & (meta_data[\"rep_num\"]==1)].reset_index(drop=True)\n",
    "# print(meta_hg19.head())\n",
    "print('total RBPs considered:', len(meta_hg19))"
   ]
  },
  {
   "cell_type": "code",
   "execution_count": 31,
   "id": "excessive-solomon",
   "metadata": {},
   "outputs": [
    {
     "name": "stdout",
     "output_type": "stream",
     "text": [
      "before:  239\n",
      "after:  72\n"
     ]
    }
   ],
   "source": [
    "#get known splicing RBPs from Megan's list\n",
    "splicing_RBPs = pd.read_excel('Data/RBP_list_Gerstberger.xls', sheet_name='RBP table')\n",
    "mask = splicing_RBPs.apply(lambda row: row.astype(str).str.contains('splicing').any(), axis=1)\n",
    "\n",
    "splicing_RBPs = splicing_RBPs.loc[mask]\n",
    "splicing_RBPs = set(splicing_RBPs['gene name'])\n",
    "# print(splicing_RBPs)\n",
    "\n",
    "print('before: ', len(meta_hg19))\n",
    "meta_hg19 = meta_hg19[meta_hg19['target'].isin(splicing_RBPs)]\n",
    "print('after: ', len(meta_hg19))"
   ]
  },
  {
   "cell_type": "code",
   "execution_count": 32,
   "id": "treated-nickname",
   "metadata": {},
   "outputs": [
    {
     "name": "stdout",
     "output_type": "stream",
     "text": [
      "            stub    accession  target  rep_num cell_name assembly strand  \\\n",
      "229  ENCFF522WHU  ENCFF522WHU   SF3B1        1      K562     hg19  minus   \n",
      "230  ENCFF430PGG  ENCFF430PGG   SF3B1        1      K562     hg19   plus   \n",
      "134  ENCFF733YZJ  ENCFF733YZJ   LARP7        1      K562     hg19   plus   \n",
      "133  ENCFF058MZF  ENCFF058MZF   LARP7        1      K562     hg19  minus   \n",
      "127  ENCFF722NAD  ENCFF722NAD  ZRANB2        1      K562     hg19  minus   \n",
      "\n",
      "     site_count  \n",
      "229      574560  \n",
      "230      583416  \n",
      "134      799392  \n",
      "133      852864  \n",
      "127      990384  \n"
     ]
    }
   ],
   "source": [
    "chr_list = [\"chr\" + str(i+1) for i in range(22)] + [\"chrX\", \"chrY\"]\n",
    "\n",
    "rbp_dict = {}\n",
    "len_list = []\n",
    "len_dict = {}\n",
    "avg_len_list = []\n",
    "for idx, row in meta_hg19.iterrows():\n",
    "    stub = row[\"stub\"]\n",
    "    target = row[\"target\"]\n",
    "    strand = row[\"strand\"]\n",
    "    bw_file = \"Data/RBPs/bigwig_files/\"+ stub +\".bigWig\"\n",
    "    \n",
    "    bw = pyBigWig.open(bw_file)\n",
    "    \n",
    "    # df_rbp = pd.read_csv(rbp_file, header=None, sep='\\t')\n",
    "    # df_rbp['len'] = df_rbp[2] - df_rbp[1] + 1\n",
    "    # avg_len = np.mean(df_rbp['len'])\n",
    "    # avg_len_list.append(avg_len)\n",
    "    \n",
    "    if target in rbp_dict:\n",
    "        rbp_dict[target][strand] = bw\n",
    "    else:\n",
    "        rbp_dict[target] = {}\n",
    "        rbp_dict[target][strand] = bw\n",
    "        \n",
    "    len_cur = 0\n",
    "    for chro in chr_list:\n",
    "        len_cur += len(bw.intervals(\"chr1\"))\n",
    "    len_dict[target] = len_cur\n",
    "    len_list.append(len_cur)\n",
    "    \n",
    "    \n",
    "meta_hg19['site_count'] = len_list\n",
    "# meta_hg19['avg_len'] = avg_len_list\n",
    "meta_hg19 = meta_hg19.sort_values(by='site_count', ascending=True)\n",
    "print(meta_hg19.head())\n",
    "# print('max_avg_len:', np.max(meta_hg19['avg_len']))\n",
    "# print('min_avg_len:', np.min(meta_hg19['avg_len']))\n",
    "# print('avg_len:', np.mean(meta_hg19['avg_len']))"
   ]
  },
  {
   "cell_type": "code",
   "execution_count": 33,
   "id": "married-fetish",
   "metadata": {},
   "outputs": [
    {
     "data": {
      "text/plain": [
       "(array([6., 4., 4., 1., 7., 6., 2., 7., 5., 2., 2., 2., 0., 2., 0., 0., 1.,\n",
       "        0., 1., 1., 5., 2., 2., 0., 1., 1., 2., 0., 0., 0., 0., 0., 0., 1.,\n",
       "        0., 1., 0., 0., 1., 3.]),\n",
       " array([  574560. ,  1166492.4,  1758424.8,  2350357.2,  2942289.6,\n",
       "         3534222. ,  4126154.4,  4718086.8,  5310019.2,  5901951.6,\n",
       "         6493884. ,  7085816.4,  7677748.8,  8269681.2,  8861613.6,\n",
       "         9453546. , 10045478.4, 10637410.8, 11229343.2, 11821275.6,\n",
       "        12413208. , 13005140.4, 13597072.8, 14189005.2, 14780937.6,\n",
       "        15372870. , 15964802.4, 16556734.8, 17148667.2, 17740599.6,\n",
       "        18332532. , 18924464.4, 19516396.8, 20108329.2, 20700261.6,\n",
       "        21292194. , 21884126.4, 22476058.8, 23067991.2, 23659923.6,\n",
       "        24251856. ]),\n",
       " <BarContainer object of 40 artists>)"
      ]
     },
     "execution_count": 33,
     "metadata": {},
     "output_type": "execute_result"
    },
    {
     "data": {
      "image/png": "[encoded data removed]",
      "text/plain": [
       "<Figure size 432x288 with 1 Axes>"
      ]
     },
     "metadata": {
      "needs_background": "light"
     },
     "output_type": "display_data"
    }
   ],
   "source": [
    "plt.hist(meta_hg19['site_count'], bins=40)"
   ]
  },
  {
   "cell_type": "code",
   "execution_count": 39,
   "id": "antique-running",
   "metadata": {},
   "outputs": [
    {
     "name": "stdout",
     "output_type": "stream",
     "text": [
      "                                          annotation         low_exon  \\\n",
      "0  chr1|-|1198766-1203241|1203372-1209045|1198766...  1198725-1198766   \n",
      "1  chr1|-|1641079-1643702|1643839-1647784|1641079...  1640917-1641079   \n",
      "2  chr1|-|1685088-1685489|1685647-1685722|1685088...  1685005-1685088   \n",
      "3  chr1|-|1756938-1770628|1770677-1822258|1756938...  1756835-1756938   \n",
      "4  chr1|-|3751656-3753058|3753256-3753855|3751656...  3751488-3751656   \n",
      "\n",
      "      skipped_exon          hi_exon        incl         excl     psi_1  \\\n",
      "0  1203241-1203372  1209045-1209265    6254,335   50248,2871  0.888899   \n",
      "1  1643702-1643839  1647784-1647917   12114,499   91314,4998  0.910240   \n",
      "2  1685489-1685647  1685722-1685822    7663,270   57319,2324  0.915900   \n",
      "3  1770628-1770677  1822258-1822495  23694,1231  169558,9750  0.927477   \n",
      "4  3753058-3753256  3753855-3754083    2514,545   19305,3611  0.605126   \n",
      "\n",
      "      psi_2  length       avg   chr strand    start      end  \n",
      "0  0.882364     132  0.885632  chr1      -  1203241  1203372  \n",
      "1  0.884150     138  0.897195  chr1      -  1643702  1643839  \n",
      "2  0.904435     159  0.910167  chr1      -  1685489  1685647  \n",
      "3  0.920349      50  0.923913  chr1      -  1770628  1770677  \n",
      "4  0.639779     199  0.622453  chr1      -  3753058  3753256  \n"
     ]
    }
   ],
   "source": [
    "df_ex_inc = df_ex_inc[df_ex_inc['avg'] > 0.53]\n",
    "\n",
    "df_ex_inc['chr'] = df_ex_inc['annotation'].apply(lambda x: str(x).split(\"|\")[0])\n",
    "df_ex_inc['strand'] = df_ex_inc['annotation'].apply(lambda x: str(x).split(\"|\")[1])\n",
    "df_ex_inc['start'] = df_ex_inc['skipped_exon'].apply(lambda x: int(str(x).split(\"-\")[0]))\n",
    "df_ex_inc['end'] = df_ex_inc['skipped_exon'].apply(lambda x: int(str(x).split(\"-\")[1]))\n",
    "print(df_ex_inc.head())\n",
    "df_ex_inc_pos = df_ex_inc[df_ex_inc['strand'] == '+']\n",
    "df_ex_inc_neg = df_ex_inc[df_ex_inc['strand'] == '-']\n",
    "\n",
    "# inc_pos_tups = list(zip(df_ex_inc_pos['chr'], zip(df_ex_inc_pos['start'], df_ex_inc_pos['end'])))\n",
    "# pos_end_tups = list(zip(df_ex_inc_pos['chr'], df_ex_inc_pos['end']))\n",
    "\n",
    "# inc_neg_tups = list(zip(df_ex_inc_neg['chr'], zip(df_ex_inc_neg['start'], df_ex_inc_neg['end'])))\n",
    "# neg_end_tups = list(zip(df_ex_inc_pos['chr'], df_ex_inc_neg['end']))\n",
    "# print(inc_neg_tups[:10])"
   ]
  },
  {
   "cell_type": "code",
   "execution_count": 40,
   "id": "regional-supplement",
   "metadata": {},
   "outputs": [],
   "source": [
    "df_ex_exc['chr'] = df_ex_exc['annotation'].apply(lambda x: str(x).split(\"|\")[0])\n",
    "df_ex_exc['strand'] = df_ex_exc['annotation'].apply(lambda x: str(x).split(\"|\")[1])\n",
    "df_ex_exc['start'] = df_ex_exc['skipped_exon'].apply(lambda x: int(str(x).split(\"-\")[0]))\n",
    "df_ex_exc['end'] = df_ex_exc['skipped_exon'].apply(lambda x: int(str(x).split(\"-\")[1]))\n",
    "# print(df_ex_exc.head())\n",
    "df_ex_exc_pos = df_ex_exc[df_ex_exc['strand'] == '+']\n",
    "df_ex_exc_neg = df_ex_exc[df_ex_exc['strand'] == '-']\n",
    "\n",
    "# exc_pos_tups = list(zip(df_ex_exc_pos['chr'], zip(df_ex_exc_pos['start'], df_ex_exc_pos['end'])))\n",
    "# exc_neg_tups = list(zip(df_ex_exc_neg['chr'], zip(df_ex_exc_neg['start'], df_ex_exc_neg['end'])))\n",
    "# print(exc_neg_tups[:10])"
   ]
  },
  {
   "cell_type": "code",
   "execution_count": 41,
   "id": "motivated-rogers",
   "metadata": {},
   "outputs": [],
   "source": [
    "df_ex_con['chr'] = df_ex_con['annotation'].apply(lambda x: str(x).split(\"|\")[0])\n",
    "df_ex_con['strand'] = df_ex_con['annotation'].apply(lambda x: str(x).split(\"|\")[1])\n",
    "df_ex_con['start'] = df_ex_con['skipped_exon'].apply(lambda x: int(str(x).split(\"-\")[0]))\n",
    "df_ex_con['end'] = df_ex_con['skipped_exon'].apply(lambda x: int(str(x).split(\"-\")[1]))\n",
    "# print(df_ex_exc.head())\n",
    "df_ex_con_pos = df_ex_con[df_ex_con['strand'] == '+']\n",
    "df_ex_con_neg = df_ex_con[df_ex_con['strand'] == '-']\n",
    "\n",
    "# con_pos_tups = list(zip(df_ex_con_pos['chr'], zip(df_ex_con_pos['start'], df_ex_con_pos['end'])))\n",
    "# con_neg_tups = list(zip(df_ex_con_neg['chr'], zip(df_ex_con_neg['start'], df_ex_con_neg['end'])))\n",
    "# print(exc_neg_tups[:10])"
   ]
  },
  {
   "cell_type": "code",
   "execution_count": 42,
   "id": "compatible-singing",
   "metadata": {},
   "outputs": [],
   "source": [
    "def tup_to_dict(tup_list):\n",
    "    res_dict = {}\n",
    "    for tup in tup_list:\n",
    "        if tup[0] in res_dict:\n",
    "            res_dict[tup[0]].append(tup[1])\n",
    "        else:\n",
    "            res_dict[tup[0]] = []\n",
    "            res_dict[tup[0]].append(tup[1])\n",
    "    return res_dict\n",
    "\n",
    "# inc_pos_dict = tup_to_dict(inc_pos_tups)\n",
    "# inc_neg_dict = tup_to_dict(inc_neg_tups)\n",
    "# print(inc_neg_dict.keys())\n",
    "\n",
    "\n",
    "# exc_pos_dict = tup_to_dict(exc_pos_tups)\n",
    "# exc_neg_dict = tup_to_dict(exc_neg_tups)\n",
    "\n",
    "# con_pos_dict = tup_to_dict(con_pos_tups)\n",
    "# con_neg_dict = tup_to_dict(con_neg_tups)"
   ]
  },
  {
   "cell_type": "code",
   "execution_count": 38,
   "id": "dental-disabled",
   "metadata": {},
   "outputs": [
    {
     "ename": "NameError",
     "evalue": "name 'exc_pos_dict' is not defined",
     "output_type": "error",
     "traceback": [
      "\u001b[0;31m---------------------------------------------------------------------------\u001b[0m",
      "\u001b[0;31mNameError\u001b[0m                                 Traceback (most recent call last)",
      "\u001b[0;32m<ipython-input-38-46681ec1554a>\u001b[0m in \u001b[0;36m<module>\u001b[0;34m\u001b[0m\n\u001b[1;32m      1\u001b[0m \u001b[0mcount_overlapping_exons\u001b[0m \u001b[0;34m=\u001b[0m \u001b[0;36m0\u001b[0m\u001b[0;34m\u001b[0m\u001b[0;34m\u001b[0m\u001b[0m\n\u001b[0;32m----> 2\u001b[0;31m \u001b[0;32mfor\u001b[0m \u001b[0mchrom\u001b[0m \u001b[0;32min\u001b[0m \u001b[0mexc_pos_dict\u001b[0m\u001b[0;34m:\u001b[0m\u001b[0;34m\u001b[0m\u001b[0;34m\u001b[0m\u001b[0m\n\u001b[0m\u001b[1;32m      3\u001b[0m     \u001b[0mtups\u001b[0m \u001b[0;34m=\u001b[0m \u001b[0minc_pos_dict\u001b[0m\u001b[0;34m[\u001b[0m\u001b[0mchrom\u001b[0m\u001b[0;34m]\u001b[0m\u001b[0;34m\u001b[0m\u001b[0;34m\u001b[0m\u001b[0m\n\u001b[1;32m      4\u001b[0m     \u001b[0;32mfor\u001b[0m \u001b[0mtup1_idx\u001b[0m \u001b[0;32min\u001b[0m \u001b[0mrange\u001b[0m\u001b[0;34m(\u001b[0m\u001b[0mlen\u001b[0m\u001b[0;34m(\u001b[0m\u001b[0mtups\u001b[0m\u001b[0;34m)\u001b[0m\u001b[0;34m-\u001b[0m\u001b[0;36m1\u001b[0m\u001b[0;34m)\u001b[0m\u001b[0;34m:\u001b[0m\u001b[0;34m\u001b[0m\u001b[0;34m\u001b[0m\u001b[0m\n\u001b[1;32m      5\u001b[0m         \u001b[0mtup1\u001b[0m \u001b[0;34m=\u001b[0m \u001b[0mtups\u001b[0m\u001b[0;34m[\u001b[0m\u001b[0mtup1_idx\u001b[0m\u001b[0;34m]\u001b[0m\u001b[0;34m\u001b[0m\u001b[0;34m\u001b[0m\u001b[0m\n",
      "\u001b[0;31mNameError\u001b[0m: name 'exc_pos_dict' is not defined"
     ]
    }
   ],
   "source": [
    "count_overlapping_exons = 0\n",
    "for chrom in exc_pos_dict:\n",
    "    tups = inc_pos_dict[chrom]\n",
    "    for tup1_idx in range(len(tups)-1):\n",
    "        tup1 = tups[tup1_idx]\n",
    "        for tup2_idx in range(tup1_idx+1, len(tups)):\n",
    "            tup2 = tups[tup2_idx]\n",
    "            if tup1[0] < tup2[0] and tup1[1] > tup2[0]:\n",
    "                print(tup1, tup2)\n",
    "                count_overlapping_exons += 1 \n",
    "            elif tup2[0] < tup1[0] and tup2[1] > tup1[0]:\n",
    "                print(tup1, tup2)\n",
    "                count_overlapping_exons += 1 \n",
    "print('number of overlapping exons: ', count_overlapping_exons)"
   ]
  },
  {
   "cell_type": "code",
   "execution_count": 43,
   "id": "registered-constitutional",
   "metadata": {},
   "outputs": [],
   "source": [
    "def get_buckets(bw_rbp, df_exon, const=500):\n",
    "    bucket_right = np.zeros(const, dtype=float)\n",
    "    bucket_left = np.zeros(const, dtype=float)\n",
    "    for idx, row in df_exon.iterrows():\n",
    "        chromosom = row['chr']\n",
    "        start = row['start']\n",
    "        end = row['end']\n",
    "        \n",
    "        chr_len = bw_rbp.chroms()[chromosom]\n",
    "        \n",
    "        start_pos = max(start-const, 0)\n",
    "        end_pos = min(end+const, chr_len-1)\n",
    "        \n",
    "        values_left = np.array(bw_rbp.stats(chromosom, start_pos, start, nBins=start-start_pos))\n",
    "        values_left[values_left == None] = 0.\n",
    "        values_left = values_left.astype(float, copy=False)\n",
    "        \n",
    "        values_right = np.array(bw_rbp.stats(chromosom, end, end_pos, nBins=end_pos-end))\n",
    "        values_right[values_right == None] = 0.\n",
    "        values_right = values_right.astype(float, copy=False)\n",
    "        \n",
    "        # print(values_left.dtype)\n",
    "        # print(bucket_left.dtype)\n",
    "        bucket_left += values_left\n",
    "        bucket_right += values_right\n",
    "\n",
    "    return bucket_right, bucket_left\n",
    "            "
   ]
  },
  {
   "cell_type": "markdown",
   "id": "sharp-commercial",
   "metadata": {},
   "source": [
    "# Processing an RBP:"
   ]
  },
  {
   "cell_type": "code",
   "execution_count": null,
   "id": "saving-warrior",
   "metadata": {},
   "outputs": [],
   "source": [
    "# df_rbp = rbp_dict['AQR']\n",
    "# print(df_rbp.head())\n",
    "df_rbp_pos = rbp_dict['AQR']['plus']\n",
    "df_rbp_neg = rbp_dict['AQR']['minus']"
   ]
  },
  {
   "cell_type": "code",
   "execution_count": null,
   "id": "chubby-treasurer",
   "metadata": {},
   "outputs": [],
   "source": [
    "inc_pos_bucket_right, inc_pos_bucket_left = get_buckets(df_rbp_pos, df_ex_inc_pos)\n",
    "inc_neg_bucket_left, inc_neg_bucket_right = get_buckets(df_rbp_neg, df_ex_inc_neg)\n",
    "\n",
    "inc_bucket_right = inc_pos_bucket_right + inc_neg_bucket_right\n",
    "inc_bucket_left = inc_pos_bucket_left + inc_neg_bucket_left\n",
    "\n",
    "# inc_bucket_right = 100*inc_bucket_right/np.sum(inc_bucket_right)\n",
    "# inc_bucket_left = 100*inc_bucket_left/np.sum(inc_bucket_left)"
   ]
  },
  {
   "cell_type": "code",
   "execution_count": null,
   "id": "demanding-knowing",
   "metadata": {},
   "outputs": [],
   "source": [
    "inc_bucket_right = np.abs(inc_bucket_right)\n",
    "inc_bucket_left = np.abs(inc_bucket_left)\n",
    "\n",
    "\n",
    "y_limit = max(max(inc_bucket_left), max(inc_bucket_right)) + 10\n",
    "y_min = min(min(inc_bucket_left), min(inc_bucket_right)) - 5\n",
    "\n",
    "plt.tight_layout()\n",
    "plt.figure(figsize=(15, 4))\n",
    "ax_1 = plt.subplot(1, 2, 1)\n",
    "print(len(inc_bucket_left))\n",
    "ax_1.scatter([i for i in range(-CONST,0,1)], np.flip(inc_bucket_left))\n",
    "ax_1.set_ylim([y_min, y_limit])\n",
    "\n",
    "ax_2 = plt.subplot(1, 2, 2)\n",
    "ax_2.scatter([i for i in range(1,CONST+1,1)], inc_bucket_right)\n",
    "ax_2.set_ylim([y_min, y_limit])\n",
    "plt.savefig('inc_buckets.jpg', dpi=400)"
   ]
  },
  {
   "cell_type": "code",
   "execution_count": null,
   "id": "fossil-stack",
   "metadata": {},
   "outputs": [],
   "source": [
    "exc_pos_bucket_right, exc_pos_bucket_left = get_buckets(df_rbp_pos, df_ex_exc_pos)\n",
    "exc_neg_bucket_left, exc_neg_bucket_right = get_buckets(df_rbp_neg, df_ex_exc_neg)\n",
    "\n",
    "exc_bucket_right = exc_pos_bucket_right + exc_neg_bucket_right\n",
    "exc_bucket_left = exc_pos_bucket_left + exc_neg_bucket_left\n",
    "\n",
    "# exc_bucket_right = 100*exc_bucket_right/np.sum(exc_bucket_right)\n",
    "# exc_bucket_left = 100*exc_bucket_left/np.sum(exc_bucket_left)"
   ]
  },
  {
   "cell_type": "code",
   "execution_count": null,
   "id": "entire-medium",
   "metadata": {},
   "outputs": [],
   "source": [
    "exc_bucket_right = np.abs(exc_bucket_right)\n",
    "exc_bucket_left = np.abs(exc_bucket_left)\n",
    "\n",
    "y_limit = max(max(exc_bucket_left), max(exc_bucket_right)) + 2\n",
    "y_min = min(min(exc_bucket_left), min(exc_bucket_right)) - 5\n",
    "\n",
    "plt.figure(figsize=(15, 4))\n",
    "ax_1 = plt.subplot(1, 2, 1)\n",
    "ax_1.scatter([i for i in range(-CONST,0,1)], np.flip(exc_bucket_left))\n",
    "ax_1.set_ylim([y_min, y_limit])\n",
    "\n",
    "ax_2 = plt.subplot(1, 2, 2)\n",
    "ax_2.scatter([i for i in range(1,CONST+1,1)], exc_bucket_right)\n",
    "ax_2.set_ylim([y_min, y_limit])\n",
    "\n",
    "plt.savefig('exc_buckets.jpg', dpi=400)"
   ]
  },
  {
   "cell_type": "markdown",
   "id": "tested-baghdad",
   "metadata": {},
   "source": [
    "# Processing all the RBPs:"
   ]
  },
  {
   "cell_type": "code",
   "execution_count": 44,
   "id": "hollow-diabetes",
   "metadata": {},
   "outputs": [
    {
     "name": "stdout",
     "output_type": "stream",
     "text": [
      "total count: 72\n",
      "max:  24251856\n",
      "min:  574560\n",
      "mean:  7620689.666666667\n",
      "less than 10:  0\n",
      "greater than 250:  72\n"
     ]
    },
    {
     "data": {
      "image/png": "[encoded data removed]",
      "text/plain": [
       "<Figure size 432x288 with 1 Axes>"
      ]
     },
     "metadata": {
      "needs_background": "light"
     },
     "output_type": "display_data"
    }
   ],
   "source": [
    "all_len_list = len_list\n",
    "# for rbp_name in len_dict:\n",
    "#     all_len_list += len_dict[rbp_name]\n",
    "plt.hist(all_len_list, bins=50)\n",
    "print('total count:', len(all_len_list))\n",
    "print('max: ', np.max(all_len_list))\n",
    "print('min: ', np.min(all_len_list))\n",
    "print('mean: ', np.mean(all_len_list))\n",
    "print('less than 10: ', np.sum(np.array(all_len_list) < 10))\n",
    "print('greater than 250: ', np.sum(np.array(all_len_list) > 250))"
   ]
  },
  {
   "cell_type": "code",
   "execution_count": 64,
   "id": "forty-weekend",
   "metadata": {},
   "outputs": [],
   "source": [
    "def generate_data(rbps, df_exon, const=5000, strand='plus'):\n",
    "    rows = []\n",
    "    for rbp in rbps:\n",
    "        bw_rbp_both = rbps[rbp]\n",
    "        if strand not in bw_rbp_both:\n",
    "            print(rbp, strand)\n",
    "            continue\n",
    "            \n",
    "        bw_rbp = bw_rbp_both[strand]\n",
    "        \n",
    "        for exon_idx, row in df_exon.iterrows():\n",
    "            chromosom = row['chr']\n",
    "            start = row['start']\n",
    "            end = row['end']\n",
    "            chr_len = bw_rbp.chroms()[chromosom]\n",
    "\n",
    "            start_pos = max(start-const, 0)\n",
    "            end_pos = min(end+const, chr_len-1)\n",
    "            \n",
    "            intervals = bw_rbp.intervals(chromosom, start_pos, end_pos)\n",
    "            if intervals is None:\n",
    "                continue\n",
    "            \n",
    "            psi = row['avg']\n",
    "        \n",
    "            new_row = (exon_idx, chromosom, start, end, rbp, strand, psi)\n",
    "            rows.append(new_row)\n",
    "                \n",
    "    df = pd.DataFrame(rows, columns=['exon_idx', 'chr', 'exon_start', 'exon_end', 'rbp', 'strand', 'psi'])\n",
    "    return df"
   ]
  },
  {
   "cell_type": "markdown",
   "id": "sophisticated-cotton",
   "metadata": {},
   "source": [
    "## Run this section only if you do not want to use precomputed tables:"
   ]
  },
  {
   "cell_type": "code",
   "execution_count": 65,
   "id": "peripheral-recipient",
   "metadata": {},
   "outputs": [],
   "source": [
    "excluding_pos_df = generate_data(rbp_dict, df_ex_exc_pos, const=5000, strand='plus')\n",
    "excluding_neg_df = generate_data(rbp_dict, df_ex_exc_neg, const=5000, strand='minus')"
   ]
  },
  {
   "cell_type": "code",
   "execution_count": 66,
   "id": "suitable-colonial",
   "metadata": {},
   "outputs": [
    {
     "name": "stdout",
     "output_type": "stream",
     "text": [
      "   exon_idx   chr  exon_start  exon_end     rbp strand       psi\n",
      "0         3  chr1    10166254  10166641  GTF2F1   plus  0.030771\n",
      "1         4  chr1    11806183  11806280  GTF2F1   plus  0.149440\n",
      "2         8  chr1    22400586  22400712  GTF2F1   plus  0.052572\n",
      "3         9  chr1    26438950  26439141  GTF2F1   plus  0.073331\n",
      "4        11  chr1    28857034  28857085  GTF2F1   plus  0.088384\n",
      "   exon_idx   chr  exon_start  exon_end     rbp strand       psi\n",
      "0         0  chr1     1654026   1654073  GTF2F1  minus  0.157887\n",
      "1         1  chr1     1688217   1688321  GTF2F1  minus  0.070896\n",
      "2         2  chr1     2124283   2124414  GTF2F1  minus  0.139037\n",
      "3         5  chr1    19472516  19472600  GTF2F1  minus  0.130367\n",
      "4         6  chr1    21219111  21219222  GTF2F1  minus  0.218408\n",
      "   exon_idx   chr  exon_start  exon_end     rbp strand       psi\n",
      "0         3  chr1    10166254  10166641  GTF2F1   plus  0.030771\n",
      "1         4  chr1    11806183  11806280  GTF2F1   plus  0.149440\n",
      "2         8  chr1    22400586  22400712  GTF2F1   plus  0.052572\n",
      "3         9  chr1    26438950  26439141  GTF2F1   plus  0.073331\n",
      "4        11  chr1    28857034  28857085  GTF2F1   plus  0.088384\n"
     ]
    }
   ],
   "source": [
    "# excluding_pos_df['strand'] = ['+' for i in range(len(excluding_pos_df))]\n",
    "print(excluding_pos_df.head())\n",
    "# excluding_neg_df['strand'] = ['-' for i in range(len(excluding_neg_df))]\n",
    "print(excluding_neg_df.head())\n",
    "excluding_df = pd.concat([excluding_pos_df, excluding_neg_df]).reset_index(drop=True)\n",
    "print(excluding_df.head())\n",
    "excluding_df.to_csv('excluding_df_bw_psi_K562_filtered.csv')"
   ]
  },
  {
   "cell_type": "code",
   "execution_count": 67,
   "id": "norwegian-timber",
   "metadata": {},
   "outputs": [],
   "source": [
    "including_pos_df = generate_data(rbp_dict, df_ex_inc_pos, const=5000, strand='plus')\n",
    "including_neg_df = generate_data(rbp_dict, df_ex_inc_neg, const=5000, strand='minus')"
   ]
  },
  {
   "cell_type": "code",
   "execution_count": 68,
   "id": "finished-appraisal",
   "metadata": {},
   "outputs": [
    {
     "name": "stdout",
     "output_type": "stream",
     "text": [
      "   exon_idx   chr  exon_start  exon_end     rbp strand       psi\n",
      "0         6  chr1     6880240   6880310  GTF2F1   plus  0.909431\n",
      "1         8  chr1     9630315   9630416  GTF2F1   plus  0.877206\n",
      "2         9  chr1    12042026  12042171  GTF2F1   plus  0.924015\n",
      "3        10  chr1    12081701  12081897  GTF2F1   plus  0.875043\n",
      "4        11  chr1    15753645  15753780  GTF2F1   plus  0.770011\n",
      "   exon_idx   chr  exon_start  exon_end     rbp strand       psi\n",
      "0         0  chr1     1203241   1203372  GTF2F1  minus  0.885632\n",
      "1         1  chr1     1643702   1643839  GTF2F1  minus  0.897195\n",
      "2         2  chr1     1685489   1685647  GTF2F1  minus  0.910167\n",
      "3         3  chr1     1770628   1770677  GTF2F1  minus  0.923913\n",
      "4         4  chr1     3753058   3753256  GTF2F1  minus  0.622453\n",
      "   exon_idx   chr  exon_start  exon_end     rbp strand       psi\n",
      "0         6  chr1     6880240   6880310  GTF2F1   plus  0.909431\n",
      "1         8  chr1     9630315   9630416  GTF2F1   plus  0.877206\n",
      "2         9  chr1    12042026  12042171  GTF2F1   plus  0.924015\n",
      "3        10  chr1    12081701  12081897  GTF2F1   plus  0.875043\n",
      "4        11  chr1    15753645  15753780  GTF2F1   plus  0.770011\n"
     ]
    }
   ],
   "source": [
    "print(including_pos_df.head())\n",
    "print(including_neg_df.head())\n",
    "\n",
    "including_df = pd.concat([including_pos_df, including_neg_df]).reset_index(drop=True)\n",
    "print(including_df.head())\n",
    "including_df.to_csv('including_df_bw_psi_K562_filtered.csv')"
   ]
  },
  {
   "cell_type": "code",
   "execution_count": 69,
   "id": "mighty-asset",
   "metadata": {},
   "outputs": [
    {
     "ename": "KeyError",
     "evalue": "'avg'",
     "output_type": "error",
     "traceback": [
      "\u001b[0;31m---------------------------------------------------------------------------\u001b[0m",
      "\u001b[0;31mKeyError\u001b[0m                                  Traceback (most recent call last)",
      "\u001b[0;32m~/.conda/envs/cth/lib/python3.8/site-packages/pandas/core/indexes/base.py\u001b[0m in \u001b[0;36mget_loc\u001b[0;34m(self, key, method, tolerance)\u001b[0m\n\u001b[1;32m   3079\u001b[0m             \u001b[0;32mtry\u001b[0m\u001b[0;34m:\u001b[0m\u001b[0;34m\u001b[0m\u001b[0;34m\u001b[0m\u001b[0m\n\u001b[0;32m-> 3080\u001b[0;31m                 \u001b[0;32mreturn\u001b[0m \u001b[0mself\u001b[0m\u001b[0;34m.\u001b[0m\u001b[0m_engine\u001b[0m\u001b[0;34m.\u001b[0m\u001b[0mget_loc\u001b[0m\u001b[0;34m(\u001b[0m\u001b[0mcasted_key\u001b[0m\u001b[0;34m)\u001b[0m\u001b[0;34m\u001b[0m\u001b[0;34m\u001b[0m\u001b[0m\n\u001b[0m\u001b[1;32m   3081\u001b[0m             \u001b[0;32mexcept\u001b[0m \u001b[0mKeyError\u001b[0m \u001b[0;32mas\u001b[0m \u001b[0merr\u001b[0m\u001b[0;34m:\u001b[0m\u001b[0;34m\u001b[0m\u001b[0;34m\u001b[0m\u001b[0m\n",
      "\u001b[0;32mpandas/_libs/index.pyx\u001b[0m in \u001b[0;36mpandas._libs.index.IndexEngine.get_loc\u001b[0;34m()\u001b[0m\n",
      "\u001b[0;32mpandas/_libs/index.pyx\u001b[0m in \u001b[0;36mpandas._libs.index.IndexEngine.get_loc\u001b[0;34m()\u001b[0m\n",
      "\u001b[0;32mpandas/_libs/hashtable_class_helper.pxi\u001b[0m in \u001b[0;36mpandas._libs.hashtable.PyObjectHashTable.get_item\u001b[0;34m()\u001b[0m\n",
      "\u001b[0;32mpandas/_libs/hashtable_class_helper.pxi\u001b[0m in \u001b[0;36mpandas._libs.hashtable.PyObjectHashTable.get_item\u001b[0;34m()\u001b[0m\n",
      "\u001b[0;31mKeyError\u001b[0m: 'avg'",
      "\nThe above exception was the direct cause of the following exception:\n",
      "\u001b[0;31mKeyError\u001b[0m                                  Traceback (most recent call last)",
      "\u001b[0;32m<ipython-input-69-96720ac346c7>\u001b[0m in \u001b[0;36m<module>\u001b[0;34m\u001b[0m\n\u001b[0;32m----> 1\u001b[0;31m \u001b[0mconstitutive_pos_df\u001b[0m \u001b[0;34m=\u001b[0m \u001b[0mgenerate_data\u001b[0m\u001b[0;34m(\u001b[0m\u001b[0mrbp_dict\u001b[0m\u001b[0;34m,\u001b[0m \u001b[0mdf_ex_con_pos\u001b[0m\u001b[0;34m,\u001b[0m \u001b[0mconst\u001b[0m\u001b[0;34m=\u001b[0m\u001b[0;36m5000\u001b[0m\u001b[0;34m,\u001b[0m \u001b[0mstrand\u001b[0m\u001b[0;34m=\u001b[0m\u001b[0;34m'plus'\u001b[0m\u001b[0;34m)\u001b[0m\u001b[0;34m\u001b[0m\u001b[0;34m\u001b[0m\u001b[0m\n\u001b[0m\u001b[1;32m      2\u001b[0m \u001b[0mconstitutive_neg_df\u001b[0m \u001b[0;34m=\u001b[0m \u001b[0mgenerate_data\u001b[0m\u001b[0;34m(\u001b[0m\u001b[0mrbp_dict\u001b[0m\u001b[0;34m,\u001b[0m \u001b[0mdf_ex_con_neg\u001b[0m\u001b[0;34m,\u001b[0m \u001b[0mconst\u001b[0m\u001b[0;34m=\u001b[0m\u001b[0;36m5000\u001b[0m\u001b[0;34m,\u001b[0m \u001b[0mstrand\u001b[0m\u001b[0;34m=\u001b[0m\u001b[0;34m'minus'\u001b[0m\u001b[0;34m)\u001b[0m\u001b[0;34m\u001b[0m\u001b[0;34m\u001b[0m\u001b[0m\n",
      "\u001b[0;32m<ipython-input-64-379daaa59cc7>\u001b[0m in \u001b[0;36mgenerate_data\u001b[0;34m(rbps, df_exon, const, strand)\u001b[0m\n\u001b[1;32m     22\u001b[0m                 \u001b[0;32mcontinue\u001b[0m\u001b[0;34m\u001b[0m\u001b[0;34m\u001b[0m\u001b[0m\n\u001b[1;32m     23\u001b[0m \u001b[0;34m\u001b[0m\u001b[0m\n\u001b[0;32m---> 24\u001b[0;31m             \u001b[0mpsi\u001b[0m \u001b[0;34m=\u001b[0m \u001b[0mrow\u001b[0m\u001b[0;34m[\u001b[0m\u001b[0;34m'avg'\u001b[0m\u001b[0;34m]\u001b[0m\u001b[0;34m\u001b[0m\u001b[0;34m\u001b[0m\u001b[0m\n\u001b[0m\u001b[1;32m     25\u001b[0m \u001b[0;34m\u001b[0m\u001b[0m\n\u001b[1;32m     26\u001b[0m             \u001b[0mnew_row\u001b[0m \u001b[0;34m=\u001b[0m \u001b[0;34m(\u001b[0m\u001b[0mexon_idx\u001b[0m\u001b[0;34m,\u001b[0m \u001b[0mchromosom\u001b[0m\u001b[0;34m,\u001b[0m \u001b[0mstart\u001b[0m\u001b[0;34m,\u001b[0m \u001b[0mend\u001b[0m\u001b[0;34m,\u001b[0m \u001b[0mrbp\u001b[0m\u001b[0;34m,\u001b[0m \u001b[0mstrand\u001b[0m\u001b[0;34m,\u001b[0m \u001b[0mpsi\u001b[0m\u001b[0;34m)\u001b[0m\u001b[0;34m\u001b[0m\u001b[0;34m\u001b[0m\u001b[0m\n",
      "\u001b[0;32m~/.conda/envs/cth/lib/python3.8/site-packages/pandas/core/series.py\u001b[0m in \u001b[0;36m__getitem__\u001b[0;34m(self, key)\u001b[0m\n\u001b[1;32m    851\u001b[0m \u001b[0;34m\u001b[0m\u001b[0m\n\u001b[1;32m    852\u001b[0m         \u001b[0;32melif\u001b[0m \u001b[0mkey_is_scalar\u001b[0m\u001b[0;34m:\u001b[0m\u001b[0;34m\u001b[0m\u001b[0;34m\u001b[0m\u001b[0m\n\u001b[0;32m--> 853\u001b[0;31m             \u001b[0;32mreturn\u001b[0m \u001b[0mself\u001b[0m\u001b[0;34m.\u001b[0m\u001b[0m_get_value\u001b[0m\u001b[0;34m(\u001b[0m\u001b[0mkey\u001b[0m\u001b[0;34m)\u001b[0m\u001b[0;34m\u001b[0m\u001b[0;34m\u001b[0m\u001b[0m\n\u001b[0m\u001b[1;32m    854\u001b[0m \u001b[0;34m\u001b[0m\u001b[0m\n\u001b[1;32m    855\u001b[0m         \u001b[0;32mif\u001b[0m \u001b[0mis_hashable\u001b[0m\u001b[0;34m(\u001b[0m\u001b[0mkey\u001b[0m\u001b[0;34m)\u001b[0m\u001b[0;34m:\u001b[0m\u001b[0;34m\u001b[0m\u001b[0;34m\u001b[0m\u001b[0m\n",
      "\u001b[0;32m~/.conda/envs/cth/lib/python3.8/site-packages/pandas/core/series.py\u001b[0m in \u001b[0;36m_get_value\u001b[0;34m(self, label, takeable)\u001b[0m\n\u001b[1;32m    959\u001b[0m \u001b[0;34m\u001b[0m\u001b[0m\n\u001b[1;32m    960\u001b[0m         \u001b[0;31m# Similar to Index.get_value, but we do not fall back to positional\u001b[0m\u001b[0;34m\u001b[0m\u001b[0;34m\u001b[0m\u001b[0;34m\u001b[0m\u001b[0m\n\u001b[0;32m--> 961\u001b[0;31m         \u001b[0mloc\u001b[0m \u001b[0;34m=\u001b[0m \u001b[0mself\u001b[0m\u001b[0;34m.\u001b[0m\u001b[0mindex\u001b[0m\u001b[0;34m.\u001b[0m\u001b[0mget_loc\u001b[0m\u001b[0;34m(\u001b[0m\u001b[0mlabel\u001b[0m\u001b[0;34m)\u001b[0m\u001b[0;34m\u001b[0m\u001b[0;34m\u001b[0m\u001b[0m\n\u001b[0m\u001b[1;32m    962\u001b[0m         \u001b[0;32mreturn\u001b[0m \u001b[0mself\u001b[0m\u001b[0;34m.\u001b[0m\u001b[0mindex\u001b[0m\u001b[0;34m.\u001b[0m\u001b[0m_get_values_for_loc\u001b[0m\u001b[0;34m(\u001b[0m\u001b[0mself\u001b[0m\u001b[0;34m,\u001b[0m \u001b[0mloc\u001b[0m\u001b[0;34m,\u001b[0m \u001b[0mlabel\u001b[0m\u001b[0;34m)\u001b[0m\u001b[0;34m\u001b[0m\u001b[0;34m\u001b[0m\u001b[0m\n\u001b[1;32m    963\u001b[0m \u001b[0;34m\u001b[0m\u001b[0m\n",
      "\u001b[0;32m~/.conda/envs/cth/lib/python3.8/site-packages/pandas/core/indexes/base.py\u001b[0m in \u001b[0;36mget_loc\u001b[0;34m(self, key, method, tolerance)\u001b[0m\n\u001b[1;32m   3080\u001b[0m                 \u001b[0;32mreturn\u001b[0m \u001b[0mself\u001b[0m\u001b[0;34m.\u001b[0m\u001b[0m_engine\u001b[0m\u001b[0;34m.\u001b[0m\u001b[0mget_loc\u001b[0m\u001b[0;34m(\u001b[0m\u001b[0mcasted_key\u001b[0m\u001b[0;34m)\u001b[0m\u001b[0;34m\u001b[0m\u001b[0;34m\u001b[0m\u001b[0m\n\u001b[1;32m   3081\u001b[0m             \u001b[0;32mexcept\u001b[0m \u001b[0mKeyError\u001b[0m \u001b[0;32mas\u001b[0m \u001b[0merr\u001b[0m\u001b[0;34m:\u001b[0m\u001b[0;34m\u001b[0m\u001b[0;34m\u001b[0m\u001b[0m\n\u001b[0;32m-> 3082\u001b[0;31m                 \u001b[0;32mraise\u001b[0m \u001b[0mKeyError\u001b[0m\u001b[0;34m(\u001b[0m\u001b[0mkey\u001b[0m\u001b[0;34m)\u001b[0m \u001b[0;32mfrom\u001b[0m \u001b[0merr\u001b[0m\u001b[0;34m\u001b[0m\u001b[0;34m\u001b[0m\u001b[0m\n\u001b[0m\u001b[1;32m   3083\u001b[0m \u001b[0;34m\u001b[0m\u001b[0m\n\u001b[1;32m   3084\u001b[0m         \u001b[0;32mif\u001b[0m \u001b[0mtolerance\u001b[0m \u001b[0;32mis\u001b[0m \u001b[0;32mnot\u001b[0m \u001b[0;32mNone\u001b[0m\u001b[0;34m:\u001b[0m\u001b[0;34m\u001b[0m\u001b[0;34m\u001b[0m\u001b[0m\n",
      "\u001b[0;31mKeyError\u001b[0m: 'avg'"
     ]
    }
   ],
   "source": [
    "constitutive_pos_df = generate_data(rbp_dict, df_ex_con_pos, const=5000, strand='plus')\n",
    "constitutive_neg_df = generate_data(rbp_dict, df_ex_con_neg, const=5000, strand='minus')"
   ]
  },
  {
   "cell_type": "code",
   "execution_count": null,
   "id": "structural-bangladesh",
   "metadata": {},
   "outputs": [],
   "source": [
    "print(constitutive_pos_df.head())\n",
    "print(constitutive_neg_df.head())\n",
    "\n",
    "constitutive_df = pd.concat([constitutive_pos_df, constitutive_neg_df]).reset_index(drop=True)\n",
    "print(constitutive_df.head())\n",
    "constitutive_df.to_csv('constitutive_df_bw_psi_K562_filtered.csv')"
   ]
  },
  {
   "cell_type": "markdown",
   "id": "outer-debate",
   "metadata": {},
   "source": [
    "## Load the precomputed tables:"
   ]
  },
  {
   "cell_type": "code",
   "execution_count": 70,
   "id": "accessory-strand",
   "metadata": {},
   "outputs": [
    {
     "name": "stdout",
     "output_type": "stream",
     "text": [
      "   exon_idx   chr  exon_start  exon_end     rbp strand       psi\n",
      "0         3  chr1    10166254  10166641  GTF2F1   plus  0.030771\n",
      "1         4  chr1    11806183  11806280  GTF2F1   plus  0.149440\n",
      "2         8  chr1    22400586  22400712  GTF2F1   plus  0.052572\n",
      "3         9  chr1    26438950  26439141  GTF2F1   plus  0.073331\n",
      "4        11  chr1    28857034  28857085  GTF2F1   plus  0.088384\n"
     ]
    }
   ],
   "source": [
    "constitutive_df = pd.read_csv(\"constitutive_df_bw_psi_K562_filtered.csv\", index_col=0)\n",
    "including_df = pd.read_csv(\"including_df_bw_psi_K562_filtered.csv\", index_col=0)\n",
    "excluding_df = pd.read_csv(\"excluding_df_bw_psi_K562_filtered.csv\", index_col=0)\n",
    "print(excluding_df.head())"
   ]
  },
  {
   "cell_type": "code",
   "execution_count": 71,
   "id": "fallen-miracle",
   "metadata": {},
   "outputs": [],
   "source": [
    "def filter_data(exon_rbp_df_raw, rbp_dict, const_raw=300, bin_size=30, filtered_chrs=[]):\n",
    "    const = (const_raw//bin_size)*bin_size\n",
    "    accepted_idx = []\n",
    "    exon_rbp_df = exon_rbp_df_raw[ ~exon_rbp_df_raw['chr'].isin(filtered_chrs)]\n",
    "    for idx, row in exon_rbp_df.iterrows():\n",
    "        chromosom = row['chr']\n",
    "        start = row['exon_start']\n",
    "        end = row['exon_end']\n",
    "        bw_cur = rbp_dict[row['rbp']][row['strand']]\n",
    "        chr_len = bw_cur.chroms()[chromosom]\n",
    "\n",
    "        start_pos = max(start-const, 0)\n",
    "        end_pos = min(end+const, chr_len-1)\n",
    "\n",
    "        intervals = bw_cur.intervals(chromosom, start_pos, end_pos)\n",
    "        if intervals is None:\n",
    "            continue\n",
    "        \n",
    "        accepted_idx.append(idx)\n",
    "        \n",
    "    print(len(accepted_idx))\n",
    "    final_df = exon_rbp_df.iloc[accepted_idx, :]\n",
    "    return final_df"
   ]
  },
  {
   "cell_type": "markdown",
   "id": "outstanding-hacker",
   "metadata": {},
   "source": [
    "# If you want to recomputed the filtered data:"
   ]
  },
  {
   "cell_type": "code",
   "execution_count": 72,
   "id": "unlikely-anaheim",
   "metadata": {},
   "outputs": [
    {
     "name": "stdout",
     "output_type": "stream",
     "text": [
      "262568\n",
      "filtered constitutive:  262568 out of  282061\n",
      "45989\n",
      "filtered including:  45989 out of  45989\n",
      "13738\n",
      "filtered excluding:  13738 out of  13738\n",
      "{'NONO', 'KHSRP', 'EFTUD2', 'SF3B1', 'HNRNPUL1', 'ZRANB2', 'AQR', 'SRSF1', 'TRA2A', 'BUD13', 'RBM22', 'U2AF1', 'UPF1', 'PRPF8', 'ILF3', 'GEMIN5', 'TARDBP', 'PTBP1', 'SRSF7', 'SMNDC1', 'PCBP1', 'HNRNPM', 'HNRNPK', 'HNRNPU', 'U2AF2', 'FUS', 'GTF2F1', 'HNRNPA1', 'HNRNPL', 'TIA1', 'LARP7', 'HNRNPC', 'RBFOX2', 'QKI', 'NCBP2', 'SF3B4'}\n",
      "36\n"
     ]
    }
   ],
   "source": [
    "filtered_constitutive_df = filter_data(constitutive_df, rbp_dict)\n",
    "print('filtered constitutive: ', len(filtered_constitutive_df), 'out of ', len(constitutive_df))\n",
    "filtered_including_df = filter_data(including_df, rbp_dict)\n",
    "print('filtered including: ', len(filtered_including_df), 'out of ', len(filtered_including_df))\n",
    "filtered_excluding_df = filter_data(excluding_df, rbp_dict)\n",
    "print('filtered excluding: ', len(filtered_excluding_df), 'out of ', len(filtered_excluding_df))\n",
    "\n",
    "common_rbps = set(filtered_constitutive_df['rbp']) & set(filtered_including_df['rbp']) & set(filtered_excluding_df['rbp'])\n",
    "print(common_rbps)\n",
    "print(len(common_rbps))"
   ]
  },
  {
   "cell_type": "code",
   "execution_count": 73,
   "id": "novel-reputation",
   "metadata": {},
   "outputs": [
    {
     "name": "stdout",
     "output_type": "stream",
     "text": [
      "   exon_idx   chr  exon_start  exon_end     rbp strand       psi\n",
      "0         3  chr1    10166254  10166641  GTF2F1   plus  0.030771\n",
      "1         4  chr1    11806183  11806280  GTF2F1   plus  0.149440\n",
      "2         8  chr1    22400586  22400712  GTF2F1   plus  0.052572\n",
      "3         9  chr1    26438950  26439141  GTF2F1   plus  0.073331\n",
      "4        11  chr1    28857034  28857085  GTF2F1   plus  0.088384\n"
     ]
    }
   ],
   "source": [
    "print(filtered_excluding_df.head())"
   ]
  },
  {
   "cell_type": "markdown",
   "id": "foreign-ambassador",
   "metadata": {},
   "source": [
    "# Loading the pre-computed filtered files:\n"
   ]
  },
  {
   "cell_type": "code",
   "execution_count": null,
   "id": "lined-trunk",
   "metadata": {},
   "outputs": [],
   "source": []
  },
  {
   "cell_type": "code",
   "execution_count": 74,
   "id": "eleven-essay",
   "metadata": {},
   "outputs": [],
   "source": [
    "# filtered_pos = pd.concat([filtered_including_df, filtered_constitutive_df]).copy()\n",
    "filtered_pos = filtered_including_df.copy()\n",
    "filtered_neg = filtered_excluding_df.copy()\n",
    "filtered_pos['label'] = 1\n",
    "filtered_neg['label'] = 0\n",
    "all_data = pd.concat([filtered_pos, filtered_neg]).reset_index(drop=True)\n",
    "\n",
    "test_chrs = ['chr1']\n",
    "validation_chrs = ['chr5', 'chr6']\n",
    "validation_test_chrs = validation_chrs + test_chrs\n",
    "\n",
    "training_df = all_data[ ~all_data['chr'].isin(validation_test_chrs)]\n",
    "validation_df = all_data[ all_data['chr'].isin(validation_chrs)]\n",
    "test_df = all_data[ all_data['chr'].isin(test_chrs)]"
   ]
  },
  {
   "cell_type": "code",
   "execution_count": 75,
   "id": "lesser-trade",
   "metadata": {},
   "outputs": [
    {
     "name": "stdout",
     "output_type": "stream",
     "text": [
      "       exon_idx    chr  exon_start  exon_end     rbp strand       psi  label\n",
      "46982        58  chr10    13633767  13633888   NCBP2   plus  0.128028      0\n",
      "46630        58  chr10    13633767  13633888   U2AF1   plus  0.128028      0\n",
      "51336        58  chr10    13633767  13633888   PRPF8   plus  0.128028      0\n",
      "52579        58  chr10    13633767  13633888   SRSF1   plus  0.128028      0\n",
      "46019        58  chr10    13633767  13633888  GTF2F1   plus  0.128028      0\n",
      "train data: \n",
      "10415\n",
      "35527\n",
      "validation data: \n",
      "1425\n",
      "4817\n",
      "test data: \n",
      "1898\n",
      "5645\n",
      "{'NONO', 'EFTUD2', 'KHSRP', 'SF3B1', 'HNRNPUL1', 'ZRANB2', 'AQR', 'SRSF1', 'TRA2A', 'BUD13', 'RBM22', 'U2AF1', 'UPF1', 'PRPF8', 'ILF3', 'GEMIN5', 'TARDBP', 'PTBP1', 'SRSF7', 'SMNDC1', 'PCBP1', 'HNRNPM', 'HNRNPK', 'HNRNPU', 'U2AF2', 'FUS', 'GTF2F1', 'HNRNPA1', 'HNRNPL', 'TIA1', 'LARP7', 'HNRNPC', 'RBFOX2', 'QKI', 'NCBP2', 'SF3B4'}\n",
      "before:  36\n",
      "after:  36\n"
     ]
    }
   ],
   "source": [
    "print(training_df.sort_values(by='exon_idx').head())\n",
    "\n",
    "print('train data: ')\n",
    "print(len(training_df[training_df['label']==0]))\n",
    "print(len(training_df[training_df['label']==1]))\n",
    "\n",
    "print('validation data: ')\n",
    "print(len(validation_df[validation_df['label']==0]))\n",
    "print(len(validation_df[validation_df['label']==1]))\n",
    "\n",
    "print('test data: ')\n",
    "print(len(test_df[test_df['label']==0]))\n",
    "print(len(test_df[test_df['label']==1]))\n",
    "\n",
    "in_neg_rbps = training_df[training_df['label']==0]['rbp']\n",
    "print(set(in_neg_rbps))\n",
    "in_pos_rbps = training_df[training_df['label']==1]['rbp']\n",
    "in_pos_neg_rbps = set(in_pos_rbps) & set(in_neg_rbps)\n",
    "print('before: ', len(list(set(training_df['rbp']))))\n",
    "print('after: ', len(list(in_pos_neg_rbps)))\n",
    "\n",
    "\n",
    "in_all_pos = set(training_df[training_df['label']==1]['rbp']) & set(validation_df[validation_df['label']==1]['rbp']) & set(test_df[test_df['label']==1]['rbp'])\n",
    "in_all_neg = set(training_df[training_df['label']==0]['rbp']) & set(validation_df[validation_df['label']==0]['rbp']) & set(test_df[test_df['label']==0]['rbp'])\n",
    "\n",
    "in_all_pos_neg_rbps = in_all_neg & in_all_neg"
   ]
  },
  {
   "cell_type": "code",
   "execution_count": 76,
   "id": "running-single",
   "metadata": {},
   "outputs": [
    {
     "name": "stdout",
     "output_type": "stream",
     "text": [
      "remaning rbps:  36 out of  36\n",
      "train data:  45942\n",
      "validation data:  6242\n",
      "test data:  7543\n",
      "    exon_idx    chr  exon_start  exon_end     rbp strand       psi  label\n",
      "80       175  chr10     5777266   5777509  GTF2F1   plus  0.722537      1\n",
      "81       178  chr10    13655740  13655881  GTF2F1   plus  0.934995      1\n",
      "82       179  chr10    14893217  14893322  GTF2F1   plus  0.904186      1\n",
      "83       181  chr10    18961550  18961634  GTF2F1   plus  0.955198      1\n",
      "84       186  chr10    28884661  28884970  GTF2F1   plus  0.741757      1\n"
     ]
    }
   ],
   "source": [
    "remaining_rbps = set(training_df['rbp']) & set(validation_df['rbp']) & set(test_df['rbp']) & in_pos_neg_rbps & in_all_pos_neg_rbps\n",
    "print('remaning rbps: ', len(remaining_rbps), 'out of ', len(rbp_dict))\n",
    "\n",
    "training_data = training_df[ training_df['rbp'].isin(remaining_rbps)]\n",
    "validation_data = validation_df[ validation_df['rbp'].isin(remaining_rbps)]\n",
    "test_data = test_df[ test_df['rbp'].isin(remaining_rbps)]\n",
    "\n",
    "print('train data: ', len(training_data))\n",
    "print('validation data: ', len(validation_data))\n",
    "print('test data: ', len(test_data))\n",
    "print(training_data.head())\n",
    "\n",
    "remaining_rbps_dict = {}\n",
    "rbps_list = sorted(list(remaining_rbps))\n",
    "for i in range(len(rbps_list)):\n",
    "    remaining_rbps_dict[rbps_list[i]] = i"
   ]
  },
  {
   "cell_type": "code",
   "execution_count": 77,
   "id": "suspended-airline",
   "metadata": {},
   "outputs": [
    {
     "name": "stdout",
     "output_type": "stream",
     "text": [
      "[0 1 2 3 4 5 6 7]\n",
      "[[3 2 1]\n",
      " [6 5 4]]\n"
     ]
    }
   ],
   "source": [
    "a = np.array(range(8))\n",
    "print(a)\n",
    "a[-3:-1]\n",
    "b = np.array([[1,2,3],[4,5,6]])\n",
    "b = np.flip(b, axis=1)\n",
    "print(b)"
   ]
  },
  {
   "cell_type": "code",
   "execution_count": 80,
   "id": "renewable-machinery",
   "metadata": {},
   "outputs": [],
   "source": [
    "import copy\n",
    "\n",
    "\n",
    "def generate_vectors(exon_rbp_df, rbps_to_int_dict, rbp_dict, const=300, bin_size=20, w_inside=5):\n",
    "    X = []\n",
    "    y = []\n",
    "    srt_df = exon_rbp_df.sort_values(by='exon_idx')\n",
    "    gr_df = srt_df.groupby(by='exon_idx')\n",
    "    \n",
    "    sec_len = const//bin_size\n",
    "    vec_len = (const//bin_size)*2 + w_inside\n",
    "    \n",
    "    for exon_idx, neigh_rbf_df in gr_df:\n",
    "        left_vec_rep = np.zeros((len(rbps_to_int_dict), sec_len))\n",
    "        right_vec_rep = np.zeros((len(rbps_to_int_dict), sec_len))\n",
    "        mid_vec_rep = np.zeros((len(rbps_to_int_dict), w_inside))\n",
    "        for idx, row in neigh_rbf_df.iterrows():\n",
    "            # print('-----------------')\n",
    "            # print('row:', row)\n",
    "            cur_rbp = rbps_to_int_dict[row['rbp']]\n",
    "            cur_bw = rbp_dict[row['rbp']][row['strand']]\n",
    "            # print('rbp number:', cur_rbp)\n",
    "            chromosom = row['chr']\n",
    "            start = row['exon_start']\n",
    "            end = row['exon_end']\n",
    "            chr_len = cur_bw.chroms()[chromosom]\n",
    "\n",
    "            l_start_pos = max(start-const, 0)\n",
    "            l_end_pos = min(start, chr_len-1)\n",
    "\n",
    "            # l_intervals = cur_rbp.intervals(chromosom, l_start_pos, l_end_pos)\n",
    "            # if l_intervals is None:\n",
    "            #     l_intervals = []\n",
    "                \n",
    "            r_start_pos = max(end, 0)\n",
    "            r_end_pos = min(end+const, chr_len-1)\n",
    "\n",
    "            # r_intervals = cur_rbp.intervals(chromosom, r_start_pos, r_end_pos)\n",
    "            # if r_intervals is None:\n",
    "            #     r_intervals = []\n",
    "                 \n",
    "            values_left = np.array(cur_bw.stats(chromosom, l_start_pos, l_end_pos, nBins=sec_len))\n",
    "            values_left[values_left == None] = 0.\n",
    "            left_vec_rep[cur_rbp, :] = values_left.astype(float, copy=False)\n",
    "\n",
    "            values_right = np.array(cur_bw.stats(chromosom, r_start_pos, r_end_pos, nBins=sec_len))\n",
    "            values_right[values_right == None] = 0.\n",
    "            right_vec_rep[cur_rbp, :] = values_right.astype(float, copy=False)\n",
    "        \n",
    "            values_middle = np.array(cur_bw.stats(chromosom, start, end, nBins=w_inside))\n",
    "            values_middle[values_middle == None] = 0.\n",
    "            mid_vec_rep[cur_rbp, :] = values_middle.astype(float, copy=False)                \n",
    "\n",
    "        \n",
    "        new_data_point = np.concatenate([left_vec_rep, mid_vec_rep, right_vec_rep], axis=1)\n",
    "        if row['strand'] == 'minus':\n",
    "            new_data_point = np.flip(new_data_point, axis=1)\n",
    "        X.append(new_data_point)\n",
    "        # y.append(int(row['label']))\n",
    "        y.append(float(row['psi']))\n",
    "            \n",
    "    return np.array(X), np.array(y)"
   ]
  },
  {
   "cell_type": "code",
   "execution_count": 81,
   "id": "aggressive-thousand",
   "metadata": {},
   "outputs": [],
   "source": [
    "X_train, y_train = generate_vectors(training_data, remaining_rbps_dict, rbp_dict, const=500, bin_size=25, w_inside=5)\n",
    "\n",
    "# for i in range(len(X_train[0])):\n",
    "#     print(i, list(X_train[0][i]))\n",
    "\n",
    "X_val, y_val = generate_vectors(validation_data, remaining_rbps_dict, rbp_dict, const=500, bin_size=25, w_inside=5)\n",
    "X_test, y_test = generate_vectors(test_data, remaining_rbps_dict, rbp_dict, const=500, bin_size=25, w_inside=5)\n"
   ]
  },
  {
   "cell_type": "code",
   "execution_count": 82,
   "id": "nearby-tiger",
   "metadata": {},
   "outputs": [],
   "source": [
    "seed = 123\n",
    "np.random.seed(seed)\n",
    "arr = np.arange(len(X_train))\n",
    "np.random.shuffle(arr)\n",
    "\n",
    "X_train_sh = X_train[arr]\n",
    "y_train_sh = y_train[arr]\n",
    "\n",
    "arr = np.arange(len(X_val))\n",
    "np.random.shuffle(arr)\n",
    "\n",
    "X_val_sh = X_val[arr]\n",
    "y_val_sh = y_val[arr]"
   ]
  },
  {
   "cell_type": "code",
   "execution_count": 83,
   "id": "yellow-sector",
   "metadata": {},
   "outputs": [
    {
     "name": "stdout",
     "output_type": "stream",
     "text": [
      "(1224, 36, 45)\n",
      "0\n",
      "(197, 36, 45)\n",
      "0\n",
      "(173, 36, 45)\n",
      "0\n"
     ]
    }
   ],
   "source": [
    "print(X_train.shape)\n",
    "print(np.sum(y_train == 0))\n",
    "\n",
    "print(X_val.shape)\n",
    "print(np.sum(y_val == 0))\n",
    "\n",
    "print(X_test.shape)\n",
    "print(np.sum(y_test == 0))"
   ]
  },
  {
   "cell_type": "code",
   "execution_count": 84,
   "id": "daily-colonial",
   "metadata": {},
   "outputs": [
    {
     "name": "stdout",
     "output_type": "stream",
     "text": [
      "before:  (1224, 36, 45)\n",
      "after:  (1224, 1620)\n",
      "test: (173, 1620)\n",
      "(1421, 1620)\n",
      "(1421,)\n",
      "pos tr/val:  1018.6619716039306 from:  1421\n",
      "pos test:  124.14509480466215 from:  173\n",
      "(1421, 1621)\n",
      "(1421, 1620)\n",
      "(1421,)\n"
     ]
    }
   ],
   "source": [
    "### Making the data 1-dimensional:\n",
    "\n",
    "# for i in range(len(X_train[0])):\n",
    "#     print(i, list(X_train[0][i]))\n",
    "\n",
    "print('before: ', X_train.shape)\n",
    "X_train_1d = np.reshape(X_train, (X_train.shape[0],-1)) \n",
    "print('after: ', X_train_1d.shape)\n",
    "# print(list(X_train_1d[0]))\n",
    "\n",
    "X_val_1d = np.reshape(X_val, (X_val.shape[0],-1)) \n",
    "X_test_1d = np.reshape(X_test, (X_test.shape[0],-1)) \n",
    "print('test:', X_test_1d.shape)\n",
    "\n",
    "X_train_val_1d = np.concatenate([X_train_1d, X_val_1d])\n",
    "print(X_train_val_1d.shape)\n",
    "y_train_val = np.concatenate([y_train, y_val])\n",
    "print(y_train_val.shape)\n",
    "\n",
    "print('pos tr/val: ', np.sum(y_train_val), 'from: ', len(y_train_val))\n",
    "print('pos test: ', np.sum(y_test), 'from: ', len(y_test))\n",
    "\n",
    "X_y_train_val = np.concatenate([X_train_val_1d, y_train_val.reshape(-1,1)], axis=1)\n",
    "print(X_y_train_val.shape)\n",
    "\n",
    "import random\n",
    "random.shuffle(X_y_train_val)\n",
    "X_train_val_1d = X_y_train_val[:,:-1]\n",
    "y_train_val = X_y_train_val[:,-1]\n",
    "print(X_train_val_1d.shape)\n",
    "print(y_train_val.shape)"
   ]
  },
  {
   "cell_type": "code",
   "execution_count": 343,
   "id": "steady-commercial",
   "metadata": {},
   "outputs": [],
   "source": [
    "from scipy.optimize import curve_fit\n",
    "\n",
    "def mse(x, A, B):\n",
    "    return A*x + B\n",
    "\n",
    "def abline(slope, intercept):\n",
    "    axes = plt.gca()\n",
    "    x_vals = np.array(axes.get_xlim())\n",
    "    y_vals = intercept + slope * x_vals\n",
    "    plt.plot(x_vals, y_vals, '--')"
   ]
  },
  {
   "cell_type": "code",
   "execution_count": 355,
   "id": "brief-exchange",
   "metadata": {},
   "outputs": [
    {
     "data": {
      "image/png": "[encoded data removed]",
      "text/plain": [
       "<Figure size 432x288 with 1 Axes>"
      ]
     },
     "metadata": {
      "needs_background": "light"
     },
     "output_type": "display_data"
    }
   ],
   "source": [
    "from sklearn.svm import SVR\n",
    "from sklearn.pipeline import make_pipeline\n",
    "from sklearn.preprocessing import StandardScaler\n",
    "from sklearn.model_selection import GridSearchCV\n",
    "import numpy as np\n",
    "from sklearn.pipeline import Pipeline\n",
    "\n",
    "\n",
    "param_grid = {\n",
    "    'svr__epsilon': [0.05, 0.1, 0.2, 0.4, 0.7, 1.0],\n",
    "    'svr__C': [0.0001, 0.001, 0.01, 0.1, 1, 10, 100],\n",
    "}\n",
    "\n",
    "\n",
    "svr_module = SVR()\n",
    "standardScaler = StandardScaler()\n",
    "pipe = Pipeline(steps=[('standard', standardScaler), ('svr', svr_module)])\n",
    "\n",
    "search = GridSearchCV(pipe, param_grid, n_jobs=14)\n",
    "search.fit(X_train_val_1d, y_train_val)\n",
    "\n",
    "y_pred = search.predict(X_test_1d)\n",
    "plt.scatter(y_pred, y_test)\n",
    "\n",
    "\n",
    "popt, pcov = curve_fit(mse, y_pred, y_test) \n",
    "abline(popt[0], popt[1])\n",
    "\n",
    "plt.savefig('scatter_svr.png')"
   ]
  },
  {
   "cell_type": "code",
   "execution_count": 357,
   "id": "amazing-newton",
   "metadata": {},
   "outputs": [
    {
     "data": {
      "image/png": "[encoded data removed]",
      "text/plain": [
       "<Figure size 432x288 with 1 Axes>"
      ]
     },
     "metadata": {
      "needs_background": "light"
     },
     "output_type": "display_data"
    }
   ],
   "source": [
    "import sklearn.metrics as metrics\n",
    "y_pred = search.predict(X_test_1d)\n",
    "y_test_bin = (y_test>0.5).astype(int)\n",
    "fpr, tpr, threshold = metrics.roc_curve(y_test_bin, y_pred)\n",
    "roc_auc = metrics.auc(fpr, tpr)\n",
    "\n",
    "# method I: plt\n",
    "import matplotlib.pyplot as plt\n",
    "plt.title('Receiver Operating Characteristic')\n",
    "plt.plot(fpr, tpr, 'b', label = 'AUC = %0.2f' % roc_auc)\n",
    "plt.legend(loc = 'lower right')\n",
    "plt.plot([0, 1], [0, 1],'r--')\n",
    "plt.xlim([0, 1])\n",
    "plt.ylim([0, 1])\n",
    "plt.ylabel('True Positive Rate')\n",
    "plt.xlabel('False Positive Rate')\n",
    "plt.savefig('ROC_svr.png')"
   ]
  },
  {
   "cell_type": "code",
   "execution_count": 347,
   "id": "interracial-occasion",
   "metadata": {},
   "outputs": [
    {
     "data": {
      "image/png": "[encoded data removed]",
      "text/plain": [
       "<Figure size 432x288 with 1 Axes>"
      ]
     },
     "metadata": {
      "needs_background": "light"
     },
     "output_type": "display_data"
    }
   ],
   "source": [
    "import numpy as np\n",
    "from sklearn.linear_model import LinearRegression\n",
    "\n",
    "\n",
    "reg = LinearRegression().fit(X_train_val_1d, y_train_val)\n",
    "reg.score(X_train_val_1d, y_train_val)\n",
    "\n",
    "reg.coef_\n",
    "\n",
    "reg.intercept_\n",
    "\n",
    "y_pred = reg.predict(X_test_1d)\n",
    "plt.scatter(y_pred, y_test)\n",
    "\n",
    "popt, pcov = curve_fit(mse, y_pred, y_test) \n",
    "abline(popt[0], popt[1])"
   ]
  },
  {
   "cell_type": "code",
   "execution_count": 350,
   "id": "devoted-trader",
   "metadata": {},
   "outputs": [
    {
     "data": {
      "image/png": "[encoded data removed]",
      "text/plain": [
       "<Figure size 432x288 with 1 Axes>"
      ]
     },
     "metadata": {
      "needs_background": "light"
     },
     "output_type": "display_data"
    }
   ],
   "source": [
    "import sklearn.metrics as metrics\n",
    "y_pred = reg.predict(X_test_1d)\n",
    "y_test_bin = (y_test>0.5).astype(int)\n",
    "fpr, tpr, threshold = metrics.roc_curve(y_test_bin, y_pred)\n",
    "roc_auc = metrics.auc(fpr, tpr)\n",
    "\n",
    "# method I: plt\n",
    "import matplotlib.pyplot as plt\n",
    "plt.title('Receiver Operating Characteristic')\n",
    "plt.plot(fpr, tpr, 'b', label = 'AUC = %0.2f' % roc_auc)\n",
    "plt.legend(loc = 'lower right')\n",
    "plt.plot([0, 1], [0, 1],'r--')\n",
    "plt.xlim([0, 1])\n",
    "plt.ylim([0, 1])\n",
    "plt.ylabel('True Positive Rate')\n",
    "plt.xlabel('False Positive Rate')\n",
    "plt.show()"
   ]
  },
  {
   "cell_type": "code",
   "execution_count": 341,
   "id": "current-warrior",
   "metadata": {},
   "outputs": [
    {
     "name": "stderr",
     "output_type": "stream",
     "text": [
      "/gpfs/commons/home/aebrahimpour/.conda/envs/cth/lib/python3.8/site-packages/sklearn/model_selection/_search.py:918: UserWarning: One or more of the test scores are non-finite: [nan nan nan nan nan nan nan]\n",
      "  warnings.warn(\n"
     ]
    },
    {
     "ename": "ValueError",
     "evalue": "Unknown label type: 'continuous'",
     "output_type": "error",
     "traceback": [
      "\u001b[0;31m---------------------------------------------------------------------------\u001b[0m",
      "\u001b[0;31mValueError\u001b[0m                                Traceback (most recent call last)",
      "\u001b[0;32m<ipython-input-341-d6855c608ef0>\u001b[0m in \u001b[0;36m<module>\u001b[0;34m\u001b[0m\n\u001b[1;32m     17\u001b[0m \u001b[0;34m\u001b[0m\u001b[0m\n\u001b[1;32m     18\u001b[0m \u001b[0msearch\u001b[0m \u001b[0;34m=\u001b[0m \u001b[0mGridSearchCV\u001b[0m\u001b[0;34m(\u001b[0m\u001b[0mpipe\u001b[0m\u001b[0;34m,\u001b[0m \u001b[0mparam_grid\u001b[0m\u001b[0;34m,\u001b[0m \u001b[0mn_jobs\u001b[0m\u001b[0;34m=\u001b[0m\u001b[0;36m14\u001b[0m\u001b[0;34m)\u001b[0m\u001b[0;34m\u001b[0m\u001b[0;34m\u001b[0m\u001b[0m\n\u001b[0;32m---> 19\u001b[0;31m \u001b[0msearch\u001b[0m\u001b[0;34m.\u001b[0m\u001b[0mfit\u001b[0m\u001b[0;34m(\u001b[0m\u001b[0mX_train_val_1d\u001b[0m\u001b[0;34m,\u001b[0m \u001b[0my_train_val\u001b[0m\u001b[0;34m)\u001b[0m\u001b[0;34m\u001b[0m\u001b[0;34m\u001b[0m\u001b[0m\n\u001b[0m\u001b[1;32m     20\u001b[0m \u001b[0mprint\u001b[0m\u001b[0;34m(\u001b[0m\u001b[0;34m\"Best parameter (CV score=%0.3f):\"\u001b[0m \u001b[0;34m%\u001b[0m \u001b[0msearch\u001b[0m\u001b[0;34m.\u001b[0m\u001b[0mbest_score_\u001b[0m\u001b[0;34m)\u001b[0m\u001b[0;34m\u001b[0m\u001b[0;34m\u001b[0m\u001b[0m\n\u001b[1;32m     21\u001b[0m \u001b[0mprint\u001b[0m\u001b[0;34m(\u001b[0m\u001b[0msearch\u001b[0m\u001b[0;34m.\u001b[0m\u001b[0mbest_params_\u001b[0m\u001b[0;34m)\u001b[0m\u001b[0;34m\u001b[0m\u001b[0;34m\u001b[0m\u001b[0m\n",
      "\u001b[0;32m~/.conda/envs/cth/lib/python3.8/site-packages/sklearn/utils/validation.py\u001b[0m in \u001b[0;36minner_f\u001b[0;34m(*args, **kwargs)\u001b[0m\n\u001b[1;32m     61\u001b[0m             \u001b[0mextra_args\u001b[0m \u001b[0;34m=\u001b[0m \u001b[0mlen\u001b[0m\u001b[0;34m(\u001b[0m\u001b[0margs\u001b[0m\u001b[0;34m)\u001b[0m \u001b[0;34m-\u001b[0m \u001b[0mlen\u001b[0m\u001b[0;34m(\u001b[0m\u001b[0mall_args\u001b[0m\u001b[0;34m)\u001b[0m\u001b[0;34m\u001b[0m\u001b[0;34m\u001b[0m\u001b[0m\n\u001b[1;32m     62\u001b[0m             \u001b[0;32mif\u001b[0m \u001b[0mextra_args\u001b[0m \u001b[0;34m<=\u001b[0m \u001b[0;36m0\u001b[0m\u001b[0;34m:\u001b[0m\u001b[0;34m\u001b[0m\u001b[0;34m\u001b[0m\u001b[0m\n\u001b[0;32m---> 63\u001b[0;31m                 \u001b[0;32mreturn\u001b[0m \u001b[0mf\u001b[0m\u001b[0;34m(\u001b[0m\u001b[0;34m*\u001b[0m\u001b[0margs\u001b[0m\u001b[0;34m,\u001b[0m \u001b[0;34m**\u001b[0m\u001b[0mkwargs\u001b[0m\u001b[0;34m)\u001b[0m\u001b[0;34m\u001b[0m\u001b[0;34m\u001b[0m\u001b[0m\n\u001b[0m\u001b[1;32m     64\u001b[0m \u001b[0;34m\u001b[0m\u001b[0m\n\u001b[1;32m     65\u001b[0m             \u001b[0;31m# extra_args > 0\u001b[0m\u001b[0;34m\u001b[0m\u001b[0;34m\u001b[0m\u001b[0;34m\u001b[0m\u001b[0m\n",
      "\u001b[0;32m~/.conda/envs/cth/lib/python3.8/site-packages/sklearn/model_selection/_search.py\u001b[0m in \u001b[0;36mfit\u001b[0;34m(self, X, y, groups, **fit_params)\u001b[0m\n\u001b[1;32m    878\u001b[0m             \u001b[0mrefit_start_time\u001b[0m \u001b[0;34m=\u001b[0m \u001b[0mtime\u001b[0m\u001b[0;34m.\u001b[0m\u001b[0mtime\u001b[0m\u001b[0;34m(\u001b[0m\u001b[0;34m)\u001b[0m\u001b[0;34m\u001b[0m\u001b[0;34m\u001b[0m\u001b[0m\n\u001b[1;32m    879\u001b[0m             \u001b[0;32mif\u001b[0m \u001b[0my\u001b[0m \u001b[0;32mis\u001b[0m \u001b[0;32mnot\u001b[0m \u001b[0;32mNone\u001b[0m\u001b[0;34m:\u001b[0m\u001b[0;34m\u001b[0m\u001b[0;34m\u001b[0m\u001b[0m\n\u001b[0;32m--> 880\u001b[0;31m                 \u001b[0mself\u001b[0m\u001b[0;34m.\u001b[0m\u001b[0mbest_estimator_\u001b[0m\u001b[0;34m.\u001b[0m\u001b[0mfit\u001b[0m\u001b[0;34m(\u001b[0m\u001b[0mX\u001b[0m\u001b[0;34m,\u001b[0m \u001b[0my\u001b[0m\u001b[0;34m,\u001b[0m \u001b[0;34m**\u001b[0m\u001b[0mfit_params\u001b[0m\u001b[0;34m)\u001b[0m\u001b[0;34m\u001b[0m\u001b[0;34m\u001b[0m\u001b[0m\n\u001b[0m\u001b[1;32m    881\u001b[0m             \u001b[0;32melse\u001b[0m\u001b[0;34m:\u001b[0m\u001b[0;34m\u001b[0m\u001b[0;34m\u001b[0m\u001b[0m\n\u001b[1;32m    882\u001b[0m                 \u001b[0mself\u001b[0m\u001b[0;34m.\u001b[0m\u001b[0mbest_estimator_\u001b[0m\u001b[0;34m.\u001b[0m\u001b[0mfit\u001b[0m\u001b[0;34m(\u001b[0m\u001b[0mX\u001b[0m\u001b[0;34m,\u001b[0m \u001b[0;34m**\u001b[0m\u001b[0mfit_params\u001b[0m\u001b[0;34m)\u001b[0m\u001b[0;34m\u001b[0m\u001b[0;34m\u001b[0m\u001b[0m\n",
      "\u001b[0;32m~/.conda/envs/cth/lib/python3.8/site-packages/sklearn/pipeline.py\u001b[0m in \u001b[0;36mfit\u001b[0;34m(self, X, y, **fit_params)\u001b[0m\n\u001b[1;32m    344\u001b[0m             \u001b[0;32mif\u001b[0m \u001b[0mself\u001b[0m\u001b[0;34m.\u001b[0m\u001b[0m_final_estimator\u001b[0m \u001b[0;34m!=\u001b[0m \u001b[0;34m'passthrough'\u001b[0m\u001b[0;34m:\u001b[0m\u001b[0;34m\u001b[0m\u001b[0;34m\u001b[0m\u001b[0m\n\u001b[1;32m    345\u001b[0m                 \u001b[0mfit_params_last_step\u001b[0m \u001b[0;34m=\u001b[0m \u001b[0mfit_params_steps\u001b[0m\u001b[0;34m[\u001b[0m\u001b[0mself\u001b[0m\u001b[0;34m.\u001b[0m\u001b[0msteps\u001b[0m\u001b[0;34m[\u001b[0m\u001b[0;34m-\u001b[0m\u001b[0;36m1\u001b[0m\u001b[0;34m]\u001b[0m\u001b[0;34m[\u001b[0m\u001b[0;36m0\u001b[0m\u001b[0;34m]\u001b[0m\u001b[0;34m]\u001b[0m\u001b[0;34m\u001b[0m\u001b[0;34m\u001b[0m\u001b[0m\n\u001b[0;32m--> 346\u001b[0;31m                 \u001b[0mself\u001b[0m\u001b[0;34m.\u001b[0m\u001b[0m_final_estimator\u001b[0m\u001b[0;34m.\u001b[0m\u001b[0mfit\u001b[0m\u001b[0;34m(\u001b[0m\u001b[0mXt\u001b[0m\u001b[0;34m,\u001b[0m \u001b[0my\u001b[0m\u001b[0;34m,\u001b[0m \u001b[0;34m**\u001b[0m\u001b[0mfit_params_last_step\u001b[0m\u001b[0;34m)\u001b[0m\u001b[0;34m\u001b[0m\u001b[0;34m\u001b[0m\u001b[0m\n\u001b[0m\u001b[1;32m    347\u001b[0m \u001b[0;34m\u001b[0m\u001b[0m\n\u001b[1;32m    348\u001b[0m         \u001b[0;32mreturn\u001b[0m \u001b[0mself\u001b[0m\u001b[0;34m\u001b[0m\u001b[0;34m\u001b[0m\u001b[0m\n",
      "\u001b[0;32m~/.conda/envs/cth/lib/python3.8/site-packages/sklearn/svm/_base.py\u001b[0m in \u001b[0;36mfit\u001b[0;34m(self, X, y, sample_weight)\u001b[0m\n\u001b[1;32m    171\u001b[0m                                        accept_large_sparse=False)\n\u001b[1;32m    172\u001b[0m \u001b[0;34m\u001b[0m\u001b[0m\n\u001b[0;32m--> 173\u001b[0;31m         \u001b[0my\u001b[0m \u001b[0;34m=\u001b[0m \u001b[0mself\u001b[0m\u001b[0;34m.\u001b[0m\u001b[0m_validate_targets\u001b[0m\u001b[0;34m(\u001b[0m\u001b[0my\u001b[0m\u001b[0;34m)\u001b[0m\u001b[0;34m\u001b[0m\u001b[0;34m\u001b[0m\u001b[0m\n\u001b[0m\u001b[1;32m    174\u001b[0m \u001b[0;34m\u001b[0m\u001b[0m\n\u001b[1;32m    175\u001b[0m         sample_weight = np.asarray([]\n",
      "\u001b[0;32m~/.conda/envs/cth/lib/python3.8/site-packages/sklearn/svm/_base.py\u001b[0m in \u001b[0;36m_validate_targets\u001b[0;34m(self, y)\u001b[0m\n\u001b[1;32m    551\u001b[0m     \u001b[0;32mdef\u001b[0m \u001b[0m_validate_targets\u001b[0m\u001b[0;34m(\u001b[0m\u001b[0mself\u001b[0m\u001b[0;34m,\u001b[0m \u001b[0my\u001b[0m\u001b[0;34m)\u001b[0m\u001b[0;34m:\u001b[0m\u001b[0;34m\u001b[0m\u001b[0;34m\u001b[0m\u001b[0m\n\u001b[1;32m    552\u001b[0m         \u001b[0my_\u001b[0m \u001b[0;34m=\u001b[0m \u001b[0mcolumn_or_1d\u001b[0m\u001b[0;34m(\u001b[0m\u001b[0my\u001b[0m\u001b[0;34m,\u001b[0m \u001b[0mwarn\u001b[0m\u001b[0;34m=\u001b[0m\u001b[0;32mTrue\u001b[0m\u001b[0;34m)\u001b[0m\u001b[0;34m\u001b[0m\u001b[0;34m\u001b[0m\u001b[0m\n\u001b[0;32m--> 553\u001b[0;31m         \u001b[0mcheck_classification_targets\u001b[0m\u001b[0;34m(\u001b[0m\u001b[0my\u001b[0m\u001b[0;34m)\u001b[0m\u001b[0;34m\u001b[0m\u001b[0;34m\u001b[0m\u001b[0m\n\u001b[0m\u001b[1;32m    554\u001b[0m         \u001b[0mcls\u001b[0m\u001b[0;34m,\u001b[0m \u001b[0my\u001b[0m \u001b[0;34m=\u001b[0m \u001b[0mnp\u001b[0m\u001b[0;34m.\u001b[0m\u001b[0munique\u001b[0m\u001b[0;34m(\u001b[0m\u001b[0my_\u001b[0m\u001b[0;34m,\u001b[0m \u001b[0mreturn_inverse\u001b[0m\u001b[0;34m=\u001b[0m\u001b[0;32mTrue\u001b[0m\u001b[0;34m)\u001b[0m\u001b[0;34m\u001b[0m\u001b[0;34m\u001b[0m\u001b[0m\n\u001b[1;32m    555\u001b[0m         self.class_weight_ = compute_class_weight(self.class_weight,\n",
      "\u001b[0;32m~/.conda/envs/cth/lib/python3.8/site-packages/sklearn/utils/multiclass.py\u001b[0m in \u001b[0;36mcheck_classification_targets\u001b[0;34m(y)\u001b[0m\n\u001b[1;32m    181\u001b[0m     if y_type not in ['binary', 'multiclass', 'multiclass-multioutput',\n\u001b[1;32m    182\u001b[0m                       'multilabel-indicator', 'multilabel-sequences']:\n\u001b[0;32m--> 183\u001b[0;31m         \u001b[0;32mraise\u001b[0m \u001b[0mValueError\u001b[0m\u001b[0;34m(\u001b[0m\u001b[0;34m\"Unknown label type: %r\"\u001b[0m \u001b[0;34m%\u001b[0m \u001b[0my_type\u001b[0m\u001b[0;34m)\u001b[0m\u001b[0;34m\u001b[0m\u001b[0;34m\u001b[0m\u001b[0m\n\u001b[0m\u001b[1;32m    184\u001b[0m \u001b[0;34m\u001b[0m\u001b[0m\n\u001b[1;32m    185\u001b[0m \u001b[0;34m\u001b[0m\u001b[0m\n",
      "\u001b[0;31mValueError\u001b[0m: Unknown label type: 'continuous'"
     ]
    }
   ],
   "source": [
    "from sklearn import svm\n",
    "from sklearn.svm import LinearSVC\n",
    "from sklearn.pipeline import make_pipeline\n",
    "from sklearn.preprocessing import StandardScaler\n",
    "from sklearn.model_selection import GridSearchCV\n",
    "from sklearn.pipeline import Pipeline\n",
    "\n",
    "# parameters = {'kernel':('linear', 'rbf'), 'C':[1, 10]}\n",
    "param_grid = {\n",
    "    'svm__kernel': ['linear'],\n",
    "    'svm__C': [0.0001, 0.001, 0.01, 0.1, 1, 10, 100],\n",
    "}\n",
    "\n",
    "svm_module = svm.SVC(tol=0.01, class_weight='balanced')\n",
    "standardScaler = StandardScaler()\n",
    "pipe = Pipeline(steps=[('standard', standardScaler), ('svm', svm_module)])\n",
    "\n",
    "search = GridSearchCV(pipe, param_grid, n_jobs=14)\n",
    "search.fit(X_train_val_1d, y_train_val)\n",
    "print(\"Best parameter (CV score=%0.3f):\" % search.best_score_)\n",
    "print(search.best_params_)\n",
    "\n",
    "\n",
    "print(search.score(X_train_val_1d, y_train_val))\n",
    "print(search.predict(X_train_val_1d)[200:250])\n",
    "print(y_train_val[200:250])\n",
    "\n",
    "print('test data: ')\n",
    "print(search.score(X_test_1d, y_test))\n",
    "print(search.predict(X_test_1d))\n",
    "print(y_test)"
   ]
  },
  {
   "cell_type": "code",
   "execution_count": null,
   "id": "revised-requirement",
   "metadata": {},
   "outputs": [],
   "source": [
    "from sklearn.decomposition import PCA\n",
    "from sklearn.linear_model import LogisticRegression\n",
    "\n",
    "\n",
    "param_grid = {\n",
    "    'pca__n_components': [5, 15, 30, 45, 64, 75, 128, 256],\n",
    "    'logistic__C': np.logspace(-5, 5, 10),\n",
    "}\n",
    "\n",
    "pca = PCA()\n",
    "logistic = LogisticRegression(max_iter=10000, tol=0.1, class_weight='balanced')\n",
    "pipe = Pipeline(steps=[('pca', pca), ('logistic', logistic)])\n",
    "\n",
    "\n",
    "search = GridSearchCV(pipe, param_grid, n_jobs=14)\n",
    "search.fit(X_train_val_1d, y_train_val)\n",
    "print(\"Best parameter (CV score=%0.3f):\" % search.best_score_)\n",
    "print(search.best_params_)\n",
    "\n",
    "print(search.score(X_test_1d, y_test))\n",
    "\n",
    "print(search.predict(X_test_1d))"
   ]
  },
  {
   "cell_type": "code",
   "execution_count": null,
   "id": "statistical-count",
   "metadata": {},
   "outputs": [],
   "source": [
    "from sklearn.decomposition import PCA\n",
    "from sklearn.linear_model import LogisticRegression\n",
    "\n",
    "np.random.seed(1234)\n",
    "\n",
    "param_grid = {\n",
    "    'pca__n_components': [8, 16, 32, 64, 128, 256, 512],\n",
    "    'svm__kernel': ['linear'],\n",
    "    'svm__C': [0.0001, 0.001, 0.01, 0.1, 1, 10, 100],\n",
    "    # 'svm__gamma': [0.0001, 0.001, 0.01, 0.1, 1, 10, 100],\n",
    "}\n",
    "\n",
    "standardScaler = StandardScaler()\n",
    "pca = PCA()\n",
    "svm_module = svm.SVC(tol=0.01, class_weight='balanced')\n",
    "pipe = Pipeline(steps=[('pca', pca), ('svm', svm_module)])\n",
    "\n",
    "\n",
    "search = GridSearchCV(pipe, param_grid, n_jobs=14)\n",
    "search.fit(X_train_val_1d, y_train_val)\n",
    "print(\"Best parameter (CV score=%0.3f):\" % search.best_score_)\n",
    "print(search.best_params_)\n",
    "\n",
    "print(search.score(X_test_1d, y_test))\n",
    "\n",
    "print(search.predict(X_test_1d))"
   ]
  },
  {
   "cell_type": "code",
   "execution_count": 342,
   "id": "centered-marathon",
   "metadata": {},
   "outputs": [
    {
     "ename": "AttributeError",
     "evalue": "'SVC' object has no attribute 'shape_fit_'",
     "output_type": "error",
     "traceback": [
      "\u001b[0;31m---------------------------------------------------------------------------\u001b[0m",
      "\u001b[0;31mAttributeError\u001b[0m                            Traceback (most recent call last)",
      "\u001b[0;32m<ipython-input-342-ef277ed18a25>\u001b[0m in \u001b[0;36m<module>\u001b[0;34m\u001b[0m\n\u001b[0;32m----> 1\u001b[0;31m \u001b[0maccuracy\u001b[0m \u001b[0;34m=\u001b[0m \u001b[0mnp\u001b[0m\u001b[0;34m.\u001b[0m\u001b[0mmean\u001b[0m\u001b[0;34m(\u001b[0m \u001b[0;34m(\u001b[0m\u001b[0msearch\u001b[0m\u001b[0;34m.\u001b[0m\u001b[0mpredict\u001b[0m\u001b[0;34m(\u001b[0m\u001b[0mX_test_1d\u001b[0m\u001b[0;34m)\u001b[0m \u001b[0;34m>\u001b[0m \u001b[0;36m.5\u001b[0m\u001b[0;34m)\u001b[0m \u001b[0;34m==\u001b[0m \u001b[0;34m(\u001b[0m\u001b[0my_test\u001b[0m \u001b[0;34m>\u001b[0m \u001b[0;36m.5\u001b[0m\u001b[0;34m)\u001b[0m\u001b[0;34m)\u001b[0m\u001b[0;34m\u001b[0m\u001b[0;34m\u001b[0m\u001b[0m\n\u001b[0m\u001b[1;32m      2\u001b[0m \u001b[0mprint\u001b[0m\u001b[0;34m(\u001b[0m\u001b[0maccuracy\u001b[0m\u001b[0;34m)\u001b[0m\u001b[0;34m\u001b[0m\u001b[0;34m\u001b[0m\u001b[0m\n",
      "\u001b[0;32m~/.conda/envs/cth/lib/python3.8/site-packages/sklearn/utils/metaestimators.py\u001b[0m in \u001b[0;36m<lambda>\u001b[0;34m(*args, **kwargs)\u001b[0m\n\u001b[1;32m    118\u001b[0m \u001b[0;34m\u001b[0m\u001b[0m\n\u001b[1;32m    119\u001b[0m         \u001b[0;31m# lambda, but not partial, allows help() to work with update_wrapper\u001b[0m\u001b[0;34m\u001b[0m\u001b[0;34m\u001b[0m\u001b[0;34m\u001b[0m\u001b[0m\n\u001b[0;32m--> 120\u001b[0;31m         \u001b[0mout\u001b[0m \u001b[0;34m=\u001b[0m \u001b[0;32mlambda\u001b[0m \u001b[0;34m*\u001b[0m\u001b[0margs\u001b[0m\u001b[0;34m,\u001b[0m \u001b[0;34m**\u001b[0m\u001b[0mkwargs\u001b[0m\u001b[0;34m:\u001b[0m \u001b[0mself\u001b[0m\u001b[0;34m.\u001b[0m\u001b[0mfn\u001b[0m\u001b[0;34m(\u001b[0m\u001b[0mobj\u001b[0m\u001b[0;34m,\u001b[0m \u001b[0;34m*\u001b[0m\u001b[0margs\u001b[0m\u001b[0;34m,\u001b[0m \u001b[0;34m**\u001b[0m\u001b[0mkwargs\u001b[0m\u001b[0;34m)\u001b[0m\u001b[0;34m\u001b[0m\u001b[0;34m\u001b[0m\u001b[0m\n\u001b[0m\u001b[1;32m    121\u001b[0m         \u001b[0;31m# update the docstring of the returned function\u001b[0m\u001b[0;34m\u001b[0m\u001b[0;34m\u001b[0m\u001b[0;34m\u001b[0m\u001b[0m\n\u001b[1;32m    122\u001b[0m         \u001b[0mupdate_wrapper\u001b[0m\u001b[0;34m(\u001b[0m\u001b[0mout\u001b[0m\u001b[0;34m,\u001b[0m \u001b[0mself\u001b[0m\u001b[0;34m.\u001b[0m\u001b[0mfn\u001b[0m\u001b[0;34m)\u001b[0m\u001b[0;34m\u001b[0m\u001b[0;34m\u001b[0m\u001b[0m\n",
      "\u001b[0;32m~/.conda/envs/cth/lib/python3.8/site-packages/sklearn/model_selection/_search.py\u001b[0m in \u001b[0;36mpredict\u001b[0;34m(self, X)\u001b[0m\n\u001b[1;32m    538\u001b[0m         \"\"\"\n\u001b[1;32m    539\u001b[0m         \u001b[0mself\u001b[0m\u001b[0;34m.\u001b[0m\u001b[0m_check_is_fitted\u001b[0m\u001b[0;34m(\u001b[0m\u001b[0;34m'predict'\u001b[0m\u001b[0;34m)\u001b[0m\u001b[0;34m\u001b[0m\u001b[0;34m\u001b[0m\u001b[0m\n\u001b[0;32m--> 540\u001b[0;31m         \u001b[0;32mreturn\u001b[0m \u001b[0mself\u001b[0m\u001b[0;34m.\u001b[0m\u001b[0mbest_estimator_\u001b[0m\u001b[0;34m.\u001b[0m\u001b[0mpredict\u001b[0m\u001b[0;34m(\u001b[0m\u001b[0mX\u001b[0m\u001b[0;34m)\u001b[0m\u001b[0;34m\u001b[0m\u001b[0;34m\u001b[0m\u001b[0m\n\u001b[0m\u001b[1;32m    541\u001b[0m \u001b[0;34m\u001b[0m\u001b[0m\n\u001b[1;32m    542\u001b[0m     \u001b[0;34m@\u001b[0m\u001b[0mif_delegate_has_method\u001b[0m\u001b[0;34m(\u001b[0m\u001b[0mdelegate\u001b[0m\u001b[0;34m=\u001b[0m\u001b[0;34m(\u001b[0m\u001b[0;34m'best_estimator_'\u001b[0m\u001b[0;34m,\u001b[0m \u001b[0;34m'estimator'\u001b[0m\u001b[0;34m)\u001b[0m\u001b[0;34m)\u001b[0m\u001b[0;34m\u001b[0m\u001b[0;34m\u001b[0m\u001b[0m\n",
      "\u001b[0;32m~/.conda/envs/cth/lib/python3.8/site-packages/sklearn/utils/metaestimators.py\u001b[0m in \u001b[0;36m<lambda>\u001b[0;34m(*args, **kwargs)\u001b[0m\n\u001b[1;32m    118\u001b[0m \u001b[0;34m\u001b[0m\u001b[0m\n\u001b[1;32m    119\u001b[0m         \u001b[0;31m# lambda, but not partial, allows help() to work with update_wrapper\u001b[0m\u001b[0;34m\u001b[0m\u001b[0;34m\u001b[0m\u001b[0;34m\u001b[0m\u001b[0m\n\u001b[0;32m--> 120\u001b[0;31m         \u001b[0mout\u001b[0m \u001b[0;34m=\u001b[0m \u001b[0;32mlambda\u001b[0m \u001b[0;34m*\u001b[0m\u001b[0margs\u001b[0m\u001b[0;34m,\u001b[0m \u001b[0;34m**\u001b[0m\u001b[0mkwargs\u001b[0m\u001b[0;34m:\u001b[0m \u001b[0mself\u001b[0m\u001b[0;34m.\u001b[0m\u001b[0mfn\u001b[0m\u001b[0;34m(\u001b[0m\u001b[0mobj\u001b[0m\u001b[0;34m,\u001b[0m \u001b[0;34m*\u001b[0m\u001b[0margs\u001b[0m\u001b[0;34m,\u001b[0m \u001b[0;34m**\u001b[0m\u001b[0mkwargs\u001b[0m\u001b[0;34m)\u001b[0m\u001b[0;34m\u001b[0m\u001b[0;34m\u001b[0m\u001b[0m\n\u001b[0m\u001b[1;32m    121\u001b[0m         \u001b[0;31m# update the docstring of the returned function\u001b[0m\u001b[0;34m\u001b[0m\u001b[0;34m\u001b[0m\u001b[0;34m\u001b[0m\u001b[0m\n\u001b[1;32m    122\u001b[0m         \u001b[0mupdate_wrapper\u001b[0m\u001b[0;34m(\u001b[0m\u001b[0mout\u001b[0m\u001b[0;34m,\u001b[0m \u001b[0mself\u001b[0m\u001b[0;34m.\u001b[0m\u001b[0mfn\u001b[0m\u001b[0;34m)\u001b[0m\u001b[0;34m\u001b[0m\u001b[0;34m\u001b[0m\u001b[0m\n",
      "\u001b[0;32m~/.conda/envs/cth/lib/python3.8/site-packages/sklearn/pipeline.py\u001b[0m in \u001b[0;36mpredict\u001b[0;34m(self, X, **predict_params)\u001b[0m\n\u001b[1;32m    417\u001b[0m         \u001b[0;32mfor\u001b[0m \u001b[0m_\u001b[0m\u001b[0;34m,\u001b[0m \u001b[0mname\u001b[0m\u001b[0;34m,\u001b[0m \u001b[0mtransform\u001b[0m \u001b[0;32min\u001b[0m \u001b[0mself\u001b[0m\u001b[0;34m.\u001b[0m\u001b[0m_iter\u001b[0m\u001b[0;34m(\u001b[0m\u001b[0mwith_final\u001b[0m\u001b[0;34m=\u001b[0m\u001b[0;32mFalse\u001b[0m\u001b[0;34m)\u001b[0m\u001b[0;34m:\u001b[0m\u001b[0;34m\u001b[0m\u001b[0;34m\u001b[0m\u001b[0m\n\u001b[1;32m    418\u001b[0m             \u001b[0mXt\u001b[0m \u001b[0;34m=\u001b[0m \u001b[0mtransform\u001b[0m\u001b[0;34m.\u001b[0m\u001b[0mtransform\u001b[0m\u001b[0;34m(\u001b[0m\u001b[0mXt\u001b[0m\u001b[0;34m)\u001b[0m\u001b[0;34m\u001b[0m\u001b[0;34m\u001b[0m\u001b[0m\n\u001b[0;32m--> 419\u001b[0;31m         \u001b[0;32mreturn\u001b[0m \u001b[0mself\u001b[0m\u001b[0;34m.\u001b[0m\u001b[0msteps\u001b[0m\u001b[0;34m[\u001b[0m\u001b[0;34m-\u001b[0m\u001b[0;36m1\u001b[0m\u001b[0;34m]\u001b[0m\u001b[0;34m[\u001b[0m\u001b[0;34m-\u001b[0m\u001b[0;36m1\u001b[0m\u001b[0;34m]\u001b[0m\u001b[0;34m.\u001b[0m\u001b[0mpredict\u001b[0m\u001b[0;34m(\u001b[0m\u001b[0mXt\u001b[0m\u001b[0;34m,\u001b[0m \u001b[0;34m**\u001b[0m\u001b[0mpredict_params\u001b[0m\u001b[0;34m)\u001b[0m\u001b[0;34m\u001b[0m\u001b[0;34m\u001b[0m\u001b[0m\n\u001b[0m\u001b[1;32m    420\u001b[0m \u001b[0;34m\u001b[0m\u001b[0m\n\u001b[1;32m    421\u001b[0m     \u001b[0;34m@\u001b[0m\u001b[0mif_delegate_has_method\u001b[0m\u001b[0;34m(\u001b[0m\u001b[0mdelegate\u001b[0m\u001b[0;34m=\u001b[0m\u001b[0;34m'_final_estimator'\u001b[0m\u001b[0;34m)\u001b[0m\u001b[0;34m\u001b[0m\u001b[0;34m\u001b[0m\u001b[0m\n",
      "\u001b[0;32m~/.conda/envs/cth/lib/python3.8/site-packages/sklearn/svm/_base.py\u001b[0m in \u001b[0;36mpredict\u001b[0;34m(self, X)\u001b[0m\n\u001b[1;32m    622\u001b[0m             \u001b[0my\u001b[0m \u001b[0;34m=\u001b[0m \u001b[0mnp\u001b[0m\u001b[0;34m.\u001b[0m\u001b[0margmax\u001b[0m\u001b[0;34m(\u001b[0m\u001b[0mself\u001b[0m\u001b[0;34m.\u001b[0m\u001b[0mdecision_function\u001b[0m\u001b[0;34m(\u001b[0m\u001b[0mX\u001b[0m\u001b[0;34m)\u001b[0m\u001b[0;34m,\u001b[0m \u001b[0maxis\u001b[0m\u001b[0;34m=\u001b[0m\u001b[0;36m1\u001b[0m\u001b[0;34m)\u001b[0m\u001b[0;34m\u001b[0m\u001b[0;34m\u001b[0m\u001b[0m\n\u001b[1;32m    623\u001b[0m         \u001b[0;32melse\u001b[0m\u001b[0;34m:\u001b[0m\u001b[0;34m\u001b[0m\u001b[0;34m\u001b[0m\u001b[0m\n\u001b[0;32m--> 624\u001b[0;31m             \u001b[0my\u001b[0m \u001b[0;34m=\u001b[0m \u001b[0msuper\u001b[0m\u001b[0;34m(\u001b[0m\u001b[0;34m)\u001b[0m\u001b[0;34m.\u001b[0m\u001b[0mpredict\u001b[0m\u001b[0;34m(\u001b[0m\u001b[0mX\u001b[0m\u001b[0;34m)\u001b[0m\u001b[0;34m\u001b[0m\u001b[0;34m\u001b[0m\u001b[0m\n\u001b[0m\u001b[1;32m    625\u001b[0m         \u001b[0;32mreturn\u001b[0m \u001b[0mself\u001b[0m\u001b[0;34m.\u001b[0m\u001b[0mclasses_\u001b[0m\u001b[0;34m.\u001b[0m\u001b[0mtake\u001b[0m\u001b[0;34m(\u001b[0m\u001b[0mnp\u001b[0m\u001b[0;34m.\u001b[0m\u001b[0masarray\u001b[0m\u001b[0;34m(\u001b[0m\u001b[0my\u001b[0m\u001b[0;34m,\u001b[0m \u001b[0mdtype\u001b[0m\u001b[0;34m=\u001b[0m\u001b[0mnp\u001b[0m\u001b[0;34m.\u001b[0m\u001b[0mintp\u001b[0m\u001b[0;34m)\u001b[0m\u001b[0;34m)\u001b[0m\u001b[0;34m\u001b[0m\u001b[0;34m\u001b[0m\u001b[0m\n\u001b[1;32m    626\u001b[0m \u001b[0;34m\u001b[0m\u001b[0m\n",
      "\u001b[0;32m~/.conda/envs/cth/lib/python3.8/site-packages/sklearn/svm/_base.py\u001b[0m in \u001b[0;36mpredict\u001b[0;34m(self, X)\u001b[0m\n\u001b[1;32m    340\u001b[0m         \u001b[0my_pred\u001b[0m \u001b[0;34m:\u001b[0m \u001b[0mndarray\u001b[0m \u001b[0mof\u001b[0m \u001b[0mshape\u001b[0m \u001b[0;34m(\u001b[0m\u001b[0mn_samples\u001b[0m\u001b[0;34m,\u001b[0m\u001b[0;34m)\u001b[0m\u001b[0;34m\u001b[0m\u001b[0;34m\u001b[0m\u001b[0m\n\u001b[1;32m    341\u001b[0m         \"\"\"\n\u001b[0;32m--> 342\u001b[0;31m         \u001b[0mX\u001b[0m \u001b[0;34m=\u001b[0m \u001b[0mself\u001b[0m\u001b[0;34m.\u001b[0m\u001b[0m_validate_for_predict\u001b[0m\u001b[0;34m(\u001b[0m\u001b[0mX\u001b[0m\u001b[0;34m)\u001b[0m\u001b[0;34m\u001b[0m\u001b[0;34m\u001b[0m\u001b[0m\n\u001b[0m\u001b[1;32m    343\u001b[0m         \u001b[0mpredict\u001b[0m \u001b[0;34m=\u001b[0m \u001b[0mself\u001b[0m\u001b[0;34m.\u001b[0m\u001b[0m_sparse_predict\u001b[0m \u001b[0;32mif\u001b[0m \u001b[0mself\u001b[0m\u001b[0;34m.\u001b[0m\u001b[0m_sparse\u001b[0m \u001b[0;32melse\u001b[0m \u001b[0mself\u001b[0m\u001b[0;34m.\u001b[0m\u001b[0m_dense_predict\u001b[0m\u001b[0;34m\u001b[0m\u001b[0;34m\u001b[0m\u001b[0m\n\u001b[1;32m    344\u001b[0m         \u001b[0;32mreturn\u001b[0m \u001b[0mpredict\u001b[0m\u001b[0;34m(\u001b[0m\u001b[0mX\u001b[0m\u001b[0;34m)\u001b[0m\u001b[0;34m\u001b[0m\u001b[0;34m\u001b[0m\u001b[0m\n",
      "\u001b[0;32m~/.conda/envs/cth/lib/python3.8/site-packages/sklearn/svm/_base.py\u001b[0m in \u001b[0;36m_validate_for_predict\u001b[0;34m(self, X)\u001b[0m\n\u001b[1;32m    490\u001b[0m                                  \u001b[0;34m\"the number of samples at training time\"\u001b[0m \u001b[0;34m%\u001b[0m\u001b[0;34m\u001b[0m\u001b[0;34m\u001b[0m\u001b[0m\n\u001b[1;32m    491\u001b[0m                                  (X.shape[1], self.shape_fit_[0]))\n\u001b[0;32m--> 492\u001b[0;31m         \u001b[0;32melif\u001b[0m \u001b[0;32mnot\u001b[0m \u001b[0mcallable\u001b[0m\u001b[0;34m(\u001b[0m\u001b[0mself\u001b[0m\u001b[0;34m.\u001b[0m\u001b[0mkernel\u001b[0m\u001b[0;34m)\u001b[0m \u001b[0;32mand\u001b[0m \u001b[0mX\u001b[0m\u001b[0;34m.\u001b[0m\u001b[0mshape\u001b[0m\u001b[0;34m[\u001b[0m\u001b[0;36m1\u001b[0m\u001b[0;34m]\u001b[0m \u001b[0;34m!=\u001b[0m \u001b[0mself\u001b[0m\u001b[0;34m.\u001b[0m\u001b[0mshape_fit_\u001b[0m\u001b[0;34m[\u001b[0m\u001b[0;36m1\u001b[0m\u001b[0;34m]\u001b[0m\u001b[0;34m:\u001b[0m\u001b[0;34m\u001b[0m\u001b[0;34m\u001b[0m\u001b[0m\n\u001b[0m\u001b[1;32m    493\u001b[0m             raise ValueError(\"X.shape[1] = %d should be equal to %d, \"\n\u001b[1;32m    494\u001b[0m                              \u001b[0;34m\"the number of features at training time\"\u001b[0m \u001b[0;34m%\u001b[0m\u001b[0;34m\u001b[0m\u001b[0;34m\u001b[0m\u001b[0m\n",
      "\u001b[0;31mAttributeError\u001b[0m: 'SVC' object has no attribute 'shape_fit_'"
     ]
    }
   ],
   "source": [
    "accuracy = np.mean( (search.predict(X_test_1d) > .5) == (y_test > .5))\n",
    "print(accuracy)"
   ]
  },
  {
   "cell_type": "code",
   "execution_count": 340,
   "id": "frozen-andrews",
   "metadata": {},
   "outputs": [
    {
     "ename": "AttributeError",
     "evalue": "'GridSearchCV' object has no attribute 'prob_'",
     "output_type": "error",
     "traceback": [
      "\u001b[0;31m---------------------------------------------------------------------------\u001b[0m",
      "\u001b[0;31mAttributeError\u001b[0m                            Traceback (most recent call last)",
      "\u001b[0;32m<ipython-input-340-e259259b68d0>\u001b[0m in \u001b[0;36m<module>\u001b[0;34m\u001b[0m\n\u001b[1;32m      1\u001b[0m \u001b[0;32mimport\u001b[0m \u001b[0msklearn\u001b[0m\u001b[0;34m.\u001b[0m\u001b[0mmetrics\u001b[0m \u001b[0;32mas\u001b[0m \u001b[0mmetrics\u001b[0m\u001b[0;34m\u001b[0m\u001b[0;34m\u001b[0m\u001b[0m\n\u001b[0;32m----> 2\u001b[0;31m \u001b[0my_pred\u001b[0m \u001b[0;34m=\u001b[0m \u001b[0msearch\u001b[0m\u001b[0;34m.\u001b[0m\u001b[0mprob_\u001b[0m\u001b[0;34m(\u001b[0m\u001b[0mX_test_1d\u001b[0m\u001b[0;34m)\u001b[0m\u001b[0;34m\u001b[0m\u001b[0;34m\u001b[0m\u001b[0m\n\u001b[0m\u001b[1;32m      3\u001b[0m \u001b[0my_test_bin\u001b[0m \u001b[0;34m=\u001b[0m \u001b[0;34m(\u001b[0m\u001b[0my_test\u001b[0m\u001b[0;34m>\u001b[0m\u001b[0;36m0.5\u001b[0m\u001b[0;34m)\u001b[0m\u001b[0;34m.\u001b[0m\u001b[0mastype\u001b[0m\u001b[0;34m(\u001b[0m\u001b[0mint\u001b[0m\u001b[0;34m)\u001b[0m\u001b[0;34m\u001b[0m\u001b[0;34m\u001b[0m\u001b[0m\n\u001b[1;32m      4\u001b[0m \u001b[0mfpr\u001b[0m\u001b[0;34m,\u001b[0m \u001b[0mtpr\u001b[0m\u001b[0;34m,\u001b[0m \u001b[0mthreshold\u001b[0m \u001b[0;34m=\u001b[0m \u001b[0mmetrics\u001b[0m\u001b[0;34m.\u001b[0m\u001b[0mroc_curve\u001b[0m\u001b[0;34m(\u001b[0m\u001b[0my_test_bin\u001b[0m\u001b[0;34m,\u001b[0m \u001b[0my_pred\u001b[0m\u001b[0;34m)\u001b[0m\u001b[0;34m\u001b[0m\u001b[0;34m\u001b[0m\u001b[0m\n\u001b[1;32m      5\u001b[0m \u001b[0mroc_auc\u001b[0m \u001b[0;34m=\u001b[0m \u001b[0mmetrics\u001b[0m\u001b[0;34m.\u001b[0m\u001b[0mauc\u001b[0m\u001b[0;34m(\u001b[0m\u001b[0mfpr\u001b[0m\u001b[0;34m,\u001b[0m \u001b[0mtpr\u001b[0m\u001b[0;34m)\u001b[0m\u001b[0;34m\u001b[0m\u001b[0;34m\u001b[0m\u001b[0m\n",
      "\u001b[0;31mAttributeError\u001b[0m: 'GridSearchCV' object has no attribute 'prob_'"
     ]
    }
   ],
   "source": [
    "import sklearn.metrics as metrics\n",
    "y_pred = search.prob_(X_test_1d)\n",
    "y_test_bin = (y_test>0.5).astype(int)\n",
    "fpr, tpr, threshold = metrics.roc_curve(y_test_bin, y_pred)\n",
    "roc_auc = metrics.auc(fpr, tpr)\n",
    "\n",
    "# method I: plt\n",
    "import matplotlib.pyplot as plt\n",
    "plt.title('Receiver Operating Characteristic')\n",
    "plt.plot(fpr, tpr, 'b', label = 'AUC = %0.2f' % roc_auc)\n",
    "plt.legend(loc = 'lower right')\n",
    "plt.plot([0, 1], [0, 1],'r--')\n",
    "plt.xlim([0, 1])\n",
    "plt.ylim([0, 1])\n",
    "plt.ylabel('True Positive Rate')\n",
    "plt.xlabel('False Positive Rate')\n",
    "plt.show()"
   ]
  },
  {
   "cell_type": "markdown",
   "id": "framed-vatican",
   "metadata": {
    "tags": []
   },
   "source": [
    "# Deep Learning"
   ]
  },
  {
   "cell_type": "code",
   "execution_count": 99,
   "id": "mineral-cinema",
   "metadata": {},
   "outputs": [
    {
     "name": "stdout",
     "output_type": "stream",
     "text": [
      "Torch version: 1.8.0\n"
     ]
    },
    {
     "data": {
      "text/plain": [
       "tensor(3.0486)"
      ]
     },
     "execution_count": 99,
     "metadata": {},
     "output_type": "execute_result"
    }
   ],
   "source": [
    "import torch\n",
    "import torch.nn as nn\n",
    "import torch.nn.functional as F\n",
    "import torch.utils.data\n",
    "assert(torch.cuda.is_available()) # if this fails go to Runtime -> Change runtime type -> Set \"Hardware Accelerator\"\n",
    "print(\"Torch version:\", torch.__version__)\n",
    "nn.functional.softplus(torch.tensor(3.))"
   ]
  },
  {
   "cell_type": "code",
   "execution_count": 102,
   "id": "mature-sailing",
   "metadata": {},
   "outputs": [],
   "source": [
    "class BWVecDataset(torch.utils.data.IterableDataset):\n",
    "\n",
    "    def __init__(self, exon_rbp_df, rbps_to_int_dict, rbp_dict, const=300, bin_size=20, w_inside=5):\n",
    "        super(BWVecDataset, self).__init__()\n",
    "        self.exon_rbp_df = exon_rbp_df\n",
    "        self.rbps_to_int_dict = rbps_to_int_dict\n",
    "        self.rbp_dict = rbp_dict\n",
    "        self.const = const\n",
    "        self.bin_size = bin_size\n",
    "        self.w_inside = w_inside\n",
    "\n",
    "    def __iter__(self): \n",
    "        srt_df = self.exon_rbp_df.sort_values(by='exon_idx')\n",
    "        gr_df = srt_df.groupby(by='exon_idx')\n",
    "    \n",
    "        sec_len = self.const//self.bin_size\n",
    "        vec_len = (self.const//self.bin_size)*2 + self.w_inside\n",
    "        for exon_idx, neigh_rbf_df in gr_df:\n",
    "            left_vec_rep = np.zeros((len(self.rbps_to_int_dict), sec_len))\n",
    "            right_vec_rep = np.zeros((len(self.rbps_to_int_dict), sec_len))\n",
    "            mid_vec_rep = np.zeros((len(self.rbps_to_int_dict), self.w_inside))\n",
    "            for idx, row in neigh_rbf_df.iterrows():\n",
    "                cur_rbp = self.rbps_to_int_dict[row['rbp']]\n",
    "                cur_bw = self.rbp_dict[row['rbp']][row['strand']]\n",
    "\n",
    "                chromosom = row['chr']\n",
    "                start = row['exon_start']\n",
    "                end = row['exon_end']\n",
    "                chr_len = cur_bw.chroms()[chromosom]\n",
    "\n",
    "                l_start_pos = max(start-self.const, 0)\n",
    "                l_end_pos = min(start, chr_len-1)\n",
    "\n",
    "                r_start_pos = max(end, 0)\n",
    "                r_end_pos = min(end+self.const, chr_len-1)\n",
    "\n",
    "                values_left = np.array(cur_bw.stats(chromosom, l_start_pos, l_end_pos, nBins=sec_len))\n",
    "                values_left[values_left == None] = 0.\n",
    "                left_vec_rep[cur_rbp, :] = values_left.astype(float, copy=False)\n",
    "\n",
    "                values_right = np.array(cur_bw.stats(chromosom, r_start_pos, r_end_pos, nBins=sec_len))\n",
    "                values_right[values_right == None] = 0.\n",
    "                right_vec_rep[cur_rbp, :] = values_right.astype(float, copy=False)\n",
    "\n",
    "                values_middle = np.array(cur_bw.stats(chromosom, start, end, nBins=self.w_inside))\n",
    "                values_middle[values_middle == None] = 0.\n",
    "                mid_vec_rep[cur_rbp, :] = values_middle.astype(float, copy=False)                \n",
    "\n",
    "\n",
    "            new_data_point = np.concatenate([left_vec_rep, mid_vec_rep, right_vec_rep], axis=1)\n",
    "            if row['strand'] == 'minus':\n",
    "                new_data_point = np.flip(new_data_point, axis=1)\n",
    "            \n",
    "            yield torch.from_numpy(new_data_point.copy()), torch.tensor(float(row['psi'])) \n"
   ]
  },
  {
   "cell_type": "code",
   "execution_count": 120,
   "id": "iraqi-filter",
   "metadata": {},
   "outputs": [],
   "source": [
    "class PreDataset(torch.utils.data.IterableDataset):\n",
    "\n",
    "    def __init__(self, X, y, seed=123):\n",
    "        super(PreDataset, self).__init__()\n",
    "        np.random.seed(seed)\n",
    "        arr = np.arange(len(X))\n",
    "        # np.random.shuffle(arr)\n",
    "        \n",
    "        self.X = X[arr]\n",
    "        self.y = y[arr]\n",
    "\n",
    "    def __iter__(self): \n",
    "        for idx, sample in enumerate(self.X):\n",
    "            yield torch.from_numpy(sample.copy()), torch.tensor(float(self.y[idx])) "
   ]
  },
  {
   "cell_type": "code",
   "execution_count": 121,
   "id": "conservative-chance",
   "metadata": {},
   "outputs": [],
   "source": [
    "train_dataset = BWVecDataset(training_data, remaining_rbps_dict, rbp_dict, const=300, bin_size=30, w_inside=5)\n",
    "train_dataloader = torch.utils.data.DataLoader(train_dataset, batch_size=64, num_workers=8, shuffle=False)\n",
    "\n",
    "validation_dataset = BWVecDataset(validation_data, remaining_rbps_dict, rbp_dict, const=300, bin_size=30, w_inside=5)\n",
    "validation_dataloader = torch.utils.data.DataLoader(validation_dataset, batch_size=64, num_workers=8, shuffle=False)\n",
    "\n",
    "test_dataset = BWVecDataset(test_data, remaining_rbps_dict, rbp_dict, const=300, bin_size=30, w_inside=5)\n",
    "test_dataloader = torch.utils.data.DataLoader(test_dataset, batch_size=8, num_workers=0, shuffle=False)"
   ]
  },
  {
   "cell_type": "code",
   "execution_count": 213,
   "id": "awful-kidney",
   "metadata": {},
   "outputs": [],
   "source": [
    "simp_train_dataset = PreDataset(X_train_sh, y_train_sh)\n",
    "simp_train_dataloader = torch.utils.data.DataLoader(simp_train_dataset, batch_size=64, num_workers=0, shuffle=False)\n",
    "\n",
    "simp_validation_dataset = PreDataset(X_val_sh, y_val_sh)\n",
    "simp_validation_dataloader = torch.utils.data.DataLoader(simp_validation_dataset, batch_size=64, num_workers=0, shuffle=False)\n",
    "\n",
    "simp_test_dataset = PreDataset(X_test, y_test)\n",
    "simp_test_dataloader = torch.utils.data.DataLoader(simp_test_dataset, batch_size=8, num_workers=0, shuffle=False)"
   ]
  },
  {
   "cell_type": "code",
   "execution_count": 214,
   "id": "royal-canvas",
   "metadata": {},
   "outputs": [],
   "source": [
    "def run_one_epoch(train_flag, dataloader, model, optimizer, device=\"cuda\"):\n",
    "\n",
    "    torch.set_grad_enabled(train_flag)\n",
    "    model.train() if train_flag else model.eval() \n",
    "\n",
    "    losses = []\n",
    "    accuracies = []\n",
    "    APs = []\n",
    "\n",
    "    for (x,y) in dataloader: \n",
    "\n",
    "        (x, y) = ( x.to(device).float(), y.to(device).float() )\n",
    "        x = torch.transpose(x, 1,2)\n",
    "        output = model(x)\n",
    "        output = output.squeeze() \n",
    "        # loss = F.binary_cross_entropy_with_logits( output, y )\n",
    "        loss = nn.functional.mse_loss(output, y )\n",
    "        \n",
    "        # loss = F.l1_loss(output, y)\n",
    "\n",
    "        if train_flag: \n",
    "            loss.backward() # back propagation\n",
    "            optimizer.step()\n",
    "            optimizer.zero_grad()\n",
    "\n",
    "        losses.append(loss.detach().cpu().numpy())\n",
    "        accuracy = torch.mean( ( (output > .5) == (y > .5) ).float() )\n",
    "        accuracies.append(accuracy.detach().cpu().numpy())  \n",
    "    \n",
    "        # AP = average_precision_score(y.detach().cpu().numpy(), output.detach().cpu().numpy())\n",
    "        AP=0.0\n",
    "        APs.append(AP)\n",
    "    \n",
    "    return( np.mean(losses), np.mean(accuracies) , np.mean(APs))"
   ]
  },
  {
   "cell_type": "code",
   "execution_count": 326,
   "id": "public-thinking",
   "metadata": {},
   "outputs": [],
   "source": [
    "from sklearn.metrics import average_precision_score\n",
    "\n",
    "def run_one_weighted_epoch(train_flag, dataloader, model, optimizer, device=\"cuda\"):\n",
    "\n",
    "    torch.set_grad_enabled(train_flag)\n",
    "    model.train() if train_flag else model.eval() \n",
    "\n",
    "    losses = []\n",
    "    accuracies = []\n",
    "    APs = []\n",
    "    counter = 0\n",
    "    for (x,y) in dataloader: # collection of tuples with iterator\n",
    "        \n",
    "        \n",
    "        pos_neg_ratio = (y>0.5).float().sum()/(y<0.5).float().sum()\n",
    "        # print(pos_neg_ratio)\n",
    "        weights_vec = torch.ones(y.shape) + (y<0.5) * (pos_neg_ratio-1.)\n",
    "            \n",
    "        (x, y) = ( x.to(device).float(), y.to(device).float() ) # transfer data to GPU\n",
    "        x = torch.transpose(x, 1,2)\n",
    "        weights_vec = weights_vec.to(device)\n",
    "\n",
    "        output = model(x) # forward pass\n",
    "        output = output.squeeze() # remove spurious channel dimension        \n",
    "        \n",
    "        # loss = F.l1_loss(torch.mul(output, weights_vec), torch.mul(y,weights_vec),reduction='mean')\n",
    "        \n",
    "        loss = nn.functional.mse_loss(torch.mul(output, weights_vec),torch.mul(y,weights_vec),reduction='mean')\n",
    "        \n",
    "        if train_flag: \n",
    "            loss.backward() # back propagation\n",
    "            optimizer.step()\n",
    "            optimizer.zero_grad()\n",
    "\n",
    "        losses.append(loss.detach().cpu().numpy())\n",
    "        accuracy = torch.mean( ( (output > .5) == (y > .5) ).float() )\n",
    "        accuracies.append(accuracy.detach().cpu().numpy())  \n",
    "        \n",
    "        # AP = average_precision_score(y.detach().cpu().numpy(), output.detach().cpu().numpy())\n",
    "        AP = 0.0\n",
    "        APs.append(AP)\n",
    "        \n",
    "        # break\n",
    "    \n",
    "    return( np.mean(losses), np.mean(accuracies) , np.mean(APs))"
   ]
  },
  {
   "cell_type": "code",
   "execution_count": 332,
   "id": "every-carry",
   "metadata": {},
   "outputs": [],
   "source": [
    "import timeit\n",
    "\n",
    "def train_skewed_rc_model(model, train_dataloader, validation_dataloader, epochs=100, patience=10, verbose=True, device=\"cuda\"):\n",
    "    \"\"\"\n",
    "    Train a 1D CNN model and record accuracy metrics.\n",
    "    \"\"\"\n",
    "    model.to(device)\n",
    "    \n",
    "    optimizer = torch.optim.Adam(model.parameters(), lr=0.001, weight_decay=1e-5, amsgrad=True)\n",
    "    optimizer = torch.optim.Adam(model.parameters(), lr=0.01)#, weight_decay=1e-4, amsgrad=True)\n",
    "    \n",
    "    scheduler = torch.optim.lr_scheduler.StepLR(optimizer, step_size=15, gamma=0.9)\n",
    "\n",
    "    train_accs = []\n",
    "    val_accs = []\n",
    "    patience_counter = patience\n",
    "    train_loss_all = []\n",
    "    val_loss_all = []\n",
    "    val_aps_all = []\n",
    "    best_val_loss = np.inf\n",
    "    check_point_filename = 'model_checkpoint.pt'\n",
    "    \n",
    "    for epoch in range(epochs):\n",
    "        start_time = timeit.default_timer()\n",
    "        train_loss, train_acc, train_aps = run_one_weighted_epoch(True, train_dataloader, model, optimizer, device)\n",
    "        val_loss, val_acc, val_aps = run_one_epoch(False, validation_dataloader, model, optimizer, device)\n",
    "        # train_loss, train_acc, train_aps = run_one_weighted_epoch(True, train_dataloader, model, optimizer, device)\n",
    "        # val_loss, val_acc, val_aps = run_one_rc_epoch(validation_dataloader, model, optimizer, device)\n",
    "        \n",
    "        scheduler.step()\n",
    "        \n",
    "        train_accs.append(train_acc)\n",
    "        val_accs.append(val_acc)\n",
    "        train_loss_all.append(train_loss)\n",
    "        val_loss_all.append(val_loss)\n",
    "        val_aps_all.append(val_aps)\n",
    "        if val_loss < best_val_loss: \n",
    "            torch.save(model.state_dict(), check_point_filename)\n",
    "            best_val_loss = val_loss\n",
    "            patience_counter = patience\n",
    "        else: \n",
    "            patience_counter -= 1\n",
    "            if patience_counter <= 0: \n",
    "                break\n",
    "        elapsed = float(timeit.default_timer() - start_time)\n",
    "        if verbose:\n",
    "            print(\"Epoch %i took %.2fs. Train loss: %.4f acc: %.4f. Val loss: %.4f acc: %.4f aps: %.4f. Patience left: %i\" % \n",
    "                  (epoch+1, elapsed, train_loss, train_acc, val_loss, val_acc, val_aps, patience_counter ))\n",
    "\n",
    "    model.load_state_dict(torch.load(check_point_filename)) # recover the best model so far\n",
    "\n",
    "    return model, train_accs, val_accs, train_loss_all, val_loss_all, val_aps_all"
   ]
  },
  {
   "cell_type": "code",
   "execution_count": 333,
   "id": "lightweight-slovak",
   "metadata": {},
   "outputs": [],
   "source": [
    "device = torch.device(\"cuda\" if torch.cuda.is_available() else \"cpu\")"
   ]
  },
  {
   "cell_type": "code",
   "execution_count": null,
   "id": "collectible-congress",
   "metadata": {},
   "outputs": [],
   "source": [
    "counter = 0\n",
    "for (x,y) in train_dataloader:\n",
    "    x=torch.transpose(x, 1,2)\n",
    "    x=torch.transpose(x, 0,1).float()\n",
    "    print(x.shape)\n",
    "    print(y)\n",
    "    ln = nn.Linear(36, 10)\n",
    "    mdl = torch.nn.MultiheadAttention(36, 1, dropout=0.0, bias=True, add_bias_kv=False, add_zero_attn=False, kdim=None, vdim=None)\n",
    "    out = mdl(x.float(), x.float(), x.float())\n",
    "    # out = mdl(x.float(), x.float(), torch.transpose(ln(torch.transpose(x, 0,1)), 0, 1).float())\n",
    "    print(out[0].shape)\n",
    "    counter += 1\n",
    "    if counter > 2:\n",
    "        break"
   ]
  },
  {
   "cell_type": "code",
   "execution_count": 306,
   "id": "japanese-biology",
   "metadata": {},
   "outputs": [],
   "source": [
    "class Attention(nn.Module):\n",
    "\n",
    "    def __init__(self, \n",
    "                 feature_dim = 36,\n",
    "                 embed_dim = 10,\n",
    "                 mid_dim = 16,\n",
    "                 dropout = 0.2):\n",
    "        \n",
    "        super(Attention, self).__init__()\n",
    "        \n",
    "        self.feature_dim = feature_dim\n",
    "        self.embed_dim = embed_dim\n",
    "        self.mid_dim = mid_dim\n",
    "        self.drop2d = nn.Dropout2d(dropout)\n",
    "        self.q_linear = nn.Linear(feature_dim, mid_dim)\n",
    "        self.k_linear = nn.Linear(feature_dim, mid_dim)\n",
    "        self.v_linear = nn.Linear(feature_dim, embed_dim)\n",
    "\n",
    "\n",
    "    def forward(self, x):\n",
    "        # print('x: ', x.shape)\n",
    "        q = self.q_linear(x)\n",
    "        # print('q: ', q.shape)\n",
    "        k = self.k_linear(x)\n",
    "        v = self.v_linear(x)\n",
    "        \n",
    "        q = F.elu(q)\n",
    "        k = F.elu(k)\n",
    "        v = F.elu(v)\n",
    "        \n",
    "        # q = self.drop2d(q)\n",
    "        # k = self.drop2d(k)\n",
    "        # v = self.drop2d(v)\n",
    "        \n",
    "        scale = self.mid_dim ** 0.5\n",
    "        # softmax = F.softmax(self.drop2d(q.bmm(k.transpose(1, 2))) / scale, dim=-1)\n",
    "        softmax = F.softmax(q.bmm(k.transpose(1, 2)) / scale, dim=-1)\n",
    "        return softmax.bmm(v)\n"
   ]
  },
  {
   "cell_type": "code",
   "execution_count": 307,
   "id": "expanded-istanbul",
   "metadata": {},
   "outputs": [],
   "source": [
    "class MultiHeadAttention(nn.Module):\n",
    "    def __init__(self, \n",
    "                 num_heads = 8, \n",
    "                 feature_dim = 36, \n",
    "                 embed_dim = 10, \n",
    "                 mid_dim = 16,\n",
    "                 dropout = 0.2,\n",
    "                 mha_out_dim = 1):\n",
    "        \n",
    "        super(MultiHeadAttention, self).__init__()\n",
    "        \n",
    "        self.heads_list = nn.ModuleList(\n",
    "            [Attention(feature_dim=feature_dim, embed_dim=embed_dim, mid_dim=mid_dim, dropout=dropout) for _ in range(num_heads)]\n",
    "        )\n",
    "        self.linear = nn.Linear(num_heads * embed_dim, mha_out_dim)\n",
    "\n",
    "    def forward(self, x):\n",
    "        h = torch.cat([head(x) for head in self.heads_list], dim=-1)\n",
    "        h = self.linear(h)\n",
    "        return h"
   ]
  },
  {
   "cell_type": "code",
   "execution_count": 308,
   "id": "comfortable-knight",
   "metadata": {},
   "outputs": [],
   "source": [
    "class MyModel(nn.Module):\n",
    "    def __init__(self, \n",
    "                 seq_len = 25,\n",
    "                 num_heads = 8, \n",
    "                 feature_dim = 36, \n",
    "                 embed_dim = 10, \n",
    "                 mid_dim = 16,\n",
    "                 dropout = 0.2,\n",
    "                 mha_out_dim = 1,\n",
    "                 hidden = 8):\n",
    "\n",
    "        super(MyModel, self).__init__()\n",
    "    \n",
    "        self.mha = MultiHeadAttention(num_heads = 8, \n",
    "                                     feature_dim = 36, \n",
    "                                     embed_dim = 10, \n",
    "                                     mid_dim = 16,\n",
    "                                     dropout = 0.2,\n",
    "                                     mha_out_dim = 1)\n",
    "    \n",
    "        self.linear = nn.Linear(seq_len, hidden)\n",
    "        self.result = nn.Linear(hidden, 1)\n",
    "        self.drop = nn.Dropout(dropout)\n",
    "    \n",
    "    def forward(self, x):\n",
    "        h = self.mha(x)\n",
    "        h = F.elu(h)\n",
    "        h = self.drop(h)\n",
    "        h = self.linear(torch.transpose(h,-2,-1))\n",
    "        h = F.elu(h)\n",
    "        h = self.drop(h)\n",
    "        h = self.result(h)\n",
    "        h = F.relu(h)\n",
    "        return h.squeeze()"
   ]
  },
  {
   "cell_type": "code",
   "execution_count": 286,
   "id": "labeled-brave",
   "metadata": {},
   "outputs": [
    {
     "name": "stdout",
     "output_type": "stream",
     "text": [
      "torch.Size([64, 25, 36])\n",
      "tensor([0.1280, 0.1609, 0.3565, 0.0474, 0.1220, 0.1112, 0.1045, 0.1402, 0.3023,\n",
      "        0.2225, 0.0668, 0.1347, 0.1218, 0.2205, 0.0645, 0.1069, 0.2757, 0.3031,\n",
      "        0.1484, 0.1423, 0.2569, 0.2349, 0.1150, 0.1915, 0.2637, 0.0844, 0.2233,\n",
      "        0.1972, 0.1561, 0.2245, 0.0903, 0.1264, 0.2659, 0.1614, 0.0796, 0.2486,\n",
      "        0.3074, 0.0900, 0.3066, 0.1769, 0.1172, 0.0931, 0.1462, 0.2460, 0.2350,\n",
      "        0.2038, 0.2744, 0.0334, 0.0840, 0.0756, 0.1448, 0.0700, 0.2138, 0.1816,\n",
      "        0.3453, 0.1041, 0.0898, 0.0919, 0.2372, 0.2750, 0.0561, 0.0899, 0.3414,\n",
      "        0.1328])\n",
      "tensor([-0.1134, -0.1118, -0.0931, -0.1275, -0.1041, -0.0719, -0.1094, -0.0966,\n",
      "        -0.0743, -0.0779, -0.0959, -0.0491, -0.0568, -0.1493, -0.1263, -0.1232,\n",
      "        -0.1344, -0.0433, -0.0580, -0.1352, -0.1556, -0.1323, -0.1158, -0.1178,\n",
      "        -0.0409, -0.0860, -0.1496, -0.1270, -0.1197, -0.0593, -0.1052, -0.1442,\n",
      "        -0.0919, -0.1230, -0.0961, -0.1167, -0.1428, -0.1422, -0.0768, -0.1515,\n",
      "        -0.1058, -0.0717, -0.1482, -0.1157, -0.1099, -0.0408, -0.1382, -0.1255,\n",
      "        -0.1141, -0.1265, -0.1331, -0.1373, -0.1558, -0.0922, -0.0902, -0.0403,\n",
      "        -0.1088, -0.0834, -0.1266, -0.1513, -0.0744, -0.0688, -0.1462, -0.1352])\n",
      "torch.Size([64, 25, 36])\n",
      "tensor([0.1280, 0.1609, 0.3565, 0.0474, 0.1220, 0.1112, 0.1045, 0.1402, 0.3023,\n",
      "        0.2225, 0.0668, 0.1347, 0.1218, 0.2205, 0.0645, 0.1069, 0.2757, 0.3031,\n",
      "        0.1484, 0.1423, 0.2569, 0.2349, 0.1150, 0.1915, 0.2637, 0.0844, 0.2233,\n",
      "        0.1972, 0.1561, 0.2245, 0.0903, 0.1264, 0.2659, 0.1614, 0.0796, 0.2486,\n",
      "        0.3074, 0.0900, 0.3066, 0.1769, 0.1172, 0.0931, 0.1462, 0.2460, 0.2350,\n",
      "        0.2038, 0.2744, 0.0334, 0.0840, 0.0756, 0.1448, 0.0700, 0.2138, 0.1816,\n",
      "        0.3453, 0.1041, 0.0898, 0.0919, 0.2372, 0.2750, 0.0561, 0.0899, 0.3414,\n",
      "        0.1328])\n",
      "tensor([-0.2130, -0.1352, -0.1679, -0.1747, -0.1523, -0.2225, -0.1545, -0.1606,\n",
      "        -1.5697, -0.1628, -0.1656, -0.2383, -0.1232, -0.1464, -0.1433, -0.1896,\n",
      "        -0.1624, -0.1556, -0.1496, -0.1872, -0.1723, -0.2504, -0.1646, -0.2845,\n",
      "        -0.1918, -0.2448, -0.1708, -0.2592, -0.2507, -0.2100, -0.1599, -0.1256,\n",
      "        -0.3040, -0.1680, -0.1652, -0.1702, -0.1591, -0.1768, -0.1790, -0.0782,\n",
      "        -0.2353, -0.2606, -0.1266, -0.1807, -0.2321, -0.1545, -0.1644, -0.2507,\n",
      "        -0.1929, -0.1913, -0.1381, -0.2037, -0.2279, -0.2577, -0.1685, -0.1736,\n",
      "        -0.1296, -0.1746, -0.2038, -0.2107, -0.9069, -0.1945, -0.2052, -0.1854])\n",
      "torch.Size([64, 25, 36])\n",
      "tensor([0.1280, 0.1609, 0.3565, 0.0474, 0.1220, 0.1112, 0.1045, 0.1402, 0.3023,\n",
      "        0.2225, 0.0668, 0.1347, 0.1218, 0.2205, 0.0645, 0.1069, 0.2757, 0.3031,\n",
      "        0.1484, 0.1423, 0.2569, 0.2349, 0.1150, 0.1915, 0.2637, 0.0844, 0.2233,\n",
      "        0.1972, 0.1561, 0.2245, 0.0903, 0.1264, 0.2659, 0.1614, 0.0796, 0.2486,\n",
      "        0.3074, 0.0900, 0.3066, 0.1769, 0.1172, 0.0931, 0.1462, 0.2460, 0.2350,\n",
      "        0.2038, 0.2744, 0.0334, 0.0840, 0.0756, 0.1448, 0.0700, 0.2138, 0.1816,\n",
      "        0.3453, 0.1041, 0.0898, 0.0919, 0.2372, 0.2750, 0.0561, 0.0899, 0.3414,\n",
      "        0.1328])\n",
      "tensor([-0.0746, -0.0743, -0.0605, -0.0743, -0.0677, -0.1153, -0.0747, -0.0775,\n",
      "        -0.0492, -0.0334, -0.0799, -0.0346, -0.0439, -0.1010,  0.0081, -0.0097,\n",
      "        -0.0285, -0.1113, -0.0330, -0.0446, -0.1039, -0.1019, -0.0753, -0.0720,\n",
      "        -0.0915, -0.1002, -0.1056, -0.0650, -0.0791, -0.0733, -0.0761, -0.0940,\n",
      "        -0.0753,  0.0303, -0.0764, -0.0587, -0.0145, -0.0766, -0.0354, -0.0063,\n",
      "        -0.0753, -0.0809, -0.1078, -0.0748, -0.1104, -0.0841, -0.0508, -0.0532,\n",
      "        -0.0853, -0.0804, -0.0552, -0.0150, -0.0298, -0.1086, -0.0896, -0.0196,\n",
      "        -0.0645, -0.0707, -0.0728, -0.0552, -0.0722, -0.0574, -0.1274, -0.0214])\n"
     ]
    }
   ],
   "source": [
    "counter = 0\n",
    "for (x,y) in train_dataloader:\n",
    "    x = torch.transpose(x, 1,2).float()\n",
    "    print(x.shape)\n",
    "    print(y)\n",
    "    mdl = MyModel()\n",
    "    out = mdl(x)\n",
    "    # print(out[0].shape)\n",
    "    print(out)\n",
    "    counter += 1\n",
    "    if counter > 2:\n",
    "        break"
   ]
  },
  {
   "cell_type": "code",
   "execution_count": 334,
   "id": "gentle-gothic",
   "metadata": {},
   "outputs": [
    {
     "name": "stdout",
     "output_type": "stream",
     "text": [
      "Epoch 1 took 0.31s. Train loss: 0.5870 acc: 0.2422. Val loss: 0.2719 acc: 0.2258 aps: 0.0000. Patience left: 400\n",
      "Epoch 2 took 0.29s. Train loss: 0.3917 acc: 0.2109. Val loss: 0.3496 acc: 0.2258 aps: 0.0000. Patience left: 399\n",
      "Epoch 3 took 0.28s. Train loss: 0.3719 acc: 0.2102. Val loss: 0.3165 acc: 0.2258 aps: 0.0000. Patience left: 398\n",
      "Epoch 4 took 0.29s. Train loss: 0.3530 acc: 0.2102. Val loss: 0.3220 acc: 0.2258 aps: 0.0000. Patience left: 397\n",
      "Epoch 5 took 0.29s. Train loss: 0.3509 acc: 0.2102. Val loss: 0.2688 acc: 0.2258 aps: 0.0000. Patience left: 400\n",
      "Epoch 6 took 0.28s. Train loss: 0.3442 acc: 0.2102. Val loss: 0.2735 acc: 0.2258 aps: 0.0000. Patience left: 399\n",
      "Epoch 7 took 0.29s. Train loss: 0.3423 acc: 0.2117. Val loss: 0.2676 acc: 0.2258 aps: 0.0000. Patience left: 400\n",
      "Epoch 8 took 0.29s. Train loss: 0.3318 acc: 0.2117. Val loss: 0.2771 acc: 0.2180 aps: 0.0000. Patience left: 399\n",
      "Epoch 9 took 0.30s. Train loss: 0.3292 acc: 0.2156. Val loss: 0.2482 acc: 0.2258 aps: 0.0000. Patience left: 400\n",
      "Epoch 10 took 0.28s. Train loss: 0.3173 acc: 0.2281. Val loss: 0.2309 acc: 0.2688 aps: 0.0000. Patience left: 400\n",
      "Epoch 11 took 0.28s. Train loss: 0.2872 acc: 0.3164. Val loss: 0.2043 acc: 0.4156 aps: 0.0000. Patience left: 400\n",
      "Epoch 12 took 0.28s. Train loss: 0.2956 acc: 0.3938. Val loss: 0.2625 acc: 0.3656 aps: 0.0000. Patience left: 399\n",
      "Epoch 13 took 0.28s. Train loss: 0.3124 acc: 0.4094. Val loss: 0.2207 acc: 0.3734 aps: 0.0000. Patience left: 398\n",
      "Epoch 14 took 0.28s. Train loss: 0.2758 acc: 0.4531. Val loss: 0.1778 acc: 0.4086 aps: 0.0000. Patience left: 400\n",
      "Epoch 15 took 0.29s. Train loss: 0.2507 acc: 0.4484. Val loss: 0.2004 acc: 0.3969 aps: 0.0000. Patience left: 399\n",
      "Epoch 16 took 0.29s. Train loss: 0.2190 acc: 0.5094. Val loss: 0.1518 acc: 0.5594 aps: 0.0000. Patience left: 400\n",
      "Epoch 17 took 0.29s. Train loss: 0.2135 acc: 0.5453. Val loss: 0.1589 acc: 0.5289 aps: 0.0000. Patience left: 399\n",
      "Epoch 18 took 0.28s. Train loss: 0.1965 acc: 0.5648. Val loss: 0.1552 acc: 0.5906 aps: 0.0000. Patience left: 398\n",
      "Epoch 19 took 0.28s. Train loss: 0.1839 acc: 0.5898. Val loss: 0.1582 acc: 0.4828 aps: 0.0000. Patience left: 397\n",
      "Epoch 20 took 0.28s. Train loss: 0.1849 acc: 0.6273. Val loss: 0.1653 acc: 0.5367 aps: 0.0000. Patience left: 396\n",
      "Epoch 21 took 0.29s. Train loss: 0.1825 acc: 0.6297. Val loss: 0.1453 acc: 0.5906 aps: 0.0000. Patience left: 400\n",
      "Epoch 22 took 0.28s. Train loss: 0.1948 acc: 0.6086. Val loss: 0.1716 acc: 0.4828 aps: 0.0000. Patience left: 399\n",
      "Epoch 23 took 0.28s. Train loss: 0.1865 acc: 0.6453. Val loss: 0.1807 acc: 0.4820 aps: 0.0000. Patience left: 398\n",
      "Epoch 24 took 0.27s. Train loss: 0.1751 acc: 0.6594. Val loss: 0.1592 acc: 0.5242 aps: 0.0000. Patience left: 397\n",
      "Epoch 25 took 0.28s. Train loss: 0.1603 acc: 0.6867. Val loss: 0.1519 acc: 0.5367 aps: 0.0000. Patience left: 396\n",
      "Epoch 26 took 0.27s. Train loss: 0.1614 acc: 0.6875. Val loss: 0.1545 acc: 0.5828 aps: 0.0000. Patience left: 395\n",
      "Epoch 27 took 0.28s. Train loss: 0.1458 acc: 0.6891. Val loss: 0.1421 acc: 0.5875 aps: 0.0000. Patience left: 400\n",
      "Epoch 28 took 0.28s. Train loss: 0.1371 acc: 0.7164. Val loss: 0.1397 acc: 0.6531 aps: 0.0000. Patience left: 400\n",
      "Epoch 29 took 0.27s. Train loss: 0.1343 acc: 0.7430. Val loss: 0.1383 acc: 0.6727 aps: 0.0000. Patience left: 400\n",
      "Epoch 30 took 0.30s. Train loss: 0.1351 acc: 0.7461. Val loss: 0.1444 acc: 0.6687 aps: 0.0000. Patience left: 399\n",
      "Epoch 31 took 0.30s. Train loss: 0.1481 acc: 0.7352. Val loss: 0.1219 acc: 0.6687 aps: 0.0000. Patience left: 400\n",
      "Epoch 32 took 0.28s. Train loss: 0.1493 acc: 0.7344. Val loss: 0.1263 acc: 0.6727 aps: 0.0000. Patience left: 399\n",
      "Epoch 33 took 0.28s. Train loss: 0.1246 acc: 0.7656. Val loss: 0.1114 acc: 0.7305 aps: 0.0000. Patience left: 400\n",
      "Epoch 34 took 0.30s. Train loss: 0.1397 acc: 0.7797. Val loss: 0.1134 acc: 0.6844 aps: 0.0000. Patience left: 399\n",
      "Epoch 35 took 0.29s. Train loss: 0.1353 acc: 0.8117. Val loss: 0.1319 acc: 0.6562 aps: 0.0000. Patience left: 398\n",
      "Epoch 36 took 0.29s. Train loss: 0.2084 acc: 0.6844. Val loss: 0.1488 acc: 0.6336 aps: 0.0000. Patience left: 397\n",
      "Epoch 37 took 0.29s. Train loss: 0.2218 acc: 0.7305. Val loss: 0.1669 acc: 0.5398 aps: 0.0000. Patience left: 396\n",
      "Epoch 38 took 0.29s. Train loss: 0.2100 acc: 0.6961. Val loss: 0.1545 acc: 0.6953 aps: 0.0000. Patience left: 395\n",
      "Epoch 39 took 0.28s. Train loss: 0.2130 acc: 0.7266. Val loss: 0.2254 acc: 0.5133 aps: 0.0000. Patience left: 394\n",
      "Epoch 40 took 0.28s. Train loss: 0.1921 acc: 0.7594. Val loss: 0.1833 acc: 0.5992 aps: 0.0000. Patience left: 393\n",
      "Epoch 41 took 0.28s. Train loss: 0.1795 acc: 0.7242. Val loss: 0.1123 acc: 0.7461 aps: 0.0000. Patience left: 392\n",
      "Epoch 42 took 0.28s. Train loss: 0.1473 acc: 0.7875. Val loss: 0.1024 acc: 0.7422 aps: 0.0000. Patience left: 400\n",
      "Epoch 43 took 0.28s. Train loss: 0.1528 acc: 0.8047. Val loss: 0.1236 acc: 0.7109 aps: 0.0000. Patience left: 399\n",
      "Epoch 44 took 0.28s. Train loss: 0.1475 acc: 0.8070. Val loss: 0.0997 acc: 0.7156 aps: 0.0000. Patience left: 400\n",
      "Epoch 45 took 0.28s. Train loss: 0.1304 acc: 0.8172. Val loss: 0.1020 acc: 0.7234 aps: 0.0000. Patience left: 399\n",
      "Epoch 46 took 0.28s. Train loss: 0.1091 acc: 0.8469. Val loss: 0.0992 acc: 0.7273 aps: 0.0000. Patience left: 400\n",
      "Epoch 47 took 0.29s. Train loss: 0.1217 acc: 0.8328. Val loss: 0.0967 acc: 0.7234 aps: 0.0000. Patience left: 400\n",
      "Epoch 48 took 0.28s. Train loss: 0.1102 acc: 0.8492. Val loss: 0.1034 acc: 0.7195 aps: 0.0000. Patience left: 399\n",
      "Epoch 49 took 0.28s. Train loss: 0.0990 acc: 0.8633. Val loss: 0.1001 acc: 0.7312 aps: 0.0000. Patience left: 398\n",
      "Epoch 50 took 0.28s. Train loss: 0.0894 acc: 0.8805. Val loss: 0.1020 acc: 0.7469 aps: 0.0000. Patience left: 397\n",
      "Epoch 51 took 0.28s. Train loss: 0.0859 acc: 0.8852. Val loss: 0.1024 acc: 0.7273 aps: 0.0000. Patience left: 396\n",
      "Epoch 52 took 0.29s. Train loss: 0.0841 acc: 0.8984. Val loss: 0.1096 acc: 0.6773 aps: 0.0000. Patience left: 395\n",
      "Epoch 53 took 0.28s. Train loss: 0.1078 acc: 0.8852. Val loss: 0.1001 acc: 0.6773 aps: 0.0000. Patience left: 394\n",
      "Epoch 54 took 0.28s. Train loss: 0.1094 acc: 0.8742. Val loss: 0.1148 acc: 0.6812 aps: 0.0000. Patience left: 393\n",
      "Epoch 55 took 0.30s. Train loss: 0.0947 acc: 0.8695. Val loss: 0.0910 acc: 0.7469 aps: 0.0000. Patience left: 400\n",
      "Epoch 56 took 0.28s. Train loss: 0.1091 acc: 0.8703. Val loss: 0.0945 acc: 0.7391 aps: 0.0000. Patience left: 399\n",
      "Epoch 57 took 0.27s. Train loss: 0.0981 acc: 0.8813. Val loss: 0.0962 acc: 0.7312 aps: 0.0000. Patience left: 398\n",
      "Epoch 58 took 0.28s. Train loss: 0.0845 acc: 0.8938. Val loss: 0.0926 acc: 0.7273 aps: 0.0000. Patience left: 397\n",
      "Epoch 59 took 0.28s. Train loss: 0.0774 acc: 0.8984. Val loss: 0.1007 acc: 0.7352 aps: 0.0000. Patience left: 396\n",
      "Epoch 60 took 0.28s. Train loss: 0.0851 acc: 0.9070. Val loss: 0.0919 acc: 0.7039 aps: 0.0000. Patience left: 395\n",
      "Epoch 61 took 0.28s. Train loss: 0.0892 acc: 0.9125. Val loss: 0.0845 acc: 0.7469 aps: 0.0000. Patience left: 400\n",
      "Epoch 62 took 0.28s. Train loss: 0.0833 acc: 0.9039. Val loss: 0.0943 acc: 0.7625 aps: 0.0000. Patience left: 399\n",
      "Epoch 63 took 0.28s. Train loss: 0.0843 acc: 0.9125. Val loss: 0.0994 acc: 0.7008 aps: 0.0000. Patience left: 398\n",
      "Epoch 64 took 0.28s. Train loss: 0.0733 acc: 0.9133. Val loss: 0.0926 acc: 0.7430 aps: 0.0000. Patience left: 397\n",
      "Epoch 65 took 0.27s. Train loss: 0.0739 acc: 0.9156. Val loss: 0.0942 acc: 0.7312 aps: 0.0000. Patience left: 396\n",
      "Epoch 66 took 0.28s. Train loss: 0.0776 acc: 0.9156. Val loss: 0.1002 acc: 0.7391 aps: 0.0000. Patience left: 395\n",
      "Epoch 67 took 0.27s. Train loss: 0.1130 acc: 0.8984. Val loss: 0.1039 acc: 0.7469 aps: 0.0000. Patience left: 394\n",
      "Epoch 68 took 0.27s. Train loss: 0.0711 acc: 0.9133. Val loss: 0.0972 acc: 0.7234 aps: 0.0000. Patience left: 393\n",
      "Epoch 69 took 0.28s. Train loss: 0.0804 acc: 0.9180. Val loss: 0.0898 acc: 0.7430 aps: 0.0000. Patience left: 392\n",
      "Epoch 70 took 0.29s. Train loss: 0.0744 acc: 0.9086. Val loss: 0.1106 acc: 0.7195 aps: 0.0000. Patience left: 391\n",
      "Epoch 71 took 0.28s. Train loss: 0.0768 acc: 0.9125. Val loss: 0.1132 acc: 0.7273 aps: 0.0000. Patience left: 390\n",
      "Epoch 72 took 0.30s. Train loss: 0.0753 acc: 0.9141. Val loss: 0.0962 acc: 0.7273 aps: 0.0000. Patience left: 389\n",
      "Epoch 73 took 0.29s. Train loss: 0.0675 acc: 0.9234. Val loss: 0.0892 acc: 0.7352 aps: 0.0000. Patience left: 388\n",
      "Epoch 74 took 0.28s. Train loss: 0.0650 acc: 0.9289. Val loss: 0.0908 acc: 0.7430 aps: 0.0000. Patience left: 387\n",
      "Epoch 75 took 0.28s. Train loss: 0.0690 acc: 0.9289. Val loss: 0.0929 acc: 0.7352 aps: 0.0000. Patience left: 386\n",
      "Epoch 76 took 0.28s. Train loss: 0.0715 acc: 0.9273. Val loss: 0.0852 acc: 0.7352 aps: 0.0000. Patience left: 385\n",
      "Epoch 77 took 0.29s. Train loss: 0.0673 acc: 0.9273. Val loss: 0.0959 acc: 0.7078 aps: 0.0000. Patience left: 384\n",
      "Epoch 78 took 0.28s. Train loss: 0.0719 acc: 0.9273. Val loss: 0.1111 acc: 0.7273 aps: 0.0000. Patience left: 383\n",
      "Epoch 79 took 0.28s. Train loss: 0.1052 acc: 0.9133. Val loss: 0.0891 acc: 0.7500 aps: 0.0000. Patience left: 382\n",
      "Epoch 80 took 0.29s. Train loss: 0.0901 acc: 0.9141. Val loss: 0.0844 acc: 0.7695 aps: 0.0000. Patience left: 400\n",
      "Epoch 81 took 0.30s. Train loss: 0.0726 acc: 0.9117. Val loss: 0.1048 acc: 0.7352 aps: 0.0000. Patience left: 399\n",
      "Epoch 82 took 0.28s. Train loss: 0.0765 acc: 0.9219. Val loss: 0.0934 acc: 0.7312 aps: 0.0000. Patience left: 398\n",
      "Epoch 83 took 0.28s. Train loss: 0.0602 acc: 0.9344. Val loss: 0.0984 acc: 0.7430 aps: 0.0000. Patience left: 397\n",
      "Epoch 84 took 0.27s. Train loss: 0.0585 acc: 0.9375. Val loss: 0.0937 acc: 0.7391 aps: 0.0000. Patience left: 396\n",
      "Epoch 85 took 0.27s. Train loss: 0.0537 acc: 0.9414. Val loss: 0.0974 acc: 0.7352 aps: 0.0000. Patience left: 395\n",
      "Epoch 86 took 0.28s. Train loss: 0.0513 acc: 0.9422. Val loss: 0.0939 acc: 0.7469 aps: 0.0000. Patience left: 394\n",
      "Epoch 87 took 0.28s. Train loss: 0.0524 acc: 0.9461. Val loss: 0.0964 acc: 0.7391 aps: 0.0000. Patience left: 393\n",
      "Epoch 88 took 0.28s. Train loss: 0.0506 acc: 0.9477. Val loss: 0.0937 acc: 0.7430 aps: 0.0000. Patience left: 392\n",
      "Epoch 89 took 0.27s. Train loss: 0.0551 acc: 0.9477. Val loss: 0.0876 acc: 0.7430 aps: 0.0000. Patience left: 391\n",
      "Epoch 90 took 0.28s. Train loss: 0.0547 acc: 0.9469. Val loss: 0.0904 acc: 0.7469 aps: 0.0000. Patience left: 390\n",
      "Epoch 91 took 0.28s. Train loss: 0.0567 acc: 0.9453. Val loss: 0.0935 acc: 0.7430 aps: 0.0000. Patience left: 389\n",
      "Epoch 92 took 0.28s. Train loss: 0.0562 acc: 0.9492. Val loss: 0.0942 acc: 0.7391 aps: 0.0000. Patience left: 388\n",
      "Epoch 93 took 0.27s. Train loss: 0.0516 acc: 0.9492. Val loss: 0.0952 acc: 0.7430 aps: 0.0000. Patience left: 387\n",
      "Epoch 94 took 0.27s. Train loss: 0.0597 acc: 0.9492. Val loss: 0.1054 acc: 0.7547 aps: 0.0000. Patience left: 386\n",
      "Epoch 95 took 0.27s. Train loss: 0.0844 acc: 0.9445. Val loss: 0.1006 acc: 0.7047 aps: 0.0000. Patience left: 385\n",
      "Epoch 96 took 0.27s. Train loss: 0.0800 acc: 0.9414. Val loss: 0.1024 acc: 0.7391 aps: 0.0000. Patience left: 384\n",
      "Epoch 97 took 0.28s. Train loss: 0.0567 acc: 0.9438. Val loss: 0.0905 acc: 0.7430 aps: 0.0000. Patience left: 383\n",
      "Epoch 98 took 0.28s. Train loss: 0.0544 acc: 0.9469. Val loss: 0.1010 acc: 0.7391 aps: 0.0000. Patience left: 382\n",
      "Epoch 99 took 0.28s. Train loss: 0.0486 acc: 0.9492. Val loss: 0.0992 acc: 0.7508 aps: 0.0000. Patience left: 381\n",
      "Epoch 100 took 0.28s. Train loss: 0.0472 acc: 0.9523. Val loss: 0.0962 acc: 0.7469 aps: 0.0000. Patience left: 380\n",
      "Epoch 101 took 0.28s. Train loss: 0.0452 acc: 0.9555. Val loss: 0.0942 acc: 0.7508 aps: 0.0000. Patience left: 379\n",
      "Epoch 102 took 0.27s. Train loss: 0.0486 acc: 0.9555. Val loss: 0.0902 acc: 0.7430 aps: 0.0000. Patience left: 378\n",
      "Epoch 103 took 0.28s. Train loss: 0.0475 acc: 0.9563. Val loss: 0.0903 acc: 0.7508 aps: 0.0000. Patience left: 377\n",
      "Epoch 104 took 0.30s. Train loss: 0.0709 acc: 0.9500. Val loss: 0.0876 acc: 0.7625 aps: 0.0000. Patience left: 376\n",
      "Epoch 105 took 0.28s. Train loss: 0.0593 acc: 0.9531. Val loss: 0.0941 acc: 0.7469 aps: 0.0000. Patience left: 375\n",
      "Epoch 106 took 0.28s. Train loss: 0.0581 acc: 0.9570. Val loss: 0.0903 acc: 0.7352 aps: 0.0000. Patience left: 374\n",
      "Epoch 107 took 0.28s. Train loss: 0.0709 acc: 0.9508. Val loss: 0.1080 acc: 0.7508 aps: 0.0000. Patience left: 373\n",
      "Epoch 108 took 0.30s. Train loss: 0.0767 acc: 0.9344. Val loss: 0.1161 acc: 0.7430 aps: 0.0000. Patience left: 372\n",
      "Epoch 109 took 0.28s. Train loss: 0.0861 acc: 0.9344. Val loss: 0.0903 acc: 0.7586 aps: 0.0000. Patience left: 371\n",
      "Epoch 110 took 0.28s. Train loss: 0.0625 acc: 0.9352. Val loss: 0.1068 acc: 0.7508 aps: 0.0000. Patience left: 370\n",
      "Epoch 111 took 0.28s. Train loss: 0.0854 acc: 0.9312. Val loss: 0.1037 acc: 0.7273 aps: 0.0000. Patience left: 369\n",
      "Epoch 112 took 0.28s. Train loss: 0.0601 acc: 0.9414. Val loss: 0.1012 acc: 0.7312 aps: 0.0000. Patience left: 368\n",
      "Epoch 113 took 0.28s. Train loss: 0.0544 acc: 0.9461. Val loss: 0.1042 acc: 0.7391 aps: 0.0000. Patience left: 367\n",
      "Epoch 114 took 0.28s. Train loss: 0.0509 acc: 0.9508. Val loss: 0.1031 acc: 0.7664 aps: 0.0000. Patience left: 366\n",
      "Epoch 115 took 0.29s. Train loss: 0.0512 acc: 0.9531. Val loss: 0.0990 acc: 0.7547 aps: 0.0000. Patience left: 365\n",
      "Epoch 116 took 0.27s. Train loss: 0.0523 acc: 0.9547. Val loss: 0.0904 acc: 0.7625 aps: 0.0000. Patience left: 364\n",
      "Epoch 117 took 0.27s. Train loss: 0.0504 acc: 0.9570. Val loss: 0.0917 acc: 0.7508 aps: 0.0000. Patience left: 363\n",
      "Epoch 118 took 0.28s. Train loss: 0.0496 acc: 0.9539. Val loss: 0.0966 acc: 0.7664 aps: 0.0000. Patience left: 362\n",
      "Epoch 119 took 0.27s. Train loss: 0.0564 acc: 0.9570. Val loss: 0.0890 acc: 0.7469 aps: 0.0000. Patience left: 361\n",
      "Epoch 120 took 0.27s. Train loss: 0.0547 acc: 0.9570. Val loss: 0.0979 acc: 0.7664 aps: 0.0000. Patience left: 360\n",
      "Epoch 121 took 0.28s. Train loss: 0.0530 acc: 0.9539. Val loss: 0.0950 acc: 0.7664 aps: 0.0000. Patience left: 359\n",
      "Epoch 122 took 0.27s. Train loss: 0.0486 acc: 0.9586. Val loss: 0.0914 acc: 0.7625 aps: 0.0000. Patience left: 358\n",
      "Epoch 123 took 0.27s. Train loss: 0.0504 acc: 0.9570. Val loss: 0.0895 acc: 0.7664 aps: 0.0000. Patience left: 357\n",
      "Epoch 124 took 0.28s. Train loss: 0.0479 acc: 0.9563. Val loss: 0.0901 acc: 0.7547 aps: 0.0000. Patience left: 356\n",
      "Epoch 125 took 0.28s. Train loss: 0.0501 acc: 0.9586. Val loss: 0.0897 acc: 0.7586 aps: 0.0000. Patience left: 355\n",
      "Epoch 126 took 0.29s. Train loss: 0.0517 acc: 0.9570. Val loss: 0.1026 acc: 0.7625 aps: 0.0000. Patience left: 354\n",
      "Epoch 127 took 0.27s. Train loss: 0.0528 acc: 0.9586. Val loss: 0.0964 acc: 0.7625 aps: 0.0000. Patience left: 353\n",
      "Epoch 128 took 0.28s. Train loss: 0.0510 acc: 0.9594. Val loss: 0.0940 acc: 0.7625 aps: 0.0000. Patience left: 352\n",
      "Epoch 129 took 0.27s. Train loss: 0.0427 acc: 0.9594. Val loss: 0.0908 acc: 0.7703 aps: 0.0000. Patience left: 351\n",
      "Epoch 130 took 0.27s. Train loss: 0.0417 acc: 0.9625. Val loss: 0.0943 acc: 0.7508 aps: 0.0000. Patience left: 350\n",
      "Epoch 131 took 0.28s. Train loss: 0.0464 acc: 0.9625. Val loss: 0.0993 acc: 0.7508 aps: 0.0000. Patience left: 349\n",
      "Epoch 132 took 0.27s. Train loss: 0.0446 acc: 0.9641. Val loss: 0.0994 acc: 0.7586 aps: 0.0000. Patience left: 348\n",
      "Epoch 133 took 0.27s. Train loss: 0.0437 acc: 0.9633. Val loss: 0.0979 acc: 0.7586 aps: 0.0000. Patience left: 347\n",
      "Epoch 134 took 0.28s. Train loss: 0.0465 acc: 0.9633. Val loss: 0.0938 acc: 0.7547 aps: 0.0000. Patience left: 346\n",
      "Epoch 135 took 0.29s. Train loss: 0.0476 acc: 0.9648. Val loss: 0.0861 acc: 0.7508 aps: 0.0000. Patience left: 345\n",
      "Epoch 136 took 0.29s. Train loss: 0.0542 acc: 0.9633. Val loss: 0.0934 acc: 0.7547 aps: 0.0000. Patience left: 344\n",
      "Epoch 137 took 0.28s. Train loss: 0.0585 acc: 0.9578. Val loss: 0.1029 acc: 0.7508 aps: 0.0000. Patience left: 343\n",
      "Epoch 138 took 0.29s. Train loss: 0.0520 acc: 0.9656. Val loss: 0.0964 acc: 0.7547 aps: 0.0000. Patience left: 342\n",
      "Epoch 139 took 0.30s. Train loss: 0.0475 acc: 0.9625. Val loss: 0.1048 acc: 0.7547 aps: 0.0000. Patience left: 341\n",
      "Epoch 140 took 0.27s. Train loss: 0.0466 acc: 0.9617. Val loss: 0.1148 acc: 0.7469 aps: 0.0000. Patience left: 340\n",
      "Epoch 141 took 0.28s. Train loss: 0.0440 acc: 0.9672. Val loss: 0.1002 acc: 0.7508 aps: 0.0000. Patience left: 339\n",
      "Epoch 142 took 0.27s. Train loss: 0.0418 acc: 0.9672. Val loss: 0.0926 acc: 0.7625 aps: 0.0000. Patience left: 338\n",
      "Epoch 143 took 0.27s. Train loss: 0.0411 acc: 0.9641. Val loss: 0.0976 acc: 0.7547 aps: 0.0000. Patience left: 337\n",
      "Epoch 144 took 0.28s. Train loss: 0.0416 acc: 0.9656. Val loss: 0.1016 acc: 0.7586 aps: 0.0000. Patience left: 336\n",
      "Epoch 145 took 0.28s. Train loss: 0.0403 acc: 0.9680. Val loss: 0.1004 acc: 0.7508 aps: 0.0000. Patience left: 335\n",
      "Epoch 146 took 0.28s. Train loss: 0.0391 acc: 0.9680. Val loss: 0.1033 acc: 0.7547 aps: 0.0000. Patience left: 334\n",
      "Epoch 147 took 0.29s. Train loss: 0.0397 acc: 0.9695. Val loss: 0.0997 acc: 0.7508 aps: 0.0000. Patience left: 333\n",
      "Epoch 148 took 0.28s. Train loss: 0.0392 acc: 0.9703. Val loss: 0.0910 acc: 0.7547 aps: 0.0000. Patience left: 332\n",
      "Epoch 149 took 0.28s. Train loss: 0.0418 acc: 0.9703. Val loss: 0.0919 acc: 0.7547 aps: 0.0000. Patience left: 331\n",
      "Epoch 150 took 0.28s. Train loss: 0.0420 acc: 0.9703. Val loss: 0.0990 acc: 0.7508 aps: 0.0000. Patience left: 330\n",
      "Epoch 151 took 0.29s. Train loss: 0.0427 acc: 0.9711. Val loss: 0.1048 acc: 0.7547 aps: 0.0000. Patience left: 329\n",
      "Epoch 152 took 0.28s. Train loss: 0.0456 acc: 0.9695. Val loss: 0.0971 acc: 0.7547 aps: 0.0000. Patience left: 328\n",
      "Epoch 153 took 0.27s. Train loss: 0.0400 acc: 0.9711. Val loss: 0.0946 acc: 0.7625 aps: 0.0000. Patience left: 327\n",
      "Epoch 154 took 0.28s. Train loss: 0.0395 acc: 0.9695. Val loss: 0.0930 acc: 0.7547 aps: 0.0000. Patience left: 326\n",
      "Epoch 155 took 0.29s. Train loss: 0.0396 acc: 0.9711. Val loss: 0.0957 acc: 0.7547 aps: 0.0000. Patience left: 325\n",
      "Epoch 156 took 0.28s. Train loss: 0.0369 acc: 0.9750. Val loss: 0.1028 acc: 0.7547 aps: 0.0000. Patience left: 324\n",
      "Epoch 157 took 0.28s. Train loss: 0.0393 acc: 0.9719. Val loss: 0.0993 acc: 0.7508 aps: 0.0000. Patience left: 323\n",
      "Epoch 158 took 0.29s. Train loss: 0.0389 acc: 0.9727. Val loss: 0.0955 acc: 0.7586 aps: 0.0000. Patience left: 322\n",
      "Epoch 159 took 0.28s. Train loss: 0.0414 acc: 0.9727. Val loss: 0.0919 acc: 0.7547 aps: 0.0000. Patience left: 321\n",
      "Epoch 160 took 0.27s. Train loss: 0.0430 acc: 0.9719. Val loss: 0.0969 acc: 0.7547 aps: 0.0000. Patience left: 320\n",
      "Epoch 161 took 0.28s. Train loss: 0.0414 acc: 0.9727. Val loss: 0.1018 acc: 0.7547 aps: 0.0000. Patience left: 319\n",
      "Epoch 162 took 0.28s. Train loss: 0.0400 acc: 0.9742. Val loss: 0.1032 acc: 0.7586 aps: 0.0000. Patience left: 318\n",
      "Epoch 163 took 0.29s. Train loss: 0.0410 acc: 0.9727. Val loss: 0.0991 acc: 0.7586 aps: 0.0000. Patience left: 317\n",
      "Epoch 164 took 0.30s. Train loss: 0.0395 acc: 0.9719. Val loss: 0.0946 acc: 0.7547 aps: 0.0000. Patience left: 316\n",
      "Epoch 165 took 0.28s. Train loss: 0.0409 acc: 0.9734. Val loss: 0.0888 acc: 0.7547 aps: 0.0000. Patience left: 315\n",
      "Epoch 166 took 0.27s. Train loss: 0.0406 acc: 0.9734. Val loss: 0.0921 acc: 0.7547 aps: 0.0000. Patience left: 314\n",
      "Epoch 167 took 0.27s. Train loss: 0.0379 acc: 0.9734. Val loss: 0.1012 acc: 0.7508 aps: 0.0000. Patience left: 313\n",
      "Epoch 168 took 0.28s. Train loss: 0.0388 acc: 0.9750. Val loss: 0.1035 acc: 0.7547 aps: 0.0000. Patience left: 312\n",
      "Epoch 169 took 0.28s. Train loss: 0.0400 acc: 0.9742. Val loss: 0.0951 acc: 0.7547 aps: 0.0000. Patience left: 311\n",
      "Epoch 170 took 0.28s. Train loss: 0.0360 acc: 0.9742. Val loss: 0.0932 acc: 0.7586 aps: 0.0000. Patience left: 310\n",
      "Epoch 171 took 0.27s. Train loss: 0.0368 acc: 0.9758. Val loss: 0.0965 acc: 0.7586 aps: 0.0000. Patience left: 309\n",
      "Epoch 172 took 0.29s. Train loss: 0.0360 acc: 0.9773. Val loss: 0.1016 acc: 0.7508 aps: 0.0000. Patience left: 308\n",
      "Epoch 173 took 0.28s. Train loss: 0.0361 acc: 0.9758. Val loss: 0.1000 acc: 0.7469 aps: 0.0000. Patience left: 307\n",
      "Epoch 174 took 0.28s. Train loss: 0.0374 acc: 0.9766. Val loss: 0.0940 acc: 0.7547 aps: 0.0000. Patience left: 306\n",
      "Epoch 175 took 0.28s. Train loss: 0.0361 acc: 0.9758. Val loss: 0.0965 acc: 0.7586 aps: 0.0000. Patience left: 305\n",
      "Epoch 176 took 0.28s. Train loss: 0.0360 acc: 0.9758. Val loss: 0.0960 acc: 0.7508 aps: 0.0000. Patience left: 304\n",
      "Epoch 177 took 0.28s. Train loss: 0.0353 acc: 0.9750. Val loss: 0.1003 acc: 0.7508 aps: 0.0000. Patience left: 303\n",
      "Epoch 178 took 0.28s. Train loss: 0.0348 acc: 0.9781. Val loss: 0.1024 acc: 0.7469 aps: 0.0000. Patience left: 302\n",
      "Epoch 179 took 0.27s. Train loss: 0.0362 acc: 0.9773. Val loss: 0.0961 acc: 0.7547 aps: 0.0000. Patience left: 301\n",
      "Epoch 180 took 0.28s. Train loss: 0.0540 acc: 0.9750. Val loss: 0.0937 acc: 0.7508 aps: 0.0000. Patience left: 300\n",
      "Epoch 181 took 0.28s. Train loss: 0.0411 acc: 0.9750. Val loss: 0.0922 acc: 0.7586 aps: 0.0000. Patience left: 299\n",
      "Epoch 182 took 0.28s. Train loss: 0.0386 acc: 0.9734. Val loss: 0.1125 acc: 0.7086 aps: 0.0000. Patience left: 298\n",
      "Epoch 183 took 0.28s. Train loss: 0.0392 acc: 0.9734. Val loss: 0.1389 acc: 0.7047 aps: 0.0000. Patience left: 297\n",
      "Epoch 184 took 0.28s. Train loss: 0.0382 acc: 0.9719. Val loss: 0.1273 acc: 0.7047 aps: 0.0000. Patience left: 296\n",
      "Epoch 185 took 0.28s. Train loss: 0.0390 acc: 0.9750. Val loss: 0.1128 acc: 0.7086 aps: 0.0000. Patience left: 295\n",
      "Epoch 186 took 0.28s. Train loss: 0.0382 acc: 0.9742. Val loss: 0.1004 acc: 0.7508 aps: 0.0000. Patience left: 294\n",
      "Epoch 187 took 0.28s. Train loss: 0.0370 acc: 0.9758. Val loss: 0.0970 acc: 0.7586 aps: 0.0000. Patience left: 293\n",
      "Epoch 188 took 0.27s. Train loss: 0.0354 acc: 0.9758. Val loss: 0.0999 acc: 0.7547 aps: 0.0000. Patience left: 292\n",
      "Epoch 189 took 0.27s. Train loss: 0.0344 acc: 0.9750. Val loss: 0.1102 acc: 0.7469 aps: 0.0000. Patience left: 291\n",
      "Epoch 190 took 0.27s. Train loss: 0.0349 acc: 0.9766. Val loss: 0.1085 acc: 0.7508 aps: 0.0000. Patience left: 290\n",
      "Epoch 191 took 0.29s. Train loss: 0.0355 acc: 0.9766. Val loss: 0.1014 acc: 0.7469 aps: 0.0000. Patience left: 289\n",
      "Epoch 192 took 0.28s. Train loss: 0.0346 acc: 0.9766. Val loss: 0.0990 acc: 0.7547 aps: 0.0000. Patience left: 288\n",
      "Epoch 193 took 0.28s. Train loss: 0.0373 acc: 0.9758. Val loss: 0.1010 acc: 0.7547 aps: 0.0000. Patience left: 287\n",
      "Epoch 194 took 0.28s. Train loss: 0.0396 acc: 0.9750. Val loss: 0.1061 acc: 0.7125 aps: 0.0000. Patience left: 286\n",
      "Epoch 195 took 0.27s. Train loss: 0.0364 acc: 0.9766. Val loss: 0.1130 acc: 0.6930 aps: 0.0000. Patience left: 285\n",
      "Epoch 196 took 0.28s. Train loss: 0.0428 acc: 0.9773. Val loss: 0.1076 acc: 0.7547 aps: 0.0000. Patience left: 284\n",
      "Epoch 197 took 0.28s. Train loss: 0.0397 acc: 0.9781. Val loss: 0.1000 acc: 0.7547 aps: 0.0000. Patience left: 283\n",
      "Epoch 198 took 0.28s. Train loss: 0.0375 acc: 0.9750. Val loss: 0.1060 acc: 0.7086 aps: 0.0000. Patience left: 282\n",
      "Epoch 199 took 0.27s. Train loss: 0.0350 acc: 0.9773. Val loss: 0.1103 acc: 0.7086 aps: 0.0000. Patience left: 281\n",
      "Epoch 200 took 0.29s. Train loss: 0.0339 acc: 0.9773. Val loss: 0.1075 acc: 0.7586 aps: 0.0000. Patience left: 280\n",
      "Epoch 201 took 0.29s. Train loss: 0.0336 acc: 0.9773. Val loss: 0.1020 acc: 0.7547 aps: 0.0000. Patience left: 279\n",
      "Epoch 202 took 0.29s. Train loss: 0.0325 acc: 0.9797. Val loss: 0.1029 acc: 0.7586 aps: 0.0000. Patience left: 278\n",
      "Epoch 203 took 0.28s. Train loss: 0.0338 acc: 0.9781. Val loss: 0.1070 acc: 0.7625 aps: 0.0000. Patience left: 277\n",
      "Epoch 204 took 0.27s. Train loss: 0.0320 acc: 0.9773. Val loss: 0.1117 acc: 0.7547 aps: 0.0000. Patience left: 276\n",
      "Epoch 205 took 0.29s. Train loss: 0.0328 acc: 0.9797. Val loss: 0.1079 acc: 0.7547 aps: 0.0000. Patience left: 275\n",
      "Epoch 206 took 0.28s. Train loss: 0.0324 acc: 0.9789. Val loss: 0.0991 acc: 0.7547 aps: 0.0000. Patience left: 274\n",
      "Epoch 207 took 0.27s. Train loss: 0.0325 acc: 0.9781. Val loss: 0.1049 acc: 0.7586 aps: 0.0000. Patience left: 273\n",
      "Epoch 208 took 0.30s. Train loss: 0.0342 acc: 0.9773. Val loss: 0.1116 acc: 0.7125 aps: 0.0000. Patience left: 272\n",
      "Epoch 209 took 0.27s. Train loss: 0.0324 acc: 0.9789. Val loss: 0.1116 acc: 0.7047 aps: 0.0000. Patience left: 271\n",
      "Epoch 210 took 0.28s. Train loss: 0.0322 acc: 0.9797. Val loss: 0.1098 acc: 0.7547 aps: 0.0000. Patience left: 270\n",
      "Epoch 211 took 0.27s. Train loss: 0.0331 acc: 0.9805. Val loss: 0.1023 acc: 0.7547 aps: 0.0000. Patience left: 269\n",
      "Epoch 212 took 0.30s. Train loss: 0.0324 acc: 0.9773. Val loss: 0.1040 acc: 0.7586 aps: 0.0000. Patience left: 268\n",
      "Epoch 213 took 0.27s. Train loss: 0.0328 acc: 0.9797. Val loss: 0.1129 acc: 0.7086 aps: 0.0000. Patience left: 267\n",
      "Epoch 214 took 0.28s. Train loss: 0.0312 acc: 0.9820. Val loss: 0.1098 acc: 0.7547 aps: 0.0000. Patience left: 266\n",
      "Epoch 215 took 0.27s. Train loss: 0.0317 acc: 0.9797. Val loss: 0.1041 acc: 0.7547 aps: 0.0000. Patience left: 265\n",
      "Epoch 216 took 0.29s. Train loss: 0.0315 acc: 0.9812. Val loss: 0.1065 acc: 0.7625 aps: 0.0000. Patience left: 264\n",
      "Epoch 217 took 0.29s. Train loss: 0.0323 acc: 0.9797. Val loss: 0.1062 acc: 0.7586 aps: 0.0000. Patience left: 263\n",
      "Epoch 218 took 0.28s. Train loss: 0.0324 acc: 0.9805. Val loss: 0.1127 acc: 0.7047 aps: 0.0000. Patience left: 262\n",
      "Epoch 219 took 0.28s. Train loss: 0.0323 acc: 0.9812. Val loss: 0.1103 acc: 0.7586 aps: 0.0000. Patience left: 261\n",
      "Epoch 220 took 0.27s. Train loss: 0.0334 acc: 0.9797. Val loss: 0.1015 acc: 0.7586 aps: 0.0000. Patience left: 260\n",
      "Epoch 221 took 0.27s. Train loss: 0.0338 acc: 0.9812. Val loss: 0.1044 acc: 0.7586 aps: 0.0000. Patience left: 259\n",
      "Epoch 222 took 0.28s. Train loss: 0.0342 acc: 0.9820. Val loss: 0.1091 acc: 0.7625 aps: 0.0000. Patience left: 258\n",
      "Epoch 223 took 0.30s. Train loss: 0.0335 acc: 0.9805. Val loss: 0.1100 acc: 0.7047 aps: 0.0000. Patience left: 257\n",
      "Epoch 224 took 0.28s. Train loss: 0.0323 acc: 0.9797. Val loss: 0.1132 acc: 0.7047 aps: 0.0000. Patience left: 256\n",
      "Epoch 225 took 0.30s. Train loss: 0.0360 acc: 0.9820. Val loss: 0.1086 acc: 0.7547 aps: 0.0000. Patience left: 255\n",
      "Epoch 226 took 0.29s. Train loss: 0.0344 acc: 0.9781. Val loss: 0.1007 acc: 0.7586 aps: 0.0000. Patience left: 254\n",
      "Epoch 227 took 0.28s. Train loss: 0.0343 acc: 0.9812. Val loss: 0.1072 acc: 0.7086 aps: 0.0000. Patience left: 253\n",
      "Epoch 228 took 0.28s. Train loss: 0.0325 acc: 0.9820. Val loss: 0.1092 acc: 0.7586 aps: 0.0000. Patience left: 252\n",
      "Epoch 229 took 0.27s. Train loss: 0.0310 acc: 0.9812. Val loss: 0.1093 acc: 0.7547 aps: 0.0000. Patience left: 251\n",
      "Epoch 230 took 0.29s. Train loss: 0.0325 acc: 0.9820. Val loss: 0.1075 acc: 0.7547 aps: 0.0000. Patience left: 250\n",
      "Epoch 231 took 0.28s. Train loss: 0.0305 acc: 0.9828. Val loss: 0.1027 acc: 0.7586 aps: 0.0000. Patience left: 249\n",
      "Epoch 232 took 0.28s. Train loss: 0.0316 acc: 0.9812. Val loss: 0.1068 acc: 0.7586 aps: 0.0000. Patience left: 248\n",
      "Epoch 233 took 0.29s. Train loss: 0.0303 acc: 0.9820. Val loss: 0.1106 acc: 0.7586 aps: 0.0000. Patience left: 247\n",
      "Epoch 234 took 0.29s. Train loss: 0.0311 acc: 0.9828. Val loss: 0.1078 acc: 0.7547 aps: 0.0000. Patience left: 246\n",
      "Epoch 235 took 0.27s. Train loss: 0.0305 acc: 0.9812. Val loss: 0.1020 acc: 0.7586 aps: 0.0000. Patience left: 245\n",
      "Epoch 236 took 0.28s. Train loss: 0.0316 acc: 0.9820. Val loss: 0.1077 acc: 0.7586 aps: 0.0000. Patience left: 244\n",
      "Epoch 237 took 0.28s. Train loss: 0.0321 acc: 0.9836. Val loss: 0.1089 acc: 0.7586 aps: 0.0000. Patience left: 243\n",
      "Epoch 238 took 0.28s. Train loss: 0.0306 acc: 0.9828. Val loss: 0.1104 acc: 0.7547 aps: 0.0000. Patience left: 242\n",
      "Epoch 239 took 0.29s. Train loss: 0.0322 acc: 0.9828. Val loss: 0.1084 acc: 0.7586 aps: 0.0000. Patience left: 241\n",
      "Epoch 240 took 0.27s. Train loss: 0.0301 acc: 0.9836. Val loss: 0.1035 acc: 0.7586 aps: 0.0000. Patience left: 240\n",
      "Epoch 241 took 0.28s. Train loss: 0.0313 acc: 0.9828. Val loss: 0.1080 acc: 0.7586 aps: 0.0000. Patience left: 239\n",
      "Epoch 242 took 0.30s. Train loss: 0.0303 acc: 0.9836. Val loss: 0.1117 acc: 0.7547 aps: 0.0000. Patience left: 238\n",
      "Epoch 243 took 0.28s. Train loss: 0.0302 acc: 0.9836. Val loss: 0.1074 acc: 0.7547 aps: 0.0000. Patience left: 237\n",
      "Epoch 244 took 0.28s. Train loss: 0.0294 acc: 0.9836. Val loss: 0.1041 acc: 0.7586 aps: 0.0000. Patience left: 236\n",
      "Epoch 245 took 0.30s. Train loss: 0.0297 acc: 0.9836. Val loss: 0.1082 acc: 0.7586 aps: 0.0000. Patience left: 235\n",
      "Epoch 246 took 0.29s. Train loss: 0.0293 acc: 0.9836. Val loss: 0.1111 acc: 0.7586 aps: 0.0000. Patience left: 234\n",
      "Epoch 247 took 0.27s. Train loss: 0.0290 acc: 0.9836. Val loss: 0.1077 acc: 0.7547 aps: 0.0000. Patience left: 233\n",
      "Epoch 248 took 0.27s. Train loss: 0.0291 acc: 0.9836. Val loss: 0.1058 acc: 0.7586 aps: 0.0000. Patience left: 232\n",
      "Epoch 249 took 0.30s. Train loss: 0.0289 acc: 0.9836. Val loss: 0.1079 acc: 0.7586 aps: 0.0000. Patience left: 231\n",
      "Epoch 250 took 0.27s. Train loss: 0.0295 acc: 0.9836. Val loss: 0.1108 acc: 0.7625 aps: 0.0000. Patience left: 230\n",
      "Epoch 251 took 0.28s. Train loss: 0.0291 acc: 0.9836. Val loss: 0.1105 acc: 0.7547 aps: 0.0000. Patience left: 229\n",
      "Epoch 252 took 0.28s. Train loss: 0.0300 acc: 0.9836. Val loss: 0.1055 acc: 0.7586 aps: 0.0000. Patience left: 228\n",
      "Epoch 253 took 0.28s. Train loss: 0.0301 acc: 0.9828. Val loss: 0.1045 acc: 0.7586 aps: 0.0000. Patience left: 227\n",
      "Epoch 254 took 0.28s. Train loss: 0.0320 acc: 0.9828. Val loss: 0.1101 acc: 0.7625 aps: 0.0000. Patience left: 226\n",
      "Epoch 255 took 0.27s. Train loss: 0.0307 acc: 0.9836. Val loss: 0.1111 acc: 0.7547 aps: 0.0000. Patience left: 225\n",
      "Epoch 256 took 0.28s. Train loss: 0.0318 acc: 0.9836. Val loss: 0.1046 acc: 0.7547 aps: 0.0000. Patience left: 224\n",
      "Epoch 257 took 0.28s. Train loss: 0.0305 acc: 0.9828. Val loss: 0.1030 acc: 0.7625 aps: 0.0000. Patience left: 223\n",
      "Epoch 258 took 0.28s. Train loss: 0.0314 acc: 0.9836. Val loss: 0.1116 acc: 0.7586 aps: 0.0000. Patience left: 222\n",
      "Epoch 259 took 0.28s. Train loss: 0.0301 acc: 0.9836. Val loss: 0.1088 acc: 0.7625 aps: 0.0000. Patience left: 221\n",
      "Epoch 260 took 0.27s. Train loss: 0.0291 acc: 0.9836. Val loss: 0.1073 acc: 0.7625 aps: 0.0000. Patience left: 220\n",
      "Epoch 261 took 0.28s. Train loss: 0.0291 acc: 0.9836. Val loss: 0.1058 acc: 0.7586 aps: 0.0000. Patience left: 219\n",
      "Epoch 262 took 0.28s. Train loss: 0.0289 acc: 0.9828. Val loss: 0.1099 acc: 0.7586 aps: 0.0000. Patience left: 218\n",
      "Epoch 263 took 0.28s. Train loss: 0.0290 acc: 0.9836. Val loss: 0.1085 acc: 0.7625 aps: 0.0000. Patience left: 217\n",
      "Epoch 264 took 0.31s. Train loss: 0.0289 acc: 0.9836. Val loss: 0.1094 acc: 0.7547 aps: 0.0000. Patience left: 216\n",
      "Epoch 265 took 0.28s. Train loss: 0.0288 acc: 0.9836. Val loss: 0.1072 acc: 0.7586 aps: 0.0000. Patience left: 215\n",
      "Epoch 266 took 0.29s. Train loss: 0.0286 acc: 0.9836. Val loss: 0.1067 acc: 0.7625 aps: 0.0000. Patience left: 214\n",
      "Epoch 267 took 0.28s. Train loss: 0.0296 acc: 0.9836. Val loss: 0.1091 acc: 0.7625 aps: 0.0000. Patience left: 213\n",
      "Epoch 268 took 0.27s. Train loss: 0.0294 acc: 0.9836. Val loss: 0.1139 acc: 0.7086 aps: 0.0000. Patience left: 212\n",
      "Epoch 269 took 0.28s. Train loss: 0.0310 acc: 0.9836. Val loss: 0.1058 acc: 0.7586 aps: 0.0000. Patience left: 211\n",
      "Epoch 270 took 0.28s. Train loss: 0.0310 acc: 0.9828. Val loss: 0.1067 acc: 0.7547 aps: 0.0000. Patience left: 210\n",
      "Epoch 271 took 0.28s. Train loss: 0.0306 acc: 0.9836. Val loss: 0.1056 acc: 0.7625 aps: 0.0000. Patience left: 209\n",
      "Epoch 272 took 0.27s. Train loss: 0.0301 acc: 0.9836. Val loss: 0.1067 acc: 0.7586 aps: 0.0000. Patience left: 208\n",
      "Epoch 273 took 0.31s. Train loss: 0.0284 acc: 0.9836. Val loss: 0.1099 acc: 0.7586 aps: 0.0000. Patience left: 207\n",
      "Epoch 274 took 0.28s. Train loss: 0.0288 acc: 0.9836. Val loss: 0.1062 acc: 0.7586 aps: 0.0000. Patience left: 206\n",
      "Epoch 275 took 0.28s. Train loss: 0.0285 acc: 0.9836. Val loss: 0.1048 acc: 0.7586 aps: 0.0000. Patience left: 205\n",
      "Epoch 276 took 0.29s. Train loss: 0.0289 acc: 0.9836. Val loss: 0.1091 acc: 0.7625 aps: 0.0000. Patience left: 204\n",
      "Epoch 277 took 0.28s. Train loss: 0.0285 acc: 0.9836. Val loss: 0.1097 acc: 0.7586 aps: 0.0000. Patience left: 203\n",
      "Epoch 278 took 0.28s. Train loss: 0.0287 acc: 0.9836. Val loss: 0.1083 acc: 0.7586 aps: 0.0000. Patience left: 202\n",
      "Epoch 279 took 0.28s. Train loss: 0.0285 acc: 0.9836. Val loss: 0.1037 acc: 0.7625 aps: 0.0000. Patience left: 201\n",
      "Epoch 280 took 0.28s. Train loss: 0.0290 acc: 0.9836. Val loss: 0.1078 acc: 0.7625 aps: 0.0000. Patience left: 200\n",
      "Epoch 281 took 0.29s. Train loss: 0.0291 acc: 0.9836. Val loss: 0.1104 acc: 0.7586 aps: 0.0000. Patience left: 199\n",
      "Epoch 282 took 0.29s. Train loss: 0.0293 acc: 0.9836. Val loss: 0.1101 acc: 0.7586 aps: 0.0000. Patience left: 198\n",
      "Epoch 283 took 0.28s. Train loss: 0.0299 acc: 0.9836. Val loss: 0.1024 acc: 0.7547 aps: 0.0000. Patience left: 197\n",
      "Epoch 284 took 0.28s. Train loss: 0.0293 acc: 0.9836. Val loss: 0.1060 acc: 0.7625 aps: 0.0000. Patience left: 196\n",
      "Epoch 285 took 0.28s. Train loss: 0.0311 acc: 0.9836. Val loss: 0.1092 acc: 0.7625 aps: 0.0000. Patience left: 195\n",
      "Epoch 286 took 0.28s. Train loss: 0.0290 acc: 0.9836. Val loss: 0.1100 acc: 0.7586 aps: 0.0000. Patience left: 194\n",
      "Epoch 287 took 0.28s. Train loss: 0.0296 acc: 0.9836. Val loss: 0.1047 acc: 0.7586 aps: 0.0000. Patience left: 193\n",
      "Epoch 288 took 0.27s. Train loss: 0.0278 acc: 0.9836. Val loss: 0.1070 acc: 0.7625 aps: 0.0000. Patience left: 192\n",
      "Epoch 289 took 0.28s. Train loss: 0.0276 acc: 0.9836. Val loss: 0.1095 acc: 0.7625 aps: 0.0000. Patience left: 191\n",
      "Epoch 290 took 0.29s. Train loss: 0.0271 acc: 0.9836. Val loss: 0.1107 acc: 0.7625 aps: 0.0000. Patience left: 190\n",
      "Epoch 291 took 0.28s. Train loss: 0.0275 acc: 0.9836. Val loss: 0.1073 acc: 0.7586 aps: 0.0000. Patience left: 189\n",
      "Epoch 292 took 0.28s. Train loss: 0.0278 acc: 0.9844. Val loss: 0.1077 acc: 0.7625 aps: 0.0000. Patience left: 188\n",
      "Epoch 293 took 0.29s. Train loss: 0.0291 acc: 0.9828. Val loss: 0.1132 acc: 0.7125 aps: 0.0000. Patience left: 187\n",
      "Epoch 294 took 0.29s. Train loss: 0.0286 acc: 0.9836. Val loss: 0.1149 acc: 0.7086 aps: 0.0000. Patience left: 186\n",
      "Epoch 295 took 0.28s. Train loss: 0.0290 acc: 0.9844. Val loss: 0.1108 acc: 0.7586 aps: 0.0000. Patience left: 185\n",
      "Epoch 296 took 0.28s. Train loss: 0.0281 acc: 0.9844. Val loss: 0.1108 acc: 0.7125 aps: 0.0000. Patience left: 184\n",
      "Epoch 297 took 0.28s. Train loss: 0.0278 acc: 0.9836. Val loss: 0.1083 acc: 0.7586 aps: 0.0000. Patience left: 183\n",
      "Epoch 298 took 0.28s. Train loss: 0.0276 acc: 0.9844. Val loss: 0.1137 acc: 0.7086 aps: 0.0000. Patience left: 182\n",
      "Epoch 299 took 0.29s. Train loss: 0.0276 acc: 0.9844. Val loss: 0.1137 acc: 0.7125 aps: 0.0000. Patience left: 181\n",
      "Epoch 300 took 0.28s. Train loss: 0.0290 acc: 0.9836. Val loss: 0.1074 acc: 0.7586 aps: 0.0000. Patience left: 180\n",
      "Epoch 301 took 0.27s. Train loss: 0.0300 acc: 0.9828. Val loss: 0.1049 acc: 0.7586 aps: 0.0000. Patience left: 179\n",
      "Epoch 302 took 0.28s. Train loss: 0.0309 acc: 0.9828. Val loss: 0.1092 acc: 0.7625 aps: 0.0000. Patience left: 178\n",
      "Epoch 303 took 0.29s. Train loss: 0.0294 acc: 0.9836. Val loss: 0.1117 acc: 0.7586 aps: 0.0000. Patience left: 177\n",
      "Epoch 304 took 0.28s. Train loss: 0.0283 acc: 0.9844. Val loss: 0.1109 acc: 0.7586 aps: 0.0000. Patience left: 176\n",
      "Epoch 305 took 0.28s. Train loss: 0.0274 acc: 0.9844. Val loss: 0.1070 acc: 0.7625 aps: 0.0000. Patience left: 175\n",
      "Epoch 306 took 0.28s. Train loss: 0.0280 acc: 0.9836. Val loss: 0.1101 acc: 0.7625 aps: 0.0000. Patience left: 174\n",
      "Epoch 307 took 0.28s. Train loss: 0.0268 acc: 0.9828. Val loss: 0.1111 acc: 0.7586 aps: 0.0000. Patience left: 173\n",
      "Epoch 308 took 0.29s. Train loss: 0.0268 acc: 0.9844. Val loss: 0.1103 acc: 0.7586 aps: 0.0000. Patience left: 172\n",
      "Epoch 309 took 0.28s. Train loss: 0.0267 acc: 0.9844. Val loss: 0.1085 acc: 0.7586 aps: 0.0000. Patience left: 171\n",
      "Epoch 310 took 0.29s. Train loss: 0.0292 acc: 0.9844. Val loss: 0.1126 acc: 0.7125 aps: 0.0000. Patience left: 170\n",
      "Epoch 311 took 0.28s. Train loss: 0.0288 acc: 0.9844. Val loss: 0.1121 acc: 0.7586 aps: 0.0000. Patience left: 169\n",
      "Epoch 312 took 0.27s. Train loss: 0.0279 acc: 0.9844. Val loss: 0.1107 acc: 0.7586 aps: 0.0000. Patience left: 168\n",
      "Epoch 313 took 0.28s. Train loss: 0.0271 acc: 0.9836. Val loss: 0.1112 acc: 0.7125 aps: 0.0000. Patience left: 167\n",
      "Epoch 314 took 0.28s. Train loss: 0.0269 acc: 0.9844. Val loss: 0.1092 acc: 0.7625 aps: 0.0000. Patience left: 166\n",
      "Epoch 315 took 0.28s. Train loss: 0.0267 acc: 0.9844. Val loss: 0.1122 acc: 0.7086 aps: 0.0000. Patience left: 165\n",
      "Epoch 316 took 0.28s. Train loss: 0.0266 acc: 0.9844. Val loss: 0.1123 acc: 0.7625 aps: 0.0000. Patience left: 164\n",
      "Epoch 317 took 0.27s. Train loss: 0.0265 acc: 0.9844. Val loss: 0.1099 acc: 0.7625 aps: 0.0000. Patience left: 163\n",
      "Epoch 318 took 0.28s. Train loss: 0.0263 acc: 0.9844. Val loss: 0.1092 acc: 0.7625 aps: 0.0000. Patience left: 162\n",
      "Epoch 319 took 0.28s. Train loss: 0.0263 acc: 0.9844. Val loss: 0.1131 acc: 0.7125 aps: 0.0000. Patience left: 161\n",
      "Epoch 320 took 0.28s. Train loss: 0.0262 acc: 0.9844. Val loss: 0.1134 acc: 0.7625 aps: 0.0000. Patience left: 160\n",
      "Epoch 321 took 0.28s. Train loss: 0.0264 acc: 0.9844. Val loss: 0.1107 acc: 0.7586 aps: 0.0000. Patience left: 159\n",
      "Epoch 322 took 0.28s. Train loss: 0.0267 acc: 0.9844. Val loss: 0.1091 acc: 0.7625 aps: 0.0000. Patience left: 158\n",
      "Epoch 323 took 0.29s. Train loss: 0.0271 acc: 0.9844. Val loss: 0.1119 acc: 0.7125 aps: 0.0000. Patience left: 157\n",
      "Epoch 324 took 0.28s. Train loss: 0.0269 acc: 0.9844. Val loss: 0.1144 acc: 0.7086 aps: 0.0000. Patience left: 156\n",
      "Epoch 325 took 0.27s. Train loss: 0.0276 acc: 0.9844. Val loss: 0.1125 acc: 0.7586 aps: 0.0000. Patience left: 155\n",
      "Epoch 326 took 0.29s. Train loss: 0.0273 acc: 0.9844. Val loss: 0.1070 acc: 0.7625 aps: 0.0000. Patience left: 154\n",
      "Epoch 327 took 0.29s. Train loss: 0.0278 acc: 0.9844. Val loss: 0.1113 acc: 0.7125 aps: 0.0000. Patience left: 153\n",
      "Epoch 328 took 0.28s. Train loss: 0.0272 acc: 0.9844. Val loss: 0.1139 acc: 0.7086 aps: 0.0000. Patience left: 152\n",
      "Epoch 329 took 0.28s. Train loss: 0.0278 acc: 0.9844. Val loss: 0.1120 acc: 0.7586 aps: 0.0000. Patience left: 151\n",
      "Epoch 330 took 0.27s. Train loss: 0.0273 acc: 0.9844. Val loss: 0.1065 acc: 0.7625 aps: 0.0000. Patience left: 150\n",
      "Epoch 331 took 0.29s. Train loss: 0.0278 acc: 0.9844. Val loss: 0.1119 acc: 0.7125 aps: 0.0000. Patience left: 149\n",
      "Epoch 332 took 0.28s. Train loss: 0.0268 acc: 0.9844. Val loss: 0.1126 acc: 0.7586 aps: 0.0000. Patience left: 148\n",
      "Epoch 333 took 0.30s. Train loss: 0.0266 acc: 0.9844. Val loss: 0.1101 acc: 0.7586 aps: 0.0000. Patience left: 147\n",
      "Epoch 334 took 0.28s. Train loss: 0.0262 acc: 0.9844. Val loss: 0.1098 acc: 0.7625 aps: 0.0000. Patience left: 146\n",
      "Epoch 335 took 0.28s. Train loss: 0.0262 acc: 0.9844. Val loss: 0.1123 acc: 0.7125 aps: 0.0000. Patience left: 145\n",
      "Epoch 336 took 0.27s. Train loss: 0.0257 acc: 0.9852. Val loss: 0.1141 acc: 0.7125 aps: 0.0000. Patience left: 144\n",
      "Epoch 337 took 0.28s. Train loss: 0.0262 acc: 0.9852. Val loss: 0.1105 acc: 0.7625 aps: 0.0000. Patience left: 143\n",
      "Epoch 338 took 0.31s. Train loss: 0.0261 acc: 0.9852. Val loss: 0.1093 acc: 0.7625 aps: 0.0000. Patience left: 142\n",
      "Epoch 339 took 0.27s. Train loss: 0.0266 acc: 0.9852. Val loss: 0.1129 acc: 0.7125 aps: 0.0000. Patience left: 141\n",
      "Epoch 340 took 0.28s. Train loss: 0.0263 acc: 0.9852. Val loss: 0.1134 acc: 0.7586 aps: 0.0000. Patience left: 140\n",
      "Epoch 341 took 0.29s. Train loss: 0.0269 acc: 0.9852. Val loss: 0.1106 acc: 0.7586 aps: 0.0000. Patience left: 139\n",
      "Epoch 342 took 0.28s. Train loss: 0.0264 acc: 0.9852. Val loss: 0.1085 acc: 0.7625 aps: 0.0000. Patience left: 138\n",
      "Epoch 343 took 0.28s. Train loss: 0.0267 acc: 0.9852. Val loss: 0.1119 acc: 0.7125 aps: 0.0000. Patience left: 137\n",
      "Epoch 344 took 0.27s. Train loss: 0.0258 acc: 0.9852. Val loss: 0.1140 acc: 0.7625 aps: 0.0000. Patience left: 136\n",
      "Epoch 345 took 0.29s. Train loss: 0.0263 acc: 0.9852. Val loss: 0.1102 acc: 0.7625 aps: 0.0000. Patience left: 135\n",
      "Epoch 346 took 0.28s. Train loss: 0.0262 acc: 0.9852. Val loss: 0.1073 acc: 0.7586 aps: 0.0000. Patience left: 134\n",
      "Epoch 347 took 0.28s. Train loss: 0.0265 acc: 0.9852. Val loss: 0.1122 acc: 0.7625 aps: 0.0000. Patience left: 133\n",
      "Epoch 348 took 0.29s. Train loss: 0.0261 acc: 0.9852. Val loss: 0.1112 acc: 0.7586 aps: 0.0000. Patience left: 132\n",
      "Epoch 349 took 0.28s. Train loss: 0.0261 acc: 0.9852. Val loss: 0.1099 acc: 0.7625 aps: 0.0000. Patience left: 131\n",
      "Epoch 350 took 0.28s. Train loss: 0.0259 acc: 0.9852. Val loss: 0.1090 acc: 0.7625 aps: 0.0000. Patience left: 130\n",
      "Epoch 351 took 0.28s. Train loss: 0.0254 acc: 0.9852. Val loss: 0.1117 acc: 0.7625 aps: 0.0000. Patience left: 129\n",
      "Epoch 352 took 0.29s. Train loss: 0.0253 acc: 0.9852. Val loss: 0.1118 acc: 0.7625 aps: 0.0000. Patience left: 128\n",
      "Epoch 353 took 0.27s. Train loss: 0.0254 acc: 0.9852. Val loss: 0.1088 acc: 0.7586 aps: 0.0000. Patience left: 127\n",
      "Epoch 354 took 0.28s. Train loss: 0.0254 acc: 0.9852. Val loss: 0.1095 acc: 0.7625 aps: 0.0000. Patience left: 126\n",
      "Epoch 355 took 0.28s. Train loss: 0.0254 acc: 0.9852. Val loss: 0.1112 acc: 0.7625 aps: 0.0000. Patience left: 125\n",
      "Epoch 356 took 0.27s. Train loss: 0.0254 acc: 0.9852. Val loss: 0.1122 acc: 0.7586 aps: 0.0000. Patience left: 124\n",
      "Epoch 357 took 0.28s. Train loss: 0.0256 acc: 0.9852. Val loss: 0.1089 acc: 0.7625 aps: 0.0000. Patience left: 123\n",
      "Epoch 358 took 0.29s. Train loss: 0.0254 acc: 0.9852. Val loss: 0.1081 acc: 0.7625 aps: 0.0000. Patience left: 122\n",
      "Epoch 359 took 0.28s. Train loss: 0.0258 acc: 0.9852. Val loss: 0.1117 acc: 0.7625 aps: 0.0000. Patience left: 121\n",
      "Epoch 360 took 0.28s. Train loss: 0.0256 acc: 0.9852. Val loss: 0.1131 acc: 0.7625 aps: 0.0000. Patience left: 120\n",
      "Epoch 361 took 0.29s. Train loss: 0.0264 acc: 0.9852. Val loss: 0.1080 acc: 0.7586 aps: 0.0000. Patience left: 119\n",
      "Epoch 362 took 0.29s. Train loss: 0.0262 acc: 0.9852. Val loss: 0.1075 acc: 0.7625 aps: 0.0000. Patience left: 118\n",
      "Epoch 363 took 0.30s. Train loss: 0.0264 acc: 0.9852. Val loss: 0.1109 acc: 0.7625 aps: 0.0000. Patience left: 117\n",
      "Epoch 364 took 0.28s. Train loss: 0.0257 acc: 0.9852. Val loss: 0.1106 acc: 0.7586 aps: 0.0000. Patience left: 116\n",
      "Epoch 365 took 0.27s. Train loss: 0.0257 acc: 0.9852. Val loss: 0.1082 acc: 0.7625 aps: 0.0000. Patience left: 115\n",
      "Epoch 366 took 0.29s. Train loss: 0.0255 acc: 0.9852. Val loss: 0.1080 acc: 0.7625 aps: 0.0000. Patience left: 114\n",
      "Epoch 367 took 0.28s. Train loss: 0.0252 acc: 0.9852. Val loss: 0.1112 acc: 0.7625 aps: 0.0000. Patience left: 113\n",
      "Epoch 368 took 0.30s. Train loss: 0.0253 acc: 0.9852. Val loss: 0.1097 acc: 0.7586 aps: 0.0000. Patience left: 112\n",
      "Epoch 369 took 0.28s. Train loss: 0.0252 acc: 0.9852. Val loss: 0.1078 acc: 0.7625 aps: 0.0000. Patience left: 111\n",
      "Epoch 370 took 0.28s. Train loss: 0.0254 acc: 0.9852. Val loss: 0.1085 acc: 0.7625 aps: 0.0000. Patience left: 110\n",
      "Epoch 371 took 0.27s. Train loss: 0.0252 acc: 0.9844. Val loss: 0.1114 acc: 0.7625 aps: 0.0000. Patience left: 109\n",
      "Epoch 372 took 0.27s. Train loss: 0.0253 acc: 0.9844. Val loss: 0.1103 acc: 0.7586 aps: 0.0000. Patience left: 108\n",
      "Epoch 373 took 0.28s. Train loss: 0.0254 acc: 0.9852. Val loss: 0.1068 acc: 0.7625 aps: 0.0000. Patience left: 107\n",
      "Epoch 374 took 0.29s. Train loss: 0.0254 acc: 0.9852. Val loss: 0.1084 acc: 0.7625 aps: 0.0000. Patience left: 106\n",
      "Epoch 375 took 0.28s. Train loss: 0.0252 acc: 0.9852. Val loss: 0.1110 acc: 0.7625 aps: 0.0000. Patience left: 105\n",
      "Epoch 376 took 0.29s. Train loss: 0.0255 acc: 0.9852. Val loss: 0.1096 acc: 0.7625 aps: 0.0000. Patience left: 104\n",
      "Epoch 377 took 0.27s. Train loss: 0.0255 acc: 0.9852. Val loss: 0.1055 acc: 0.7586 aps: 0.0000. Patience left: 103\n",
      "Epoch 378 took 0.28s. Train loss: 0.0257 acc: 0.9852. Val loss: 0.1089 acc: 0.7664 aps: 0.0000. Patience left: 102\n",
      "Epoch 379 took 0.29s. Train loss: 0.0254 acc: 0.9852. Val loss: 0.1096 acc: 0.7625 aps: 0.0000. Patience left: 101\n",
      "Epoch 380 took 0.28s. Train loss: 0.0255 acc: 0.9852. Val loss: 0.1085 acc: 0.7586 aps: 0.0000. Patience left: 100\n",
      "Epoch 381 took 0.27s. Train loss: 0.0254 acc: 0.9852. Val loss: 0.1062 acc: 0.7664 aps: 0.0000. Patience left: 99\n",
      "Epoch 382 took 0.28s. Train loss: 0.0253 acc: 0.9852. Val loss: 0.1076 acc: 0.7625 aps: 0.0000. Patience left: 98\n",
      "Epoch 383 took 0.30s. Train loss: 0.0250 acc: 0.9852. Val loss: 0.1096 acc: 0.7586 aps: 0.0000. Patience left: 97\n",
      "Epoch 384 took 0.29s. Train loss: 0.0253 acc: 0.9852. Val loss: 0.1071 acc: 0.7625 aps: 0.0000. Patience left: 96\n",
      "Epoch 385 took 0.29s. Train loss: 0.0251 acc: 0.9852. Val loss: 0.1041 acc: 0.7586 aps: 0.0000. Patience left: 95\n",
      "Epoch 386 took 0.28s. Train loss: 0.0254 acc: 0.9852. Val loss: 0.1075 acc: 0.7664 aps: 0.0000. Patience left: 94\n",
      "Epoch 387 took 0.28s. Train loss: 0.0252 acc: 0.9852. Val loss: 0.1094 acc: 0.7625 aps: 0.0000. Patience left: 93\n",
      "Epoch 388 took 0.27s. Train loss: 0.0257 acc: 0.9852. Val loss: 0.1066 acc: 0.7586 aps: 0.0000. Patience left: 92\n",
      "Epoch 389 took 0.28s. Train loss: 0.0257 acc: 0.9852. Val loss: 0.1039 acc: 0.7664 aps: 0.0000. Patience left: 91\n",
      "Epoch 390 took 0.28s. Train loss: 0.0259 acc: 0.9852. Val loss: 0.1065 acc: 0.7664 aps: 0.0000. Patience left: 90\n",
      "Epoch 391 took 0.27s. Train loss: 0.0252 acc: 0.9852. Val loss: 0.1089 acc: 0.7586 aps: 0.0000. Patience left: 89\n",
      "Epoch 392 took 0.27s. Train loss: 0.0254 acc: 0.9852. Val loss: 0.1056 acc: 0.7664 aps: 0.0000. Patience left: 88\n",
      "Epoch 393 took 0.27s. Train loss: 0.0250 acc: 0.9852. Val loss: 0.1045 acc: 0.7625 aps: 0.0000. Patience left: 87\n",
      "Epoch 394 took 0.30s. Train loss: 0.0250 acc: 0.9852. Val loss: 0.1076 acc: 0.7664 aps: 0.0000. Patience left: 86\n",
      "Epoch 395 took 0.29s. Train loss: 0.0249 acc: 0.9852. Val loss: 0.1077 acc: 0.7664 aps: 0.0000. Patience left: 85\n",
      "Epoch 396 took 0.29s. Train loss: 0.0249 acc: 0.9852. Val loss: 0.1048 acc: 0.7625 aps: 0.0000. Patience left: 84\n",
      "Epoch 397 took 0.29s. Train loss: 0.0249 acc: 0.9852. Val loss: 0.1055 acc: 0.7664 aps: 0.0000. Patience left: 83\n",
      "Epoch 398 took 0.30s. Train loss: 0.0249 acc: 0.9852. Val loss: 0.1071 acc: 0.7664 aps: 0.0000. Patience left: 82\n",
      "Epoch 399 took 0.28s. Train loss: 0.0248 acc: 0.9852. Val loss: 0.1077 acc: 0.7625 aps: 0.0000. Patience left: 81\n",
      "Epoch 400 took 0.28s. Train loss: 0.0248 acc: 0.9852. Val loss: 0.1048 acc: 0.7664 aps: 0.0000. Patience left: 80\n"
     ]
    }
   ],
   "source": [
    "my_model = MyModel(seq_len = 45,\n",
    "                 num_heads = 32, \n",
    "                 feature_dim = 36, \n",
    "                 embed_dim = 10, \n",
    "                 mid_dim = 32,\n",
    "                 dropout = 0.0,\n",
    "                 mha_out_dim = 1,\n",
    "                 hidden = 32)\n",
    "model, train_accs, val_accs, train_loss_all, val_loss_all, val_aps_all = train_skewed_rc_model(my_model, simp_train_dataloader, simp_validation_dataloader, epochs=400, patience=400, verbose=True, device=device)"
   ]
  },
  {
   "cell_type": "code",
   "execution_count": 353,
   "id": "qualified-denver",
   "metadata": {},
   "outputs": [
    {
     "data": {
      "image/png": "[encoded data removed]",
      "text/plain": [
       "<Figure size 432x288 with 1 Axes>"
      ]
     },
     "metadata": {
      "needs_background": "light"
     },
     "output_type": "display_data"
    }
   ],
   "source": [
    "plt.plot(train_loss_all, label='train loss')\n",
    "plt.plot(val_loss_all, label='val loss')\n",
    "plt.legend()\n",
    "plt.savefig('loss_psi.png')"
   ]
  },
  {
   "cell_type": "code",
   "execution_count": 336,
   "id": "jewish-junction",
   "metadata": {},
   "outputs": [
    {
     "name": "stdout",
     "output_type": "stream",
     "text": [
      "0.142667 0.6306818 0.0\n"
     ]
    }
   ],
   "source": [
    "test_loss, test_acc, test_aps = run_one_epoch(False, simp_test_dataloader, my_model, _, device)\n",
    "print(test_loss, test_acc, test_aps)"
   ]
  },
  {
   "cell_type": "code",
   "execution_count": 337,
   "id": "foreign-provider",
   "metadata": {},
   "outputs": [
    {
     "name": "stdout",
     "output_type": "stream",
     "text": [
      "0\n",
      "0\n",
      "tensor([0.8856, 0.0709, 0.9102, 0.9239, 0.1494, 0.7856, 0.2184, 0.1750])\n",
      "[1 0 1 1 0 1 0 0]\n",
      "tensor([0.1537, 0.0000, 0.4187, 0.8457, 0.7375, 0.4834, 0.7794, 0.7932],\n",
      "       device='cuda:0')\n",
      "tensor([0.0526, 0.0733, 0.3031, 0.7700, 0.2753, 0.1703, 0.0905, 0.9080])\n",
      "[0 0 0 1 0 0 0 1]\n",
      "tensor([0.4271, 0.4144, 0.3756, 0.7112, 0.4425, 0.7758, 0.2049, 0.3728],\n",
      "       device='cuda:0')\n",
      "tensor([0.9000, 0.9289, 0.7672, 0.9315, 0.0715, 0.1877, 0.0765, 0.1203])\n",
      "[1 1 1 1 0 0 0 0]\n",
      "tensor([0.8245, 0.3171, 0.8132, 0.1085, 0.5171, 0.4729, 0.0954, 0.7323],\n",
      "       device='cuda:0')\n",
      "tensor([0.0653, 0.9279, 0.7238, 0.0723, 0.1479, 0.8806, 0.1594, 0.7515])\n",
      "[0 1 1 0 0 1 0 1]\n",
      "tensor([0.3323, 0.1723, 0.8312, 0.0000, 0.7237, 0.8267, 0.9795, 0.9139],\n",
      "       device='cuda:0')\n",
      "tensor([0.9089, 0.1347, 0.0830, 0.7119, 0.2093, 0.9323, 0.1533, 0.3063])\n",
      "[1 0 0 1 0 1 0 0]\n",
      "tensor([0.0753, 0.9409, 0.7063, 0.2566, 0.7116, 0.7472, 0.0000, 0.1684],\n",
      "       device='cuda:0')\n",
      "tensor([0.9430, 0.9499, 0.9199, 0.3287, 0.1423, 0.1064, 0.1301, 0.1336])\n",
      "[1 1 1 0 0 0 0 0]\n",
      "tensor([0.4175, 0.2841, 0.1804, 0.6395, 0.5551, 0.5652, 0.8939, 0.0589],\n",
      "       device='cuda:0')\n",
      "tensor([0.1219, 0.9011, 0.8557, 0.1111, 0.7320, 0.0669, 0.7733, 0.7080])\n",
      "[0 1 1 0 1 0 1 1]\n",
      "tensor([0.2533, 0.8367, 0.7791, 0.3311, 0.0000, 0.7798, 0.8720, 0.2049],\n",
      "       device='cuda:0')\n",
      "tensor([0.1391, 0.7826, 0.9327, 0.8306, 0.6760, 0.9011, 0.8148, 0.8624])\n",
      "[0 1 1 1 1 1 1 1]\n",
      "tensor([0.5385, 0.4695, 0.4987, 0.5053, 0.6922, 0.4182, 0.9470, 0.1861],\n",
      "       device='cuda:0')\n",
      "tensor([0.9251, 0.9170, 0.7766, 0.9415, 0.7796, 0.7822, 0.9333, 0.6270])\n",
      "[1 1 1 1 1 1 1 1]\n",
      "tensor([0.4576, 0.8533, 0.9690, 0.9345, 0.5646, 0.8588, 0.9154, 0.2554],\n",
      "       device='cuda:0')\n",
      "tensor([0.8683, 0.9437, 0.9346, 0.7816, 0.9137, 0.8439, 0.8870, 0.9070])\n",
      "[1 1 1 1 1 1 1 1]\n",
      "tensor([0.1898, 0.9547, 0.6866, 0.5626, 0.9218, 0.6414, 0.9583, 0.8943],\n",
      "       device='cuda:0')\n",
      "tensor([0.9288, 0.8019, 0.9319, 0.7722, 0.9195, 0.9118, 0.9289, 0.8884])\n",
      "[1 1 1 1 1 1 1 1]\n",
      "tensor([0.4435, 0.8485, 0.4397, 0.7393, 0.9205, 0.3020, 0.2234, 0.7961],\n",
      "       device='cuda:0')\n",
      "tensor([0.9456, 0.8685, 0.7894, 0.7548, 0.8301, 0.9400, 0.7900, 0.7369])\n",
      "[1 1 1 1 1 1 1 1]\n",
      "tensor([0.1942, 0.9623, 0.5153, 0.4841, 0.9789, 0.8970, 0.3927, 0.5571],\n",
      "       device='cuda:0')\n",
      "tensor([0.7412, 0.8618, 0.8097, 0.9362, 0.8274, 0.6662, 0.8717, 0.8028])\n",
      "[1 1 1 1 1 1 1 1]\n",
      "tensor([0.4171, 0.8397, 0.4321, 0.9330, 0.2060, 0.1821, 0.8420, 0.6004],\n",
      "       device='cuda:0')\n",
      "tensor([0.8158, 0.9185, 0.9209, 0.9221, 0.8651, 0.7105, 0.7964, 0.7796])\n",
      "[1 1 1 1 1 1 1 1]\n",
      "tensor([0.0000, 0.2587, 0.2837, 0.9568, 0.4928, 0.7276, 0.3421, 0.5612],\n",
      "       device='cuda:0')\n",
      "tensor([0.9183, 0.9369, 0.6485, 0.9356, 0.8182, 0.8388, 0.8102, 0.9176])\n",
      "[1 1 1 1 1 1 1 1]\n",
      "tensor([0.6795, 0.6718, 0.2527, 0.9619, 0.8462, 0.9715, 0.6324, 0.7020],\n",
      "       device='cuda:0')\n",
      "tensor([0.8653, 0.8976, 0.8790, 0.7526, 0.7222, 0.8589, 0.7163, 0.9159])\n",
      "[1 1 1 1 1 1 1 1]\n",
      "tensor([0.8623, 0.8369, 0.5710, 0.8584, 0.8676, 0.9220, 0.9779, 0.8767],\n",
      "       device='cuda:0')\n",
      "tensor([0.7282, 0.8426, 0.9376, 0.7362, 0.9119, 0.8774, 0.7214, 0.8986])\n",
      "[1 1 1 1 1 1 1 1]\n",
      "tensor([0.8690, 0.8486, 0.8043, 0.3730, 0.9380, 0.2697, 0.2562, 0.9744],\n",
      "       device='cuda:0')\n",
      "tensor([0.8277, 0.9252, 0.8523, 0.9250, 0.8760, 0.9424, 0.8042, 0.7772])\n",
      "[1 1 1 1 1 1 1 1]\n",
      "tensor([0.2763, 0.8889, 0.6481, 1.0024, 0.8466, 0.1734, 0.9385, 0.9485],\n",
      "       device='cuda:0')\n",
      "tensor([0.9345, 0.9322, 0.8714, 0.8113, 0.8773, 0.9192, 0.7503, 0.8618])\n",
      "[1 1 1 1 1 1 1 1]\n",
      "tensor([0.8246, 0.0000, 0.6124, 0.4314, 0.8953, 0.7895, 0.9500, 0.9262],\n",
      "       device='cuda:0')\n",
      "tensor([0.9242, 0.9111, 0.9190, 0.7869, 0.6701, 0.7985, 0.8672, 0.9112])\n",
      "[1 1 1 1 1 1 1 1]\n",
      "tensor([0.7883, 0.4034, 0.6841, 0.9956, 0.9354, 0.6344, 1.0051, 0.8654],\n",
      "       device='cuda:0')\n",
      "tensor([0.8776, 0.9188, 0.8513, 0.7655, 0.8525, 0.8367, 0.5516, 0.8235])\n",
      "[1 1 1 1 1 1 1 1]\n",
      "tensor([0.5878, 0.7357, 0.9231, 0.7853, 0.8121, 0.0000, 0.1686, 0.7670],\n",
      "       device='cuda:0')\n",
      "tensor([0.9010, 0.8522, 0.8668, 0.9130, 0.8484])\n",
      "[1 1 1 1 1]\n",
      "tensor([0.5545, 1.0121, 0.9009, 1.0131, 0.5043], device='cuda:0')\n"
     ]
    }
   ],
   "source": [
    "print(np.sum(y_test == 0))\n",
    "print(np.sum(y_test == 1))\n",
    "for X,y in simp_test_dataloader:\n",
    "    print(y)\n",
    "    y_bin = (y.detach().cpu().numpy()>0.5).astype(int)\n",
    "    print(y_bin)\n",
    "    print(my_model(torch.transpose(X.to(device).float(), 1, 2)))"
   ]
  },
  {
   "cell_type": "code",
   "execution_count": 351,
   "id": "incorporate-belfast",
   "metadata": {},
   "outputs": [
    {
     "data": {
      "image/png": "[encoded data removed]",
      "text/plain": [
       "<Figure size 432x288 with 1 Axes>"
      ]
     },
     "metadata": {
      "needs_background": "light"
     },
     "output_type": "display_data"
    }
   ],
   "source": [
    "y_pred = my_model(torch.transpose(torch.from_numpy(X_test).to(device).float(), 1, 2)).detach().cpu().numpy()\n",
    "plt.scatter(y_pred, y_test)\n",
    "\n",
    "popt, pcov = curve_fit(mse, y_pred, y_test) \n",
    "abline(popt[0], popt[1])\n",
    "plt.savefig('scatter_plot.png')"
   ]
  },
  {
   "cell_type": "code",
   "execution_count": 356,
   "id": "matched-cambodia",
   "metadata": {},
   "outputs": [
    {
     "data": {
      "image/png": "[encoded data removed]",
      "text/plain": [
       "<Figure size 432x288 with 1 Axes>"
      ]
     },
     "metadata": {
      "needs_background": "light"
     },
     "output_type": "display_data"
    }
   ],
   "source": [
    "import sklearn.metrics as metrics\n",
    "y_pred = my_model(torch.transpose(torch.from_numpy(X_test).to(device).float(), 1, 2)).detach().cpu().numpy()\n",
    "y_test_bin = (y_test>0.5).astype(int)\n",
    "fpr, tpr, threshold = metrics.roc_curve(y_test_bin, y_pred)\n",
    "roc_auc = metrics.auc(fpr, tpr)\n",
    "\n",
    "# method I: plt\n",
    "import matplotlib.pyplot as plt\n",
    "plt.title('Receiver Operating Characteristic')\n",
    "plt.plot(fpr, tpr, 'b', label = 'AUC = %0.2f' % roc_auc)\n",
    "plt.legend(loc = 'lower right')\n",
    "plt.plot([0, 1], [0, 1],'r--')\n",
    "plt.xlim([0, 1])\n",
    "plt.ylim([0, 1])\n",
    "plt.ylabel('True Positive Rate')\n",
    "plt.xlabel('False Positive Rate')\n",
    "\n",
    "plt.savefig('ROC_psi.png')"
   ]
  },
  {
   "cell_type": "code",
   "execution_count": null,
   "id": "blessed-raising",
   "metadata": {},
   "outputs": [],
   "source": []
  }
 ],
 "metadata": {
  "kernelspec": {
   "display_name": "Python 3",
   "language": "python",
   "name": "python3"
  },
  "language_info": {
   "codemirror_mode": {
    "name": "ipython",
    "version": 3
   },
   "file_extension": ".py",
   "mimetype": "text/x-python",
   "name": "python",
   "nbconvert_exporter": "python",
   "pygments_lexer": "ipython3",
   "version": "3.8.8"
  }
 },
 "nbformat": 4,
 "nbformat_minor": 5
}
